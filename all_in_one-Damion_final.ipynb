{
  "nbformat": 4,
  "nbformat_minor": 0,
  "metadata": {
    "colab": {
      "provenance": [],
      "authorship_tag": "ABX9TyO+LiT8tvvCL1/M9GhJP8VW",
      "include_colab_link": true
    },
    "kernelspec": {
      "name": "python3",
      "display_name": "Python 3"
    },
    "language_info": {
      "name": "python"
    },
    "gpuClass": "standard",
    "accelerator": "GPU"
  },
  "cells": [
    {
      "cell_type": "markdown",
      "metadata": {
        "id": "view-in-github",
        "colab_type": "text"
      },
      "source": [
        "<a href=\"https://colab.research.google.com/github/mtjon/infompr-group-project/blob/all_in_one/all_in_one-Damion_final.ipynb\" target=\"_parent\"><img src=\"https://colab.research.google.com/assets/colab-badge.svg\" alt=\"Open In Colab\"/></a>"
      ]
    },
    {
      "cell_type": "markdown",
      "source": [
        "For this notebook elemets were taken from:\n",
        "1. https://www.tensorflow.org/text/tutorials/nmt_with_attention, and;\n",
        "2. https://www.tensorflow.org/text/tutorials/transformer\n",
        "\n",
        "For the RNN + GRU, bi-directional layer was removed. For the transformer, all sub-classing has been copied, as well as custom learning schedule.\n",
        "\n",
        "Data-preprocessing has been adopted to fit the dataset used, which can be found here:\n",
        "- Data loading: https://github.com/EagleW/Writing-editing-Network/blob/master/split_data.py\n",
        "- Dataset: https://github.com/EagleW/ACL_titles_abstracts_dataset\n",
        "\n",
        "We've manually adjusted the dataset to remove the empty rows between title-abstract pairs, and adjusted the data loading code to work with the changes accordingly."
      ],
      "metadata": {
        "id": "Q7k2Rb8uLP14"
      }
    },
    {
      "cell_type": "markdown",
      "source": [
        "# Installing and loading Required packages"
      ],
      "metadata": {
        "id": "YIdpCzRxMTLv"
      }
    },
    {
      "cell_type": "code",
      "source": [
        "# Install the most re version of TensorFlow to use the improved\n",
        "# masking support for `tf.keras.layers.MultiHeadAttention`.\n",
        "!apt install --allow-change-held-packages libcudnn8=8.1.0.77-1+cuda11.2\n",
        "!pip uninstall -y -q tensorflow keras tensorflow-estimator tensorflow-text\n",
        "!pip install -q tensorflow_datasets\n",
        "!pip install -q -U tensorflow-text==2.11.* tensorflow==2.11.*\n",
        "!pip install einops"
      ],
      "metadata": {
        "id": "S-xUpwPLMTBU",
        "colab": {
          "base_uri": "https://localhost:8080/"
        },
        "outputId": "7f2749cb-c338-49db-c73e-798a8a3a4c99"
      },
      "execution_count": 1,
      "outputs": [
        {
          "output_type": "stream",
          "name": "stdout",
          "text": [
            "Reading package lists... Done\n",
            "Building dependency tree       \n",
            "Reading state information... Done\n",
            "libcudnn8 is already the newest version (8.1.0.77-1+cuda11.2).\n",
            "0 upgraded, 0 newly installed, 0 to remove and 21 not upgraded.\n",
            "\u001b[33mWARNING: Skipping tensorflow as it is not installed.\u001b[0m\u001b[33m\n",
            "\u001b[0m\u001b[33mWARNING: Skipping keras as it is not installed.\u001b[0m\u001b[33m\n",
            "\u001b[0m\u001b[33mWARNING: Skipping tensorflow-estimator as it is not installed.\u001b[0m\u001b[33m\n",
            "\u001b[0m\u001b[33mWARNING: Skipping tensorflow-text as it is not installed.\u001b[0m\u001b[33m\n",
            "\u001b[2K     \u001b[90m━━━━━━━━━━━━━━━━━━━━━━━━━━━━━━━━━━━━━━━━\u001b[0m \u001b[32m5.8/5.8 MB\u001b[0m \u001b[31m72.6 MB/s\u001b[0m eta \u001b[36m0:00:00\u001b[0m\n",
            "\u001b[2K     \u001b[90m━━━━━━━━━━━━━━━━━━━━━━━━━━━━━━━━━━━━━━━\u001b[0m \u001b[32m588.3/588.3 MB\u001b[0m \u001b[31m2.3 MB/s\u001b[0m eta \u001b[36m0:00:00\u001b[0m\n",
            "\u001b[2K     \u001b[90m━━━━━━━━━━━━━━━━━━━━━━━━━━━━━━━━━━━━━━\u001b[0m \u001b[32m439.2/439.2 KB\u001b[0m \u001b[31m21.2 MB/s\u001b[0m eta \u001b[36m0:00:00\u001b[0m\n",
            "\u001b[2K     \u001b[90m━━━━━━━━━━━━━━━━━━━━━━━━━━━━━━━━━━━━━━━━\u001b[0m \u001b[32m1.7/1.7 MB\u001b[0m \u001b[31m60.4 MB/s\u001b[0m eta \u001b[36m0:00:00\u001b[0m\n",
            "\u001b[2K     \u001b[90m━━━━━━━━━━━━━━━━━━━━━━━━━━━━━━━━━━━━━━━━\u001b[0m \u001b[32m6.0/6.0 MB\u001b[0m \u001b[31m75.2 MB/s\u001b[0m eta \u001b[36m0:00:00\u001b[0m\n",
            "\u001b[?25hLooking in indexes: https://pypi.org/simple, https://us-python.pkg.dev/colab-wheels/public/simple/\n",
            "Requirement already satisfied: einops in /usr/local/lib/python3.8/dist-packages (0.6.0)\n"
          ]
        }
      ]
    },
    {
      "cell_type": "code",
      "source": [
        "import logging\n",
        "import time\n",
        "\n",
        "import numpy as np\n",
        "import matplotlib.pyplot as plt\n",
        "\n",
        "import tensorflow_datasets as tfds\n",
        "import tensorflow as tf\n",
        "\n",
        "import tensorflow_text\n",
        "import tensorflow_text as tf_text\n",
        "\n",
        "# For data loading and shuffling\n",
        "import random\n",
        "from random import shuffle\n",
        "\n",
        "# for shape checking -> used in RNN and GRU, see class below\n",
        "import einops"
      ],
      "metadata": {
        "id": "Uy5TSM4NMeVX"
      },
      "execution_count": 2,
      "outputs": []
    },
    {
      "cell_type": "code",
      "source": [
        "#@title\n",
        "class ShapeChecker():\n",
        "  def __init__(self):\n",
        "    # Keep a cache of every axis-name seen\n",
        "    self.shapes = {}\n",
        "\n",
        "  def __call__(self, tensor, names, broadcast=False):\n",
        "    if not tf.executing_eagerly():\n",
        "      return\n",
        "\n",
        "    parsed = einops.parse_shape(tensor, names)\n",
        "\n",
        "    for name, new_dim in parsed.items():\n",
        "      old_dim = self.shapes.get(name, None)\n",
        "      \n",
        "      if (broadcast and new_dim == 1):\n",
        "        continue\n",
        "\n",
        "      if old_dim is None:\n",
        "        # If the axis name is new, add its length to the cache.\n",
        "        self.shapes[name] = new_dim\n",
        "        continue\n",
        "\n",
        "      if new_dim != old_dim:\n",
        "        raise ValueError(f\"Shape mismatch for dimension: '{name}'\\n\"\n",
        "                         f\"    found: {new_dim}\\n\"\n",
        "                         f\"    expected: {old_dim}\\n\")"
      ],
      "metadata": {
        "id": "bR5vmAK5Msbc"
      },
      "execution_count": 3,
      "outputs": []
    },
    {
      "cell_type": "markdown",
      "source": [
        "# Data Loading"
      ],
      "metadata": {
        "id": "acobDY2eMGRx"
      }
    },
    {
      "cell_type": "markdown",
      "source": [
        "## Functions"
      ],
      "metadata": {
        "id": "TMkQ7LwANOOg"
      }
    },
    {
      "cell_type": "code",
      "source": [
        "# modified data externally to remove all blank lines\n",
        "random.seed(42)\n",
        "def write_data(f, ext, mod):\n",
        "    # Code van https://github.com/EagleW/Writing-editing-Network/blob/master/split_data.py\n",
        "    file1=open(f, 'r')\n",
        "    lines=file1.readlines()\n",
        "    print(len(lines))\n",
        "    file1.close()\n",
        "    abs_t = []\n",
        "    abstracts = []\n",
        "    titles = []\n",
        "    i = 0\n",
        "    # TODO: possibly generates wrong tibs/abs when encounter\n",
        "    for line in lines:\n",
        "        if i % mod == 0:\n",
        "            titles.append(line)\n",
        "        elif i % mod == 1:\n",
        "            abstracts.append(line)\n",
        "        i += 1\n",
        "    for i in range(len(abstracts)):\n",
        "        if len(titles[i]) > 0 and len(abstracts[i]) > 0:\n",
        "            h_a_pair = (titles[i], abstracts[i])\n",
        "            abs_t.append(h_a_pair)\n",
        "    shuffle(abs_t)\n",
        "    total = len(abs_t)\n",
        "    dev = total//10\n",
        "    train  = total - dev - dev\n",
        "    i = 0\n",
        "    file1=open(\"val{}.txt\".format(ext), 'w')\n",
        "    for i in range(dev):\n",
        "        file1.writelines(abs_t[i][0])\n",
        "        file1.writelines(abs_t[i][1])\n",
        "    #    file1.writelines(\"\\n\")\n",
        "    file1.close()\n",
        "    file1=open(\"test{}.txt\".format(ext), 'w')\n",
        "    for i in range(dev, 2 * dev):\n",
        "        file1.writelines(abs_t[i][0])\n",
        "        file1.writelines(abs_t[i][1])\n",
        "    #    file1.writelines(\"\\n\")\n",
        "    file1.close()\n",
        "    file1=open(\"train{}.txt\".format(ext), 'w')\n",
        "    for i in range(2 * dev, total):\n",
        "        file1.writelines(abs_t[i][0])\n",
        "        file1.writelines(abs_t[i][1])\n",
        "    #    file1.writelines(\"\\n\")\n",
        "    file1.close()\n",
        "\n",
        "def get_abs_and_titles_from_raw(path_to_file):\n",
        "    abstracts, titles = [], []\n",
        "    abscount, titcount = 0, 0\n",
        "    with open(path_to_file) as data:\n",
        "        lines = data.readlines()\n",
        "        print(len(lines))\n",
        "        for abs in lines[1::2]:\n",
        "            abstracts.append(abs.strip())\n",
        "            abscount += 1\n",
        "        for title in lines[0::2]:\n",
        "            # // TODO: check if we need to add start and end tokens\n",
        "            titles.append(title.strip())\n",
        "            titcount+=1\n",
        "            # titles.append('[START] ' + title.strip() + ' [END]')\n",
        "    print(abscount, titcount)\n",
        "    # print(titles[-1],'\\n',titles[-2])\n",
        "    return abstracts, titles"
      ],
      "metadata": {
        "id": "7jhRoUQrMHwf"
      },
      "execution_count": 4,
      "outputs": []
    },
    {
      "cell_type": "markdown",
      "source": [
        "## Loading data\n",
        "\n",
        "Make sure to have the modified dataset uploaden (i.e., ACL title+abs data set with empty rows removed).\n",
        "\n",
        "### Writing and loading text files"
      ],
      "metadata": {
        "id": "ph95j8o-NRHJ"
      }
    },
    {
      "cell_type": "code",
      "source": [
        "write_data(\"acl_titles_and_abstracts_mod.txt\", \"\", 2) # writes train, val, test.txt"
      ],
      "metadata": {
        "id": "WYrrf-LoMH40",
        "colab": {
          "base_uri": "https://localhost:8080/"
        },
        "outputId": "a7fb54ef-038d-4242-ff83-9c1443c10064"
      },
      "execution_count": 5,
      "outputs": [
        {
          "output_type": "stream",
          "name": "stdout",
          "text": [
            "21750\n"
          ]
        }
      ]
    },
    {
      "cell_type": "code",
      "source": [
        "train_text, train_labels = get_abs_and_titles_from_raw('train.txt')\n",
        "val_text, val_labels = get_abs_and_titles_from_raw('val.txt')\n",
        "test_text, test_labels = get_abs_and_titles_from_raw('test.txt')"
      ],
      "metadata": {
        "id": "yKWdenZIMIAU",
        "colab": {
          "base_uri": "https://localhost:8080/"
        },
        "outputId": "957e3f81-0c4b-43c7-9ef5-efae31467970"
      },
      "execution_count": 6,
      "outputs": [
        {
          "output_type": "stream",
          "name": "stdout",
          "text": [
            "17402\n",
            "8701 8701\n",
            "2174\n",
            "1087 1087\n",
            "2174\n",
            "1087 1087\n"
          ]
        }
      ]
    },
    {
      "cell_type": "markdown",
      "source": [
        "### Sanity checks"
      ],
      "metadata": {
        "id": "nhYaxPDwMIJR"
      }
    },
    {
      "cell_type": "code",
      "source": [
        "print(train_labels[0])\n",
        "print(train_text[0])"
      ],
      "metadata": {
        "id": "Hvc13xoNMIhr",
        "colab": {
          "base_uri": "https://localhost:8080/"
        },
        "outputId": "1477d065-9c58-457e-bba6-7b4c77e5b1ec"
      },
      "execution_count": 7,
      "outputs": [
        {
          "output_type": "stream",
          "name": "stdout",
          "text": [
            "heideltime : tuning english and developing spanish resources\n",
            "in this paper , we describe our participation in the tempeval-3 challenge . with our multilingual temporal tagger heideltime , we addressed task a , the extraction and normalization of temporal expressions for english and spanish . exploiting heideltimes strict separation between source code and languagedependent parts , we tuned heideltimes existing english resources and developed new spanish resources . for both languages , we achieved the best results among all participants for task a , the combination of extraction and normalization . both the improved english and the new spanish resources are publicly available with heideltime .\n"
          ]
        }
      ]
    },
    {
      "cell_type": "code",
      "source": [
        "print(val_labels[0])\n",
        "print(val_text[0])"
      ],
      "metadata": {
        "id": "jU9dcSVdMIpu",
        "colab": {
          "base_uri": "https://localhost:8080/"
        },
        "outputId": "aa2969d1-42ab-4f4d-8d31-04ac52347637"
      },
      "execution_count": 8,
      "outputs": [
        {
          "output_type": "stream",
          "name": "stdout",
          "text": [
            "computational analysis to explore authors depiction of characters cecilia ovesdotter alm\n",
            "this study involves automatically identifying the sociolinguistic characteristics of fictional characters in plays by analyzing their written speech . we discuss three binary classification problems : predicting the characters gender ( male vs. female ) , age ( young vs. old ) , and socioeconomic standing ( upper-middle class vs. lower class ) . the text corpus used is an annotated collection of august strindberg and henrik ibsen plays , translated into english , which are in the public domain . these playwrights were chosen for their known attention to relevant socioeconomic issues in their work . linguistic and textual cues are extracted from the characters lines ( turns ) for modeling purposes . we report on the dataset as well as the performance and important features when predicting each of the sociolinguistic characteristics , comparing intra- and inter-author testing .\n"
          ]
        }
      ]
    },
    {
      "cell_type": "code",
      "source": [
        "print(test_labels[0])\n",
        "print(test_text[0])"
      ],
      "metadata": {
        "id": "87huQf8NMIxh",
        "colab": {
          "base_uri": "https://localhost:8080/"
        },
        "outputId": "bc467798-7229-4ef7-d4e0-95ea83e6cac7"
      },
      "execution_count": 9,
      "outputs": [
        {
          "output_type": "stream",
          "name": "stdout",
          "text": [
            "recognizing named entities in tweets\n",
            "the challenges of named entities recognition ( ner ) for tweets lie in the insufficient information in a tweet and the unavailability of training data . we propose to combine a k-nearest neighbors ( knn ) classifier with a linear conditional random fields ( crf ) model under a semi-supervised learning framework to tackle these challenges . the knn based classifier conducts pre-labeling to collect global coarse evidence across tweets while the crf model conducts sequential labeling to capture fine-grained information encoded in a tweet . the semi-supervised learning plus the gazetteers alleviate the lack of training data . extensive experiments show the advantages of our method over the baselines as well as the effectiveness of knn and semisupervised learning .\n"
          ]
        }
      ]
    },
    {
      "cell_type": "markdown",
      "source": [
        "### Batching"
      ],
      "metadata": {
        "id": "GEYzfYsdMI4o"
      }
    },
    {
      "cell_type": "code",
      "source": [
        "BATCH_SIZE = 64\n",
        "train_dataset = tf.data.Dataset.from_tensor_slices((train_text, train_labels)).batch(BATCH_SIZE)\n",
        "val_dataset = tf.data.Dataset.from_tensor_slices((val_text, val_labels)).batch(BATCH_SIZE)\n",
        "test_dataset = tf.data.Dataset.from_tensor_slices((test_text, test_labels)).batch(BATCH_SIZE)"
      ],
      "metadata": {
        "id": "Xz5sFZzTMJI5"
      },
      "execution_count": 10,
      "outputs": []
    },
    {
      "cell_type": "code",
      "source": [
        "counter = 0\n",
        "for abs, tit in train_dataset.take(1):\n",
        "    print('> Abstract examples:')\n",
        "    for i, a in enumerate(abs.numpy()):\n",
        "        print(i+1, a.decode('utf-8'))\n",
        "        \n",
        "    print()\n",
        "    \n",
        "    print('> Title examples:')\n",
        "    for i, t in enumerate(tit.numpy()):\n",
        "        print(i+1, t.decode('utf-8'))\n",
        "    \n",
        "    counter += 1\n",
        "    if counter == 10:\n",
        "        break"
      ],
      "metadata": {
        "id": "oMAJuyKRMJPg",
        "colab": {
          "base_uri": "https://localhost:8080/"
        },
        "outputId": "bd58a832-8150-45a6-83ad-d09695846bbd"
      },
      "execution_count": 11,
      "outputs": [
        {
          "output_type": "stream",
          "name": "stdout",
          "text": [
            "> Abstract examples:\n",
            "1 in this paper , we describe our participation in the tempeval-3 challenge . with our multilingual temporal tagger heideltime , we addressed task a , the extraction and normalization of temporal expressions for english and spanish . exploiting heideltimes strict separation between source code and languagedependent parts , we tuned heideltimes existing english resources and developed new spanish resources . for both languages , we achieved the best results among all participants for task a , the combination of extraction and normalization . both the improved english and the new spanish resources are publicly available with heideltime .\n",
            "2 we present three novel methods of compactly storing very large n-gram language models . these methods use substantially less space than all known approaches and allow n-gram probabilities or counts to be retrieved in constant time , at speeds comparable to modern language modeling toolkits . our basic approach generates an explicit minimal perfect hash function , that maps all n-grams in a model to distinct integers to enable storage of associated values . extensions of this approach exploit distributional characteristics of n-gram data to reduce storage costs , including variable length coding of values and the use of tiered structures that partition the data for more efficient storage . we apply our approach to storing the full google web1t n-gram set and all 1-to-5 grams of the gigaword newswire corpus . for the 1.5 billion n-grams of gigaword , for example , we can store full count information at a cost of 1.66 bytes per n-gram ( around 30 % of the cost when using the current stateof-the-art approach ) , or quantized counts for 1.41 bytes per n-gram . for applications that are tolerant of a certain class of relatively innocuous errors ( where unseen n-grams may be accepted as rare n-grams ) , we can reduce the latter cost to below 1 byte per n-gram .\n",
            "3 a poll consists of a question and a set of predefined answers from which voters can select . we present the new problem of vote prediction on comments , which involves determining which of these answers a voter selected given a comment she wrote after voting . to address this task , we exploit not only the information extracted from the comments but also extra-textual information such as user demographic information and inter-comment constraints . in an evaluation involving nearly one million comments collected from the popular sodahead social polling website , we show that a vote prediction system that exploits only textual information can be improved significantly when extended with extra-textual information .\n",
            "4 this paper examines two problems in document-level sentiment analysis : ( 1 ) determining whether a given document is a review or not , and ( 2 ) classifying the polarity of a review as positive or negative . we first demonstrate that review identification can be performed with high accuracy using only unigrams as features . we then examine the role of four types of simple linguistic knowledge sources in a polarity classification system .\n",
            "5 tree kernel is an effective technique for relation extraction . however , the traditional syntactic tree representation is often too coarse or ambiguous to accurately capture the semantic relation information between two entities . in this paper , we propose a new tree kernel , called feature-enriched tree kernel ( ftk ) , which can enhance the traditional tree kernel by : 1 ) refining the syntactic tree representation by annotating each tree node with a set of discriminant features ; and 2 ) proposing a new tree kernel which can better measure the syntactic tree similarity by taking all features into consideration . experimental results show that our method can achieve a 5.4 % f-measure improvement over the traditional convolution tree kernel .\n",
            "6 the work reported in this article presents a computational model of interpretation . the model proposes a cognitive architecture for intelligent agents to reason about competing analyses during interpretation and leverages the positive reinforcement principle .\n",
            "7 this article describes the construction of a morphological , syntactic and semantic analyzer to operate a high-grade search engine for hebrew texts . a good search engine must be complete and accurate . in hebrew or arabic script most of the vowels are not written , many particles are attached to the word without space , a double consonant is written with one letter , and some letters signify both vowels and consonants . thus , almost every string of characters may designate many words ( the average in hebrew is almost three words ) . as a consequence , deciphering a word necessitates reading the whole sentence . our model is fillmores framework of an expression with a verb as its center . the engine eliminates readings of words unsuited to the syntax or the semantic structure of the sentence . in every verbal entry of our conceptual dictionary the features of the noun phrases ( nps ) required by the verb are included . when all the correct readings of all the strings of characters in the sentence have been identified , the program chooses the proper occurrences of the searched word in the text . approximately 95 % of the results by our search engine match those in the query .\n",
            "8 in this paper we present a family of kernel functions , named syntagmatic kernels , which can be used to model syntagmatic relations . syntagmatic relations hold among words that are typically collocated in a sequential order , and thus they can be acquired by analyzing word sequences . in particular , syntagmatic kernels are defined by applying a word sequence kernel to the local contexts of the words to be analyzed . in addition , this approach allows us to define a semi supervised learning schema where external lexical knowledge is plugged into the supervised learning process . lexical knowledge is acquired from both unlabeled data and hand-made lexical resources , such as wordnet . we evaluated the syntagmatic kernel on two standard word sense disambiguation tasks ( i.e . english and italian lexical-sample tasks of senseval-3 ) , where the syntagmatic information plays a crucial role . we compared the syntagmatic kernel with the standard approach , showing promising improvements in performance .\n",
            "9 we introduce new features for incorporating semantic predicate-argument structures in machine translation ( mt ) . the methods focus on the completeness of the semantic structures of the translations , as well as the order of the translated semantic roles . we experiment with translation rules which contain the core arguments for the predicates in the source side of a mt system , and observe that using these rules significantly improves the translation quality . we also present a new semantic feature that resembles a language model . our results show that the language model feature can also significantly improve mt results .\n",
            "10 the most accurate unsupervised word segmentation systems that are currently available ( brent , 1999 ; venkataraman , 2001 ; goldwater , 2007 ) use a simple unigram model of phonotactics . while this simplifies some of the calculations , it overlooks cues that infant language acquisition researchers have shown to be useful for segmentation ( mattys et al , 1999 ; mattys and jusczyk , 2001 ) . here we explore the utility of using bigram and trigram phonotactic models by enhancing brents ( 1999 ) mbdp-1 algorithm . the results show the improved mbdp-phon model outperforms other unsupervised word segmentation systems ( e.g. , brent , 1999 ; venkataraman , 2001 ; goldwater , 2007 ) .\n",
            "11 word sense induction aims to discover different senses of a word from a corpus by using unsupervised learning approaches . once a sense inventory is obtained for an ambiguous word , word sense discrimination approaches choose the best-fitting single sense for a given context from the induced sense inventory . however , there may not be a clear distinction between one sense and another , although for a context , more than one induced sense can be suitable . graded word sense method allows for labeling a word in more than one sense . in contrast to the most common approach which is to apply clustering or graph partitioning on a representation of first or second order co-occurrences of a word , we propose a system that creates a substitute vector for each target word from the most likely substitutes suggested by a statistical language model . word samples are then taken according to probabilities of these substitutes and the results of the co-occurrence model are clustered . this approach outperforms the other systems on graded word sense induction task in semeval-2013 .\n",
            "12 we consider the problem of answering complex questions that require inferencing and synthesizing information from multiple documents and can be seen as a kind of topicoriented , informative multi-document summarization . the stochastic , graph-based method for computing the relative importance of textual units ( i.e . sentences ) is very successful in generic summarization . in this method , a sentence is encoded as a vector in which each component represents the occurrence frequency ( tf*idf ) of a word . however , the major limitation of the tf*idf approach is that it only retains the frequency of the words and does not take into account the sequence , syntactic and semantic information . in this paper , we study the impact of syntactic and shallow semantic information in the graph-based method for answering complex questions .\n",
            "13 this paper presents our system to address the cogalex-iv 2014 shared task of identifying a single word most semantically related to a group of 5 words ( queries ) . our system uses an implementation of a neural language model and identifies the answer word by finding the most semantically similar word representation to the sum of the query representations . it is a fully unsupervised system which learns on around 20 % of the ukwac corpus . it correctly identifies 85 exact correct targets out of 2,000 queries , 285 approximate targets in lists of 5 suggestions .\n",
            "14 this paper describes a series of french semantic role labelling experiments which show that a small set of manually annotated training data is superior to a much larger set containing semantic role labels which have been projected from a source language via word alignment . using universal part-of-speech tags and dependencies makes little difference over the original fine-grained tagset and dependency scheme . moreover , there seems to be no improvement gained from projecting semantic roles between direct translations than between indirect translations .\n",
            "15 the brown and the berkeley parsers are two state-of-the-art generative parsers . since both parsers produce n-best lists , it is possible to apply reranking techniques to the output of both of these parsers , and to their union . we note that the standard reranker feature set distributed with the brown parser does not do well with the berkeley parser , and propose an extended set that does better . an ablation experiment shows that different parsers benefit from different reranker features .\n",
            "16 this paper presents our error tolerable system for coreference resolution in conll2011 ( pradhan et al , 2011 ) shared task ( closed track ) . different from most previous reported work , we detect mention candidates based on packed forest instead of single parse tree , and we use beam search algorithm based on the bell tree to create entities . experimental results show that our methods achieve promising results on the development set .\n",
            "17 we describe our approach to the construction and evaluation of a large-scale database called catvar which contains categorial variations of english lexemes . due to the prevalence of cross-language categorial variation in multilingual applications , our categorial-variation resource may serve as an integral part of a diverse range of natural language applications . thus , the research reported herein overlaps heavily with that of the machine-translation , lexicon-construction , and information-retrieval communities . we apply the information-retrieval metrics of precision and recall to evaluate the accuracy and coverage of our database with respect to a human-produced gold standard . this evaluation reveals that the categorial database achieves a high degree of precision and recall . additionally , we demonstrate that the database improves on the linkability of porter stemmer by over 30 % .\n",
            "18 a general characteristic of most biomedical disciplines is their primarily experimental character . discoveries are obtained through molecular biology and biochemical techniques that allow understanding of biological processes at the molecular level . to qualify biological events , it is of practical significance to detect specific types of negations that can imply either that a given event is not observed under specific conditions or even the opposite , that a given event is true by altering the bio-entities studied ( e.g . introducing specific modifications like mutations ) . of special interest is also to determine if a detected assertion is linked to experimental support provided by the authors . finding experimental qualifier cues and detecting experimental technique mentions is of great interest to the biological community in general and particularly for annotation databases . a short overview of different types of negations and biological qualifiers of practical relevance will be provided .\n",
            "19 an external lexicon quality measure called the l-measure is derived from the f-measure ( rijsbergen , 1979 ; larsen and aone , 1999 ) . the typically small sample sizes available for minority languages and the evaluation of semitic language lexicons are two main factors considered . large-scale evaluation results for the maltilex corpus are presented ( rosner et al. , 1999 ) .\n",
            "20 vector-based distributional models of semantics have proven useful and adequate in a variety of natural language processing tasks . however , most of them lack at least one key requirement in order to serve as an adequate representation of natural language , namely sensitivity to structural information such as word order . we propose a novel approach that offers a potential of integrating order-dependent word contexts in a completely unsupervised manner by assigning to words characteristic distributional matrices . the proposed model is applied to the task of free associations . in the end , the first results as well as directions for future work are discussed .\n",
            "21 this paper presents the carnegie mellon university statistical transfer mt system submitted to the 2009 wmt shared task in french-to-english translation . we describe a syntax-based approach that incorporates both syntactic and non-syntactic phrase pairs in addition to a syntactic grammar . after reporting development test results , we conduct a preliminary analysis of the coverage and effectiveness of the systems components .\n",
            "22 sentence types typical to swedish clinical text were extracted by comparing sentence part-of-speech tag sequences in clinical and in standard swedish text . parsings by a syntactic dependency parser , trained on standard swedish , were manually analysed for the 33 sentence types most typical to clinical text . this analysis resulted in the identification of eight error types , and for two of these error types , preprocessing rules were constructed to improve the performance of the parser . for all but one of the ten sentence types affected by these two rules , the parsing was improved by pre-processing .\n",
            "23 wouldnt it be helpful if your text editor automatically suggested papers that are relevant to your research wouldnt it be even better if those suggestions were contextually relevant in this paper we name a system that would accomplish this a context-based citation recommendation ( cbcr ) system . we specifically present citation resolution , a method for the evaluation of cbcr systems which exclusively uses readily-available scientific articles . exploiting the human judgements that are already implicit in available resources , we avoid purpose-specific annotation . we apply this evaluation to three sets of methods for representing a document , based on a ) the contents of the document , b ) the surrounding contexts of citations to the document found in other documents , and c ) a mixture of the two .\n",
            "24 results from psychology show a connection between a speakers expertise in a task and the language he uses to talk about it . in this paper , we present an empirical study on using linguistic evidence to predict the expertise of a speaker in a task : playing chess . instructional chess literature claims that the mindsets of amateur and expert players differ fundamentally ( silman , 1999 ) ; psychological science has empirically arrived at similar results ( e.g. , pfau and murphy ( 1988 ) ) . we conduct experiments on automatically predicting chess player skill based on their natural language game commentary . we make use of annotated chess games , in which players provide their own interpretation of game in prose . based on a dataset collected from an online chess forum , we predict player strength through svm classification and ranking . we show that using textual and chess-specific features achieves both high classification accuracy and significant correlation . finally , we compare our findings to claims from the chess literature and results from psychology .\n",
            "25 this work explores the utility of sentiment and arguing opinions for classifying stances in ideological debates . in order to capture arguing opinions in ideological stance taking , we construct an arguing lexicon automatically from a manually annotated corpus . we build supervised systems employing sentiment and arguing opinions and their targets as features . our systems perform substantially better than a distribution-based baseline . additionally , by employing both types of opinion features , we are able to perform better than a unigrambased system .\n",
            "26 in this paper , we put forward an information theoretic definition of the redundancy that is observed across the sound inventories of the worlds languages . through rigorous statistical analysis , we find that this redundancy is an invariant property of the consonant inventories . the statistical analysis further unfolds that the vowel inventories do not exhibit any such property , which in turn points to the fact that the organizing principles of the vowel and the consonant inventories are quite different in nature .\n",
            "27 search-based structured prediction andreas vlachos and mark craven department of biostatistics and medical informatics university of wisconsin-madison { vlachos , craven } @ biostat.wisc.edu abstract in this paper we describe our approach to the bionlp 2011 shared task on biomedical event extraction from abstracts and full papers . we employ a joint inference system developed using the search-based structured prediction framework and show that it improves on a pipeline using the same features and it is better able to handle the domain shift from abstracts to full papers . in addition , we report on experiments using a simple domain adaptation method .\n",
            "28 named entity phrases are some of the most difficult phrases to translate because new phrases can appear from nowhere , and because many are domain specific , not to be found in bilingual dictionaries . we present a novel algorithm for translating named entity phrases using easily obtainable monolingual and bilingual resources . we report on the application and evaluation of this algorithm in translating arabic named entities to english . we also compare our results with the results obtained from human translations and a commercial system for the same task .\n",
            "29 this paper studies the impact of written language variations and the way it affects the capitalization task over time . a discriminative approach , based on maximum entropy models , is proposed to perform capitalization , taking the language changes into consideration . the proposed method makes it possible to use large corpora for training . the evaluation is performed over newspaper corpora using different testing periods . the achieved results reveal a strong relation between the capitalization performance and the elapsed time between the training and testing data periods .\n",
            "30 mental modeling is crucial for natural humanrobot interactions ( hri ) . yet , effective mechanisms that enable reasoning about and communication of mental states are not available . we propose to utilize adverbial cues , routinely employed by humans , for this goal and present a novel algorithm that integrates adverbial modifiers with belief revision and expression , phrasing utterances based on gricean conversational maxims . the algorithm is demonstrated in a simple hri scenario .\n",
            "31 much natural language processing still depends on the euclidean ( cosine ) distance function between two feature vectors , but this has severe problems with regard to feature weightings and feature correlations . to answer these problems , we propose an optimal metric distance that can be used as an alternative to the cosine distance , thus accommodating the two problems at the same time . this metric is optimal in the sense of global quadratic minimization , and can be obtained from the clusters in the training data in a supervised fashion . we confirmed the effect of the proposed metric distance by a synonymous sentence retrieval task , document retrieval task and the k-means clustering of general vectorial data . the results showed constant improvement over the baseline method of euclid and tf.idf , and were especially prominent for the sentence retrieval task , showing a 33 % increase in the 11-point average precision .\n",
            "32 in this paper , we propose a novel method for semi-supervised learning of nonprojective log-linear dependency parsers using directly expressed linguistic prior knowledge ( e.g . a nouns parent is often a verb ) . model parameters are estimated using a generalized expectation ( ge ) objective function that penalizes the mismatch between model predictions and linguistic expectation constraints . in a comparison with two prominent unsupervised learning methods that require indirect biasing toward the correct syntactic structure , we show that ge can attain better accuracy with as few as 20 intuitive constraints . we also present positive experimental results on longer sentences in multiple languages .\n",
            "33 we propose a structure called dependency forest for statistical machine translation . a dependency forest compactly represents multiple dependency trees . we develop new algorithms for extracting string-todependency rules and training dependency language models . our forest-based string-to-dependency system obtains significant improvements ranging from 1.36 to 1.46 bleu points over the tree-based baseline on the nist 2004/2005/2006 chinese-english test sets .\n",
            "34 the extension to new languages is a well known bottleneck for rule-based systems . considerable human effort , which typically consists in re-writing from scratch huge amounts of rules , is in fact required to transfer the knowledge available to the system from one language to a new one . provided sufficient annotated data , machine learning algorithms allow to minimize the costs of such knowledge transfer but , up to date , proved to be ineffective for some specific tasks . among these , the recognition and normalization of temporal expressions still remains out of their reach . focusing on this task , and still adhering to the rule-based framework , this paper presents a bunch of experiments on the automatic porting to italian of a system originally developed for spanish . different automatic rule translation strategies are evaluated and discussed , providing a comprehensive overview of the challenge .\n",
            "35 a hybrid system is described which combines the strength of manual rulewriting and statistical learning , obtaining results superior to both methods if applied separately . the combination of a rule-based system and a statistical one is not parallel but serial : the rule-based system performing partial disambiguation with recall close to 100 % is applied first , and a trigram hmm tagger runs on its results . an experiment in czech tagging has been performed with encouraging results .\n",
            "36 we explore the task of automatically classifying dialogue acts in 1-on-1 online chat forums , an increasingly popular means of providing customer service . in particular , we investigate the effectiveness of various features and machine learners for this task . while a simple bag-of-words approach provides a solid baseline , we find that adding information from dialogue structure and inter-utterance dependency provides some increase in performance ; learners that account for sequential dependencies ( crfs ) show the best performance . we report our results from testing using a corpus of chat dialogues derived from online shopping customer-feedback data .\n",
            "37 we address the problem dealing with a large collection of data , and investigate the use of automatically constructing category hierarchy from a given set of categories to improve classification of large corpora . we use two wellknown techniques , partitioning clustering , means and a to create category hierarchy . -means is to cluster the given categories in a hierarchy . to select the proper number of , we use a which measures the degree of our disappointment in any differences between the true distribution over inputs and the learners prediction . once the optimal number of is selected , for each cluster , the procedure is repeated . our evaluation using the 1996 reuters corpus which consists of 806,791 documents shows that automatically constructing hierarchy improves classification accuracy .\n",
            "38 techniques that compare short text segments using dependency paths ( or simply , paths ) appear in a wide range of automated language processing applications including question answering ( qa ) . however , few models in ad hoc information retrieval ( ir ) use paths for document ranking due to the prohibitive cost of parsing a retrieval collection . in this paper , we introduce a flexible notion of paths that describe chains of words on a dependency path . these chains , or catenae , are readily applied in standard ir models . informative catenae are selected using supervised machine learning with linguistically informed features and compared to both non-linguistic terms and catenae selected heuristically with filters derived from work on paths . automatically selected catenae of 1-2 words deliver significant performance gains on three trec collections .\n",
            "39 the main area of this paper concerns the neural methods for mapping scientific and technical information ( articles , patents ) and for assisting a user in carrying out the complex process of analysing large quantities of such information . in the procedure of information analysis , like in the domain of patent analysis , the complexity of the studied topics and the accuracy of the question to be answered may often lead the analyst to partition his reasoning into viewpoints . most of the classical information analysis tools can only manage an analysis of the studied domain in a global way . the information analysis tool that will be considered in our study is the multisom tool whose core model represents a significant extension of the classical kohonen som neural model . the multisom neural-based tool introduces the concepts of viewpoints and dynamics into the information analysis with its multi-maps displays and its intermap communication process . the dynamic information exchange between maps can be exploited by an analyst in order to perform cooperative deduction between several different analyzes that have been performed on the same data . the paper demonstrates the efficiency of a viewpoint-oriented-analysis as compared to a global analysis in the domain of patents . both objective and subjective quality criteria are taken into account for quality evaluation . the experimental context of the paper is constituted by a patent database of 1000 patents related to oil engineering . the patents structure and the patents field semantics are firstly exploited in order to generate different viewpoints corresponding to different areas of interest for the analysts .\n",
            "40 social media texts are significant information sources for several application areas including trend analysis , event monitoring , and opinion mining . unfortunately , existing solutions for tasks such as named entity recognition that perform well on formal texts usually perform poorly when applied to social media texts . in this paper , we report on experiments that have the purpose of improving named entity recognition on turkish tweets , using two different annotated data sets . in these experiments , starting with a baseline named entity recognition system , we adapt its recognition rules and resources to better fit twitter language by relaxing its capitalization constraint and by diacritics-based expansion of its lexical resources , and we employ a simplistic normalization scheme on tweets to observe the effects of these on the overall named entity recognition performance on turkish tweets . the evaluation results of the system with these different settings are provided with discussions of these results .\n",
            "41 prior work has shown that generalization of data in an example based machine translation ( ebmt ) system , reduces the amount of pre-translated text required to achieve a certain level of accuracy ( brown , 2000 ) . several word clustering algorithms have been suggested to perform these generalizations , such as kmeans clustering or group average clustering . the hypothesis is that better contextual clustering can lead to better translation accuracy with limited training data . in this paper , we use a form of spectral clustering to cluster words , and this is shown to result in as much as 29.08 % improvement over the baseline ebmt system .\n",
            "42 developing better methods for segmenting continuous text into words is important for improving the processing of asian languages , and may shed light on how humans learn to segment speech . we propose two new bayesian word segmentation methods that assume unigram and bigram models of word dependencies respectively . the bigram model greatly outperforms the unigram model ( and previous probabilistic models ) , demonstrating the importance of such dependencies for word segmentation . we also show that previous probabilistic models rely crucially on suboptimal search procedures .\n",
            "43 this paper presents a chinese word segmentation system for the closed track of cips-sighan word segmentation bakeoff 2010. this system adopts a character-based joint approach , which combines a character-based generative model and a character-based discriminative model . to further improve the crossdomain performance , we use an additional semi-supervised learning procedure to incorporate the unlabeled corpus . the final performance on the closed track for the simplified-character text shows that our system achieves comparable results with other state-of-the-art systems .\n",
            "44 identification of transliterated names is a particularly difficult task of named entity recognition ( ner ) , especially in the chinese context . of all possible variations of transliterated named entities , the difference between prc and taiwan is the most prevalent and most challenging . in this paper , we introduce a novel approach to the automatic extraction of diverging transliterations of foreign named entities by bootstrapping cooccurrence statistics from tagged and segmented chinese corpus . preliminary experiment yields promising results and shows its potential in nlp applications .\n",
            "45 traditional question answering systems adopt the following framework : parsing questions , searching for relevant documents , and identifying/generating answers . however , this framework does not work well for questions with hidden assumptions and implicatures . in this paper , we describe a novel idea , a cascading guidance strategy , which can not only identify potential traps in questions but further guide the answer extraction procedure by recognizing whether there are multiple answers for a question . this is the first attempt to solve implicature problem for complex qa in a cascading fashion using n-gram language models as features . we here investigate questions with implicatures related to biography facts in a web-based qa system , powerbio . we compare the performances of decision tree , nave bayes , svm ( support vector machine ) , and me ( maximum entropy ) classification methods . the integration of the cascading guidance strategy can help extract answers for questions with implicatures and produce satisfactory results in our experiments .\n",
            "46 in this paper , we explore the use of automatic syntactic simplification for improving content selection in multi-document summarization . in particular , we show how simplifying parentheticals by removing relative clauses and appositives results in improved sentence clustering , by forcing clustering based on central rather than background information . we argue that the inclusion of parenthetical information in a summary is a reference-generation task rather than a content-selection one , and implement a baseline reference rewriting module . we perform our evaluations on the test sets from the 2003 and 2004 document understanding conference and report that simplifying parentheticals results in significant improvement on the automated evaluation metric rouge .\n",
            "47 patent images are very important for patent examiners to understand the contents of an invention . therefore there is a need for automatic labelling of patent images in order to support patent search tasks . towards this goal , recent research works propose classification-based approaches for patent image annotation . however , one of the main drawbacks of these methods is that they rely upon large annotated patent image datasets , which require substantial manual effort to be obtained . in this context , the proposed work performs extraction of concepts from patent images building upon a supervised machine learning framework , which is trained with limited annotated data and automatically generated synthetic data . the classification is realised with random forests ( rf ) and a combination of visual and textual features . first , we make use of rfs implicit ability to detect outliers to rid our data of unnecessary noise . then , we generate new synthetic data cases by means of synthetic minority over-sampling technique ( smote ) . we evaluate the different retrieval parts of the framework by using a dataset from the footwear domain . the results of the experiments indicate the benefits of using the proposed methodology .\n",
            "48 this study investigates similarity judgments from two angles . first , we look at models suggested in the psychology and philosophy literature which capture the essence of concept similarity evaluation for humans . second , we analyze the properties of many metrics which simulate such evaluation capabilities . the first angle reveals that non-experts can judge similarity and that their judgments need not be based on predefined traits . we use such conclusions to inform us on how gold standards for word sense disambiguation tasks could be established . from the second angle , we conclude that more attention should be paid to metric properties before assigning them to perform a particular task .\n",
            "49 the purpose of this study is to construct a semantic analysis method for disambiguating japanese compound verbs . japanese speakers produce a rich variety of compound verbs , making it difficult to process them by computer . we construct a method employing 110 disambiguation rules based on the semantic features of the first verb of a compound and syntactic patterns consisting of co-occurrence between verbs and nouns . the disambiguation rules are evaluated by applying them to compound verbs in the dictionary . the obtained accuracy is 87.19 % for our rules . this result shows the advantage of our method .\n",
            "50 our submission was a reduced version of the system described in haghighi and klein ( 2010 ) , with extensions to improve mention detection to suit the ontonotes annotation scheme . including exact matching mention detection in this shared task added a new and challenging dimension to the problem , particularly for our system , which previously used a very permissive detection method . we improved this aspect of the system by adding filters based on the annotation scheme for ontonotes and analysis of system behavior on the development set . these changes led to improvements in coreference f-score of 10.06 , 5.71 , 6.78 , 6.63 and 3.09 on the muc , b3 , ceaf-e , ceaf-m and blanc , metrics , respectively , and a final task score of 47.10 .\n",
            "51 recent evaluation techniques applied to corpusbased systems have been introduced that can predict quantitatively how well surface realizers will generate unseen sentences in isolation . we introduce a similar method for determining the coverage on the fuf/surge symbolic surface realizer , report that its coverage and accuracy on the penn treebank is higher than that of a similar statistics-based generator , describe several bene ts that can be used in other areas of computational linguistics , and present an updated version of surge for use in the nlg community .\n",
            "52 our research organization has been constructing a large scale database named shachi by collecting detailed meta information on language resources ( lrs ) in asia and western countries . the metadata database contains more than 2,000 compiled lrs such as corpora , dictionaries , thesauruses and lexicons , forming a large scale metadata of lrs archive . its metadata , an extended version of olac metadata set conforming to dublin core , have been collected semi-automatically . this paper explains the design and the structure of the metadata database , as well as the realization of the catalogue search tool .\n",
            "53 we present a novel model , freestyle , that learns to improvise rhyming and fluent responses upon being challenged with a line of hip hop lyrics , by combining both bottomup token based rule induction and top-down rule segmentation strategies to learn a stochastic transduction grammar that simultaneously learns both phrasing and rhyming associations . in this attack on the woefully under-explored natural language genre of music lyrics , we exploit a strictly unsupervised transduction grammar induction approach . our task is particularly ambitious in that no use of any a priori linguistic or phonetic information is allowed , even though the domain of hip hop lyrics is particularly noisy and unstructured . we evaluate the performance of the learned model against a model learned only using the more conventional bottom-up token based rule induction , and demonstrate the superiority of our combined token based and rule segmentation induction method toward generating higher quality improvised responses , measured on fluency and rhyming criteria as judged by human evaluators . to highlight some of the inherent challenges in adapting other algorithms to this novel task , we also compare the quality of the responses generated by our model to those generated by an out-ofthe-box phrase based smt system . we tackle the challenge of selecting appropriate training data for our task via a dedicated rhyme scheme detection module , which is also acquired via unsupervised learning and report improved quality of the generated responses . finally , we report results with maghrebi french hip hop lyrics indicating that our model performs surprisingly well with no special adaptation to other languages .\n",
            "54 this paper presents an unsupervised topic identification method integrating linguistic and visual information based on hidden markov models ( hmms ) . we employ hmms for topic identification , wherein a state corresponds to a topic and various features including linguistic , visual and audio information are observed . our experiments on two kinds of cooking tv programs show the effectiveness of our proposed method .\n",
            "55 in this paper , we present a word sense disambiguation ( wsd ) based system for multilingual lexical substitution . our method depends on having a wsd system for english and an automatic word alignment method . crucially the approach relies on having parallel corpora . for task 2 ( sinha et al , 2009 ) we apply a supervised wsd system to derive the english word senses . for task 3 ( lefever & hoste , 2009 ) , we apply an unsupervised approach to the training and test data . both of our systems that participated in task 2 achieve a decent ranking among the participating systems . for task 3 we achieve the highest ranking on several of the language pairs : french , german and italian .\n",
            "56 statistical machine translation relies heavily on available parallel corpora , but smt may not have the ability or intelligence to make full use of the training set . instead of col-lecting more and more parallel training cor-pora , this paper aims to improve smt performance by exploiting the full potential of existing parallel corpora . we first iden-tify literally translated sentence pairs via lexical and grammatical compatibility , and then use these data to train smt models . one experiment indicates that larger train-ing corpora do not always lead to higher de-coding performance when the added data are not literal translations . and another ex-periment shows that properly enlarging the contribution of literal translation can im-prove smt performance significantly .\n",
            "57 consumers increasingly rate , review and research products online ( jansen , 2010 ; litvin et al , 2008 ) . consequently , websites containing consumer reviews are becoming targets of opinion spam . while recent work has focused primarily on manually identifiable instances of opinion spam , in this work we study deceptive opinion spamfictitious opinions that have been deliberately written to sound authentic . integrating work from psychology and computational linguistics , we develop and compare three approaches to detecting deceptive opinion spam , and ultimately develop a classifier that is nearly 90 % accurate on our gold-standard opinion spam dataset . based on feature analysis of our learned models , we additionally make several theoretical contributions , including revealing a relationship between deceptive opinions and imaginative writing .\n",
            "58 this paper describes the system used by the lipn team in the task 10 , multilingual semantic textual similarity , at semeval 2014 , in both the english and spanish sub-tasks . the system uses a support vector regression model , combining different text similarity measures as features . with respect to our 2013 participation , we included a new feature to take into account the geographical context and a new semantic distance based on the bhattacharyya distance calculated on cooccurrence distributions derived from the spanish google books n-grams dataset .\n",
            "59 data preprocessing plays a crucial role in phrase-based statistical machine translation ( pb-smt ) . in this paper , we show how single-tokenization of two types of multi-word expressions ( mwe ) , namely named entities ( ne ) and compound verbs , as well as their prior alignment can boost the performance of pb-smt . single-tokenization of compound verbs and named entities ( ne ) provides significant gains over the baseline pb-smt system . automatic alignment of nes substantially improves the overall mt performance , and thereby the word alignment quality indirectly . for establishing ne alignments , we transliterate source nes into the target language and then compare them with the target nes . target language nes are first converted into a canonical form before the comparison takes place . our best system achieves statistically significant improvements ( 4.59 bleu points absolute , 52.5 % relative improvement ) on an englishbangla translation task .\n",
            "60 real document collections do not fit the independence assumptions asserted by most statistical topic models , but how badly do they violate them we present a bayesian method for measuring how well a topic model fits a corpus . our approach is based on posterior predictive checking , a method for diagnosing bayesian models in user-defined ways . our method can identify where a topic model fits the data , where it falls short , and in which directions it might be improved .\n",
            "61 transforming syntactic representations in order to improve parsing accuracy has been exploited successfully in statistical parsing systems using constituency-based representations . in this paper , we show that similar transformations can give substantial improvements also in data-driven dependency parsing . experiments on the prague dependency treebank show that systematic transformations of coordinate structures and verb groups result in a 10 % error reduction for a deterministic data-driven dependency parser . combining these transformations with previously proposed techniques for recovering nonprojective dependencies leads to state-ofthe-art accuracy for the given data set .\n",
            "62 most coreference resolution models determine if two mentions are coreferent using a single function over a set of constraints or features . this approach can lead to incorrect decisions as lower precision features often overwhelm the smaller number of high precision ones . to overcome this problem , we propose a simple coreference architecture based on a sieve that applies tiers of deterministic coreference models one at a time from highest to lowest precision . each tier builds on the previous tiers entity cluster output . further , our model propagates global information by sharing attributes ( e.g. , gender and number ) across mentions in the same cluster . this cautious sieve guarantees that stronger features are given precedence over weaker ones and that each decision is made using all of the information available at the time . the framework is highly modular : new coreference modules can be plugged in without any change to the other modules . in spite of its simplicity , our approach outperforms many state-of-the-art supervised and unsupervised models on several standard corpora . this suggests that sievebased approaches could be applied to other nlp tasks .\n",
            "63 this paper presents a cross platform multilingual multimedia indian sign language ( isl ) dictionary building tool . isl is a linguistically under-investigated language with no source of well documented electronic data . research on isl linguistics also gets hindered due to a lack of isl knowledge and the unavailability of any educational tools . our system can be used to associate signs corresponding to a given text . the current system also facilitates the phonological annotation of indian signs in the form of hamnosys structure . the generated hamnosys string can be given as input to an avatar module to produce an animated sign representation .\n",
            "64 efforts to automatically acquire world knowledge from text suffer from the lack of an easy means of evaluating the resulting knowledge . we describe initial experiments using mechanical turk to crowdsource evaluation to nonexperts for little cost , resulting in a collection of factoids with associated quality judgements . we describe the method of acquiring usable judgements from the public and the impact of such large-scale evaluation on the task of knowledge acquisition .\n",
            "\n",
            "> Title examples:\n",
            "1 heideltime : tuning english and developing spanish resources\n",
            "2 storing the web in memory : space efficient language models with constant time retrieval\n",
            "3 vote prediction on comments in social polls\n",
            "4 examining the role of linguistic knowledge sources in the automatic identification and classification of reviews\n",
            "5 a feature-enriched tree kernel for relation extraction\n",
            "6 interpretation in a cognitive architecture\n",
            "7 uzzi ornan scientific director , multitext , multidimensional publishing systems\n",
            "8 a word sense disambiguation case study\n",
            "9 comparing representations of semantic roles for\n",
            "10 improving word segmentation by simultaneously learning phonotactics computer & information sciences linguistics & cognitive science\n",
            "11 ai-ku : using substitute vectors and co-occurrence modeling for word\n",
            "12 improving the performance of the random walk model for answering\n",
            "13 predicting sense convergence with distributional semantics : an\n",
            "14 experiments with french\n",
            "15 reranking the berkeley and brown parsers ahmet engin ural\n",
            "16 ets : an error tolerable system for coreference resolution\n",
            "17 a categorial variation database for english\n",
            "18 importance of negations and experimental qualifiers in biomedical\n",
            "19 adaptation of the f-measure to cluster based lexicon quality\n",
            "20 towards a matrix-based distributional model of meaning fzi forschungszentrum informatik\n",
            "21 an improved statistical transfer system for frenchenglish\n",
            "22 adapting a parser to clinical text by simple pre-processing rules\n",
            "23 citation resolution : a method for evaluating context-based citation\n",
            "24 picking the amateurs mind predicting chess player strength from and language processing\n",
            "25 recognizing stances in ideological on-line debates the intelligent systems program\n",
            "26 redundancy ratio : an invariant property of the consonant inventories of the worlds languages\n",
            "27 biomedical event extraction from abstracts and full papers using\n",
            "28 translating named entities using monolingual and bilingual resources\n",
            "29 language dynamics and capitalization using maximum entropy\n",
            "30 through adverbial cues\n",
            "31 learning nonstructural distance metric by minimum cluster distortions atr spoken language translation\n",
            "32 semi-supervised learning of dependency parsers using generalized expectation criteria\n",
            "33 dependency forest for statistical machine translation\n",
            "34 evaluating knowledge-based approaches to the multilingual extension of a temporal expression normalizer povo - trento , italy\n",
            "35 serial combination of rules and statistics : a case study in czech\n",
            "36 classifying dialogue acts in one-on-one live chats su nam kim , lawrence cavedon and timothy baldwin\n",
            "37 a comparison of manual and automatic constructions of category hierarchy for classifying large corpora\n",
            "38 feature-based selection of dependency paths in ad hoc information retrieval\n",
            "39 intelligent patent analysis through the use of a neural network : experiment of multi-viewpoint analysis with the multisom model shadi al shehabi\n",
            "40 experiments to improve named entity recognition on turkish tweets\n",
            "41 spectral clustering for example based machine translation\n",
            "42 contextual dependencies in unsupervised word segmentation\n",
            "43 a character-based joint model behavior design corporation\n",
            "44 automatic discovery of named entity variants grammar-driven approaches to non-alphabetical transliterations\n",
            "45 handling biographical questions with implicature donghui feng eduard hovy\n",
            "46 syntactic simplication for improving content selection in multi-document\n",
            "47 and proximity-driven generation of synthetic data\n",
            "48 similarity judgments : philosophical , psychological and mathematical\n",
            "49 a disambiguation method for japanese compound verbs\n",
            "50 mention detection : heuristics for the ontonotes annotations\n",
            "51 wide coverage symbolic surface realization\n",
            "52 construction of an infrastructure for providing users with suitable language resources hitomi tohyama shunsuke kozawa kiyotaka uchimoto\n",
            "53 learning to freestyle : hip hop challenge-response induction via transduction rule segmentation\n",
            "54 unsupervised topic identification by integrating linguistic and visual information based on hidden markov models\n",
            "55 coleur and colslm : a wsd approach to multilingual lexical\n",
            "56 train the machine with what it can learn corpus selection for smt\n",
            "57 finding deceptive opinion spam by any stretch of the imagination\n",
            "58 lipn : introducing a new geographical context similarity measure and a statistical similarity measure based on the bhattacharyya coefficient em priego sanchez\n",
            "59 handling named entities and compound verbs in phrase-based statistical machine translation\n",
            "60 bayesian checking for topic models\n",
            "61 graph transformations in data-driven dependency parsing\n",
            "62 a multi-pass sieve for coreference resolution\n",
            "63 a multilingual multimedia indian sign language dictionary tool\n",
            "64 evaluation of commonsense knowledge with mechanical turk\n"
          ]
        }
      ]
    },
    {
      "cell_type": "markdown",
      "source": [
        "# Preprocessing"
      ],
      "metadata": {
        "id": "6YE74HgtRlwF"
      }
    },
    {
      "cell_type": "code",
      "source": [
        "def title_preprocessor(text):\n",
        "    text = tf.strings.lower(text)\n",
        "    text = tf.strings.strip(text)\n",
        "    text = tf.strings.join(['[START]', text, '[END]'], separator=' ')\n",
        "    return text\n",
        "\n",
        "def abstract_preprocessor(text):\n",
        "    text = tf.strings.lower(text)\n",
        "    text = tf.strings.strip(text)\n",
        "    # Added start and end tokens. read somewhere its important for the RNNs\n",
        "    # not for transformer.. Idk.\n",
        "    # - Damion\n",
        "    text = tf.strings.join(['[START]', text, '[END]'], separator=' ')\n",
        "    return text\n",
        "\n",
        "# def abstract_preprocessor_mk2(text):\n",
        "#     # from: https://www.tensorflow.org/text/tutorials/nmt_with_attention#text_preprocessing\n",
        "#     # I've included this below code for preprocessing, since in the abstract,\n",
        "#     # punctuation etc isnt important - perhaps. Only for the titles. \n",
        "#     # So, perhaps performance increase\n",
        "#     # - Damion\n",
        "\n",
        "#     # Additionally, the start and end token seem to do something\n",
        "#     # for the RNN's?\n",
        "#     # Split accente d characters.\n",
        "    \n",
        "#     #text = tf_text.normalize_utf8(text, 'NFKD')\n",
        "#     #text = tf.strings.lower(text)\n",
        "    \n",
        "#     # Keep space, a to z, and select punctuation.\n",
        "#     #text = tf.strings.regex_replace(text, '[^ a-z.?!,¿]', '')\n",
        "#     text = tf.strings.regex_replace(text, '[^ a-z]', '')\n",
        "    \n",
        "#     # Add spaces around punctuation.\n",
        "#     #text = tf.strings.regex_replace(text, '[.?!,¿]', r' \\0 ')\n",
        "    \n",
        "#     # Strip whitespace.\n",
        "#     text = tf.strings.strip(text)\n",
        "\n",
        "#     text = tf.strings.join(['[START]', text, '[END]'], separator=' ')\n",
        "#     return text\n",
        "\n",
        "abs_text_processor = tf.keras.layers.TextVectorization(\n",
        "    standardize=abstract_preprocessor,\n",
        "    ragged=True,\n",
        "    output_mode='int'\n",
        "    )\n",
        "\n",
        "# abs_text_processor = tf.keras.layers.TextVectorization(\n",
        "#     standardize=abstract_preprocessor_mk2,\n",
        "#     ragged=True,\n",
        "#     output_mode='int'\n",
        "#     )\n",
        "\n",
        "tit_text_processor = tf.keras.layers.TextVectorization(\n",
        "    standardize=title_preprocessor,\n",
        "    ragged=True,\n",
        "    output_mode='int'\n",
        "    )\n",
        "\n",
        "abs_text_processor.adapt(train_dataset.map(lambda abs, tit: abs))\n",
        "tit_text_processor.adapt(train_dataset.map(lambda abs, tit: tit))\n",
        "\n",
        "def process_text(context, target):\n",
        "    context = abs_text_processor(context).to_tensor()\n",
        "    target = tit_text_processor(target)\n",
        "    targ_in = target[:,:-1].to_tensor()\n",
        "    targ_out = target[:,1:].to_tensor()\n",
        "    return (context, targ_in), targ_out\n",
        "\n",
        "\n",
        "train_ds = train_dataset.map(process_text, tf.data.AUTOTUNE)\n",
        "val_ds = val_dataset.map(process_text, tf.data.AUTOTUNE)\n",
        "test_ds = test_dataset.map(process_text, tf.data.AUTOTUNE)\n",
        "\n"
      ],
      "metadata": {
        "id": "LdZwW7FwMJoO",
        "colab": {
          "base_uri": "https://localhost:8080/"
        },
        "outputId": "c0c17c60-7e27-4398-dc0f-5f1f02d19890"
      },
      "execution_count": 12,
      "outputs": [
        {
          "output_type": "stream",
          "name": "stderr",
          "text": [
            "WARNING:tensorflow:From /usr/local/lib/python3.8/dist-packages/tensorflow/python/autograph/pyct/static_analysis/liveness.py:83: Analyzer.lamba_check (from tensorflow.python.autograph.pyct.static_analysis.liveness) is deprecated and will be removed after 2023-09-23.\n",
            "Instructions for updating:\n",
            "Lambda fuctions will be no more assumed to be used in the statement where they are used, or at least in the same block. https://github.com/tensorflow/tensorflow/issues/56089\n"
          ]
        }
      ]
    },
    {
      "cell_type": "code",
      "source": [
        "for (ex_context_tok, ex_tar_in), ex_tar_out in train_ds.take(1):\n",
        "    print(ex_context_tok[0, :10].numpy()) \n",
        "    print()\n",
        "    print(ex_tar_in[0, :10].numpy()) \n",
        "    print(ex_tar_out[0, :10].numpy())"
      ],
      "metadata": {
        "id": "tWz6GNDBMJvv",
        "colab": {
          "base_uri": "https://localhost:8080/"
        },
        "outputId": "0efc7a67-e699-4e6a-8685-982d48068ed1"
      },
      "execution_count": 13,
      "outputs": [
        {
          "output_type": "stream",
          "name": "stdout",
          "text": [
            "[  16    9   15   27    4   10  112   24 1296    9]\n",
            "\n",
            "[   2 2793    9  740   95    6  454  529  150    0]\n",
            "[2793    9  740   95    6  454  529  150    3    0]\n"
          ]
        }
      ]
    },
    {
      "cell_type": "markdown",
      "source": [
        "# Models + components"
      ],
      "metadata": {
        "id": "EHJAZYiwMJ1M"
      }
    },
    {
      "cell_type": "markdown",
      "source": [
        "## RNN + GRU components"
      ],
      "metadata": {
        "id": "i8X0JFHTMJ6a"
      }
    },
    {
      "cell_type": "code",
      "source": [
        "class EncoderRNN(tf.keras.layers.Layer):\n",
        "  def __init__(self, text_processor, units, GRU=False):\n",
        "    super(EncoderRNN, self).__init__()\n",
        "    self.text_processor = text_processor\n",
        "    self.vocab_size = text_processor.vocabulary_size()\n",
        "    self.units = units\n",
        "\n",
        "    # The embedding layer converts tokens to vectors\n",
        "    self.embedding = tf.keras.layers.Embedding(self.vocab_size, units,\n",
        "                                               mask_zero=True)\n",
        "\n",
        "    # The RNN layer processes those vectors sequentially.\n",
        "    # self.rnn = tf.keras.layers.Bidirectional(\n",
        "    #     merge_mode='sum',\n",
        "    #     layer=tf.keras.layers.GRU(units,\n",
        "    #                         # Return the sequence and state\n",
        "    #                         return_sequences=True,\n",
        "    #                         recurrent_initializer='glorot_uniform'))\n",
        "    if not GRU:\n",
        "        self.rnn = (tf.keras.layers \\\n",
        "                    .SimpleRNN(units,\n",
        "                    # Return the sequence and state\n",
        "                    return_sequences=True,\n",
        "                    recurrent_initializer='glorot_uniform'))\n",
        "    else:\n",
        "        self.rnn = (tf.keras.layers\n",
        "                    .GRU(units,\n",
        "                    # Return the sequence and state\n",
        "                    return_sequences=True,\n",
        "                    recurrent_initializer='glorot_uniform'))\n",
        "\n",
        "  def call(self, x):\n",
        "    shape_checker = ShapeChecker()\n",
        "    shape_checker(x, 'batch s')\n",
        "\n",
        "    # 2. The embedding layer looks up the embedding vector for each token.\n",
        "    x = self.embedding(x)\n",
        "    shape_checker(x, 'batch s units')\n",
        "\n",
        "    # 3. The GRU processes the sequence of embeddings.\n",
        "    x = self.rnn(x)\n",
        "    shape_checker(x, 'batch s units')\n",
        "\n",
        "    # 4. Returns the new sequence of embeddings.\n",
        "    return x\n",
        "\n",
        "  def convert_input(self, texts):\n",
        "    texts = tf.convert_to_tensor(texts)\n",
        "    if len(texts.shape) == 0:\n",
        "      texts = tf.convert_to_tensor(texts)[tf.newaxis]\n",
        "    context = self.text_processor(texts).to_tensor()\n",
        "    context = self(context)\n",
        "    return context"
      ],
      "metadata": {
        "id": "OSwUQAd0MJ_P"
      },
      "execution_count": 14,
      "outputs": []
    },
    {
      "cell_type": "code",
      "source": [
        "class CrossAttentionRNN(tf.keras.layers.Layer):\n",
        "  def __init__(self, units, **kwargs):\n",
        "    super().__init__()\n",
        "    self.mha = tf.keras.layers.MultiHeadAttention(key_dim=units, num_heads=1, **kwargs)\n",
        "    self.layernorm = tf.keras.layers.LayerNormalization()\n",
        "    self.add = tf.keras.layers.Add()\n",
        "\n",
        "  def call(self, x, context):\n",
        "    shape_checker = ShapeChecker()\n",
        "\n",
        "    shape_checker(x, 'batch t units')\n",
        "    shape_checker(context, 'batch s units')\n",
        "\n",
        "    attn_output, attn_scores = self.mha(\n",
        "        query=x,\n",
        "        value=context,\n",
        "        return_attention_scores=True)\n",
        "\n",
        "    shape_checker(x, 'batch t units')\n",
        "    shape_checker(attn_scores, 'batch heads t s')\n",
        "\n",
        "    # Cache the attention scores for plotting later.\n",
        "    attn_scores = tf.reduce_mean(attn_scores, axis=1)\n",
        "    shape_checker(attn_scores, 'batch t s')\n",
        "    self.last_attention_weights = attn_scores\n",
        "\n",
        "    x = self.add([x, attn_output])\n",
        "    x = self.layernorm(x)\n",
        "\n",
        "    return x"
      ],
      "metadata": {
        "id": "ibffKtxVR_Dx"
      },
      "execution_count": 15,
      "outputs": []
    },
    {
      "cell_type": "code",
      "source": [
        "class DecoderRNN(tf.keras.layers.Layer):\n",
        "    @classmethod\n",
        "    def add_method(cls, fun):\n",
        "        setattr(cls, fun.__name__, fun)\n",
        "        return fun\n",
        "\n",
        "    def __init__(self, text_processor, units, GRU=True):\n",
        "        super(DecoderRNN, self).__init__()\n",
        "        self.text_processor = text_processor\n",
        "        self.vocab_size = text_processor.vocabulary_size()\n",
        "        self.word_to_id = tf.keras.layers.StringLookup(\n",
        "            vocabulary=text_processor.get_vocabulary(),\n",
        "            mask_token='', oov_token='[UNK]')\n",
        "        self.id_to_word = tf.keras.layers.StringLookup(\n",
        "            vocabulary=text_processor.get_vocabulary(),\n",
        "            mask_token='', oov_token='[UNK]',\n",
        "            invert=True)\n",
        "        self.start_token = self.word_to_id('[START]')\n",
        "        self.end_token = self.word_to_id('[END]')\n",
        "        print('Did start- and end-token get stored properly?')\n",
        "        print(self.start_token, self.end_token)\n",
        "\n",
        "        self.units = units\n",
        "\n",
        "\n",
        "        # 1. The embedding layer converts token IDs to vectors\n",
        "        self.embedding = tf.keras.layers.Embedding(self.vocab_size,\n",
        "                                                    units, mask_zero=True)\n",
        "\n",
        "        # 2. The RNN keeps track of what's been generated so far.\n",
        "        if not GRU:\n",
        "            self.rnn = (tf.keras.layers \\\n",
        "                        .SimpleRNN(units,\n",
        "                        # Return the sequence and state\n",
        "                        return_sequences=True,\n",
        "                        return_state=True,\n",
        "                        recurrent_initializer='glorot_uniform'))\n",
        "        else:\n",
        "            self.rnn = (tf.keras.layers \\\n",
        "                        .GRU(units,\n",
        "                        # Return the sequence and state\n",
        "                        return_sequences=True,\n",
        "                        return_state=True,\n",
        "                        recurrent_initializer='glorot_uniform'))\n",
        "\n",
        "        # 3. The RNN output will be the query for the attention layer.\n",
        "        self.attention = CrossAttentionRNN(units)\n",
        "\n",
        "        # 4. This fully connected layer produces the logits for each\n",
        "        # output token.\n",
        "        self.output_layer = tf.keras.layers.Dense(self.vocab_size)\n",
        "\n",
        "    def call(self,\n",
        "            context, x,\n",
        "            state=None,\n",
        "            return_state=False):  \n",
        "        shape_checker = ShapeChecker()\n",
        "        shape_checker(x, 'batch t')\n",
        "        shape_checker(context, 'batch s units')\n",
        "\n",
        "        # 1. Lookup the embeddings\n",
        "        x = self.embedding(x)\n",
        "        shape_checker(x, 'batch t units')\n",
        "\n",
        "        # 2. Process the target sequence.\n",
        "        x, state = self.rnn(x, initial_state=state)\n",
        "        shape_checker(x, 'batch t units')\n",
        "\n",
        "        # 3. Use the RNN output as the query for the attention over the context.\n",
        "        x = self.attention(x, context)\n",
        "        self.last_attention_weights = self.attention.last_attention_weights\n",
        "        shape_checker(x, 'batch t units')\n",
        "        shape_checker(self.last_attention_weights, 'batch t s')\n",
        "\n",
        "        # Step 4. Generate logit predictions for the next token.\n",
        "        logits = self.output_layer(x)\n",
        "        shape_checker(logits, 'batch t target_vocab_size')\n",
        "\n",
        "        if return_state:\n",
        "            return logits, state\n",
        "        else:\n",
        "            return logits\n",
        "\n",
        "    def get_initial_state(self, context):\n",
        "        batch_size = tf.shape(context)[0]\n",
        "        start_tokens = tf.fill([batch_size, 1], self.start_token)\n",
        "        done = tf.zeros([batch_size, 1], dtype=tf.bool)\n",
        "        embedded = self.embedding(start_tokens)\n",
        "        return start_tokens, done, self.rnn.get_initial_state(embedded)[0]\n",
        "    \n",
        "    def tokens_to_text(self, tokens):\n",
        "        words = self.id_to_word(tokens)\n",
        "        result = tf.strings.reduce_join(words, axis=-1, separator=' ')\n",
        "        result = tf.strings.regex_replace(result, '^ *\\[START\\] *', '')\n",
        "        result = tf.strings.regex_replace(result, ' *\\[END\\] *$', '')\n",
        "        return result\n",
        "\n",
        "    def get_next_token(self, context, next_token, done, state, temperature = 0.0):\n",
        "        logits, state = self(\n",
        "        context, next_token,\n",
        "        state = state,\n",
        "        return_state=True) \n",
        "\n",
        "        if temperature == 0.0:\n",
        "            next_token = tf.argmax(logits, axis=-1)\n",
        "        else:\n",
        "            logits = logits[:, -1, :]/temperature\n",
        "            next_token = tf.random.categorical(logits, num_samples=1)\n",
        "\n",
        "        # If a sequence produces an `end_token`, set it `done`\n",
        "        done = done | (next_token == self.end_token)\n",
        "        # Once a sequence is done it only produces 0-padding.\n",
        "        next_token = tf.where(done, tf.constant(0, dtype=tf.int64), next_token)\n",
        "\n",
        "        return next_token, done, state"
      ],
      "metadata": {
        "id": "dUrqxE8-SENh"
      },
      "execution_count": 16,
      "outputs": []
    },
    {
      "cell_type": "code",
      "source": [
        "class Translator(tf.keras.Model):\n",
        "    @classmethod\n",
        "    def add_method(cls, fun):\n",
        "        setattr(cls, fun.__name__, fun)\n",
        "        return fun\n",
        "\n",
        "    def __init__(self, units,\n",
        "                context_text_processor,\n",
        "                target_text_processor,\n",
        "                GRU=True):\n",
        "        super().__init__()\n",
        "        # Build the encoder and decoder\n",
        "        # GRU False will result in SimpleRNN instead of GRU\n",
        "        self.encoder = EncoderRNN(context_text_processor, units, GRU=GRU)\n",
        "        self.decoder = DecoderRNN(target_text_processor, units, GRU=GRU)\n",
        "\n",
        "    def call(self, inputs):\n",
        "        context, x = inputs\n",
        "        context = self.encoder(context)\n",
        "        logits = self.decoder(context, x)\n",
        "\n",
        "        #TODO(b/250038731): remove this\n",
        "        try:\n",
        "            # Delete the keras mask, so keras doesn't scale the loss+accuracy. \n",
        "            del logits._keras_mask\n",
        "        except AttributeError:\n",
        "            pass\n",
        "\n",
        "        return logits\n",
        "    \n",
        "    def translate(self,\n",
        "                texts, *,\n",
        "                max_length=50,\n",
        "                temperature=0.0):\n",
        "        # Process the input texts\n",
        "        context = self.encoder.convert_input(texts)\n",
        "        batch_size = tf.shape(texts)[0]\n",
        "\n",
        "        # Setup the loop inputs\n",
        "        tokens = []\n",
        "        attention_weights = []\n",
        "        next_token, done, state = self.decoder.get_initial_state(context)\n",
        "\n",
        "        for _ in range(max_length):\n",
        "            # Generate the next token\n",
        "            next_token, done, state = self.decoder.get_next_token(\n",
        "                context, next_token, done,  state, temperature)\n",
        "\n",
        "            # Collect the generated tokens\n",
        "            tokens.append(next_token)\n",
        "            attention_weights.append(self.decoder.last_attention_weights)\n",
        "\n",
        "            if tf.executing_eagerly() and tf.reduce_all(done):\n",
        "                break\n",
        "\n",
        "        # Stack the lists of tokens and attention weights.\n",
        "        tokens = tf.concat(tokens, axis=-1)   # t*[(batch 1)] -> (batch, t)\n",
        "        self.last_attention_weights = tf.concat(attention_weights, axis=1)  # t*[(batch 1 s)] -> (batch, t s)\n",
        "\n",
        "        result = self.decoder.tokens_to_text(tokens)\n",
        "        return result"
      ],
      "metadata": {
        "id": "-ejJ7fX0SnbW"
      },
      "execution_count": 17,
      "outputs": []
    },
    {
      "cell_type": "markdown",
      "source": [
        "## Transformer Component"
      ],
      "metadata": {
        "id": "zdNrC7w4MKDq"
      }
    },
    {
      "cell_type": "code",
      "source": [
        "class PositionalEmbeddingT(tf.keras.layers.Layer):\n",
        "    def __init__(self, vocab_size, d_model):\n",
        "        super().__init__()\n",
        "        self.d_model = d_model\n",
        "        self.embedding = tf.keras.layers.Embedding(vocab_size, d_model, mask_zero=True)\n",
        "        self.pos_encoding = self.positional_encoding(length=2048, depth=d_model)\n",
        "    \n",
        "    def compute_mask(self, *args, **kwargs):\n",
        "        return self.embedding.compute_mask(*args, **kwargs)\n",
        "    \n",
        "    def call(self, x):\n",
        "        length = tf.shape(x)[1]\n",
        "        x = self.embedding(x)\n",
        "        # This factor sets the relative scale of the embedding and positonal_encoding.\n",
        "        x *= tf.math.sqrt(tf.cast(self.d_model, tf.float32))\n",
        "        x = x + self.pos_encoding[tf.newaxis, :length, :]\n",
        "        return x\n",
        "    \n",
        "    def positional_encoding(self, length, depth):\n",
        "        depth = depth/2\n",
        "\n",
        "        positions = np.arange(length)[:, np.newaxis]     # (seq, 1)\n",
        "        depths = np.arange(depth)[np.newaxis, :]/depth   # (1, depth)\n",
        "\n",
        "        angle_rates = 1 / (10000**depths)         # (1, depth)\n",
        "        angle_rads = positions * angle_rates      # (pos, depth)\n",
        "\n",
        "        pos_encoding = np.concatenate(\n",
        "            [np.sin(angle_rads), np.cos(angle_rads)],\n",
        "            axis=-1) \n",
        "\n",
        "        return tf.cast(pos_encoding, dtype=tf.float32)\n",
        "\n",
        "class BaseAttentionT(tf.keras.layers.Layer):\n",
        "    def __init__(self, **kwargs):\n",
        "        super().__init__()\n",
        "        self.mha = tf.keras.layers.MultiHeadAttention(**kwargs)\n",
        "        self.layernorm = tf.keras.layers.LayerNormalization()\n",
        "        self.add = tf.keras.layers.Add()\n",
        "\n",
        "class CrossAttentionT(BaseAttentionT):\n",
        "    def call(self, x, context):\n",
        "        attn_output, attn_scores = self.mha(\n",
        "            query=x,\n",
        "            key=context,\n",
        "            value=context,\n",
        "            return_attention_scores=True)\n",
        "        # Cache the attention scores for plotting later.\n",
        "        self.last_attn_scores = attn_scores\n",
        "        x = self.add([x, attn_output])\n",
        "        x = self.layernorm(x)\n",
        "        return x\n",
        "\n",
        "class GlobalSelfAttentionT(BaseAttentionT):\n",
        "    def call(self, x):\n",
        "        attn_output = self.mha(\n",
        "            query=x,\n",
        "            value=x,\n",
        "            key=x)\n",
        "        x = self.add([x, attn_output])\n",
        "        x = self.layernorm(x)\n",
        "        return x\n",
        "\n",
        "class CausalSelfAttentionT(BaseAttentionT):\n",
        "    def call(self, x):\n",
        "        attn_output = self.mha(\n",
        "            query=x,\n",
        "            value=x,\n",
        "            key=x,\n",
        "            use_causal_mask = True)\n",
        "        x = self.add([x, attn_output])\n",
        "        x = self.layernorm(x)\n",
        "        return x\n",
        "\n",
        "class FeedForwardT(tf.keras.layers.Layer):\n",
        "    def __init__(self, d_model, dff, dropout_rate=0.1):\n",
        "        super().__init__()\n",
        "        self.seq = tf.keras.Sequential([\n",
        "            tf.keras.layers.Dense(dff, activation='relu'),\n",
        "            tf.keras.layers.Dense(d_model),\n",
        "            tf.keras.layers.Dropout(dropout_rate)\n",
        "        ])\n",
        "        self.add = tf.keras.layers.Add()\n",
        "        self.layer_norm = tf.keras.layers.LayerNormalization()\n",
        "    def call(self, x):\n",
        "        x = self.add([x, self.seq(x)])\n",
        "        x = self.layer_norm(x)\n",
        "        return x"
      ],
      "metadata": {
        "id": "F_NNvdiJMKIJ"
      },
      "execution_count": 18,
      "outputs": []
    },
    {
      "cell_type": "code",
      "source": [
        "class EncoderLayerT(tf.keras.layers.Layer):\n",
        "    def __init__(self,*, d_model, num_heads, dff, dropout_rate=0.1):\n",
        "        super().__init__()\n",
        "\n",
        "        self.self_attention = GlobalSelfAttentionT(\n",
        "            num_heads=num_heads,\n",
        "            key_dim=d_model,\n",
        "            dropout=dropout_rate)\n",
        "\n",
        "        self.ffn = FeedForwardT(d_model, dff)\n",
        "\n",
        "    def call(self, x):\n",
        "        x = self.self_attention(x)\n",
        "        x = self.ffn(x)\n",
        "        return x\n",
        "\n",
        "class EncoderT(tf.keras.layers.Layer):\n",
        "    def __init__(self, *, num_layers, d_model, num_heads,\n",
        "                dff, vocab_size, dropout_rate=0.1):\n",
        "        super().__init__()\n",
        "\n",
        "        # Wanneer we translator maken moeten we het volgende gebruiken:\n",
        "        # self.text_processor = text_processor\n",
        "        # self.vocab_size = vocab_size\n",
        "\n",
        "        self.d_model = d_model\n",
        "        self.num_layers = num_layers\n",
        "\n",
        "        self.pos_embedding = PositionalEmbeddingT(\n",
        "            vocab_size=vocab_size, d_model=d_model)\n",
        "\n",
        "        self.enc_layers = [\n",
        "            EncoderLayerT(d_model=d_model,\n",
        "                            num_heads=num_heads,\n",
        "                            dff=dff,\n",
        "                            dropout_rate=dropout_rate)\n",
        "            for _ in range(num_layers)]\n",
        "        self.dropout = tf.keras.layers.Dropout(dropout_rate)\n",
        "\n",
        "    def call(self, x):\n",
        "        # `x` is token-IDs shape: (batch, seq_len)\n",
        "        x = self.pos_embedding(x)  # Shape `(batch_size, seq_len, d_model)`.\n",
        "\n",
        "        # Add dropout.\n",
        "        x = self.dropout(x)\n",
        "\n",
        "        for i in range(self.num_layers):\n",
        "            x = self.enc_layers[i](x)\n",
        "\n",
        "        return x  # Shape `(batch_size, seq_len, d_model)`.\n",
        "\n",
        "    def convert_input(self, texts):\n",
        "        pass"
      ],
      "metadata": {
        "id": "he59iwfiTOf9"
      },
      "execution_count": 19,
      "outputs": []
    },
    {
      "cell_type": "code",
      "source": [
        "class DecoderLayerT(tf.keras.layers.Layer):\n",
        "  def __init__(self,\n",
        "               *,\n",
        "               d_model,\n",
        "               num_heads,\n",
        "               dff,\n",
        "               dropout_rate=0.1):\n",
        "    super(DecoderLayerT, self).__init__()\n",
        "\n",
        "    self.causal_self_attention = CausalSelfAttentionT(\n",
        "        num_heads=num_heads,\n",
        "        key_dim=d_model,\n",
        "        dropout=dropout_rate)\n",
        "    \n",
        "    self.cross_attention = CrossAttentionT(\n",
        "        num_heads=num_heads,\n",
        "        key_dim=d_model,\n",
        "        dropout=dropout_rate)\n",
        "\n",
        "    self.ffn = FeedForwardT(d_model, dff)\n",
        "\n",
        "  def call(self, x, context):\n",
        "    x = self.causal_self_attention(x=x)\n",
        "    x = self.cross_attention(x=x, context=context)\n",
        "\n",
        "    # Cache the last attention scores for plotting later\n",
        "    self.last_attn_scores = self.cross_attention.last_attn_scores\n",
        "\n",
        "    x = self.ffn(x)  # Shape `(batch_size, seq_len, d_model)`.\n",
        "    return x\n",
        "\n",
        "class DecoderT(tf.keras.layers.Layer):\n",
        "    def __init__(self, *, num_layers, d_model, num_heads, dff, vocab_size,\n",
        "                dropout_rate=0.1):\n",
        "        super(DecoderT, self).__init__()\n",
        "        ### TODO:\n",
        "        # word_to_id etc, zie RNN decoder van Nick en Jan\n",
        "\n",
        "        self.d_model = d_model\n",
        "        self.num_layers = num_layers\n",
        "\n",
        "        self.pos_embedding = PositionalEmbeddingT(vocab_size=vocab_size,\n",
        "                                                    d_model=d_model)\n",
        "        self.dropout = tf.keras.layers.Dropout(dropout_rate)\n",
        "        self.dec_layers = [\n",
        "            DecoderLayerT(d_model=d_model, num_heads=num_heads,\n",
        "                            dff=dff, dropout_rate=dropout_rate)\n",
        "            for _ in range(num_layers)]\n",
        "\n",
        "        self.last_attn_scores = None\n",
        "\n",
        "    def call(self, x, context):\n",
        "        # `x` is token-IDs shape (batch, target_seq_len)\n",
        "        x = self.pos_embedding(x)  # (batch_size, target_seq_len, d_model)\n",
        "\n",
        "        x = self.dropout(x)\n",
        "\n",
        "        for i in range(self.num_layers):\n",
        "            x  = self.dec_layers[i](x, context)\n",
        "\n",
        "        self.last_attn_scores = self.dec_layers[-1].last_attn_scores\n",
        "\n",
        "        # The shape of x is (batch_size, target_seq_len, d_model).\n",
        "        return x"
      ],
      "metadata": {
        "id": "P8_myjAATnb9"
      },
      "execution_count": 20,
      "outputs": []
    },
    {
      "cell_type": "code",
      "source": [
        "class Transformer(tf.keras.Model):\n",
        "    def __init__(self, *, num_layers, d_model, num_heads, dff,\n",
        "                input_vocab_size, target_vocab_size, dropout_rate=0.1):\n",
        "        super().__init__()\n",
        "        self.encoder = EncoderT(num_layers=num_layers, d_model=d_model,\n",
        "                                num_heads=num_heads, dff=dff,\n",
        "                                vocab_size=input_vocab_size,\n",
        "                                dropout_rate=dropout_rate)\n",
        "\n",
        "        self.decoder = DecoderT(num_layers=num_layers, d_model=d_model,\n",
        "                                num_heads=num_heads, dff=dff,\n",
        "                                vocab_size=target_vocab_size,\n",
        "                                dropout_rate=dropout_rate)\n",
        "\n",
        "        self.final_layer = tf.keras.layers.Dense(target_vocab_size)\n",
        "    \n",
        "    def call(self, inputs):\n",
        "        # To use a Keras model with `.fit` you must pass all your inputs in the\n",
        "        # first argument.\n",
        "        context, x = inputs\n",
        "\n",
        "        context = self.encoder(context)  # (batch_size, context_len, d_model)\n",
        "\n",
        "        x = self.decoder(x, context)  # (batch_size, target_len, d_model)\n",
        "\n",
        "        # Final linear layer output.\n",
        "        logits = self.final_layer(x)  # (batch_size, target_len, target_vocab_size)\n",
        "\n",
        "        try:\n",
        "            # Drop the keras mask, so it doesn't scale the losses/metrics.\n",
        "            # b/250038731\n",
        "            del logits._keras_mask\n",
        "        except AttributeError:\n",
        "            pass\n",
        "\n",
        "        # Return the final output and the attention weights.\n",
        "        return logits"
      ],
      "metadata": {
        "id": "X3F7avH3Tnqt"
      },
      "execution_count": 21,
      "outputs": []
    },
    {
      "cell_type": "markdown",
      "source": [
        "# Training"
      ],
      "metadata": {
        "id": "gE75RbueMKMc"
      }
    },
    {
      "cell_type": "markdown",
      "source": [
        "## Training functions"
      ],
      "metadata": {
        "id": "QZzYkh4BMKQ1"
      }
    },
    {
      "cell_type": "code",
      "source": [
        "def masked_loss(label, pred):\n",
        "    mask = label != 0\n",
        "    loss_object = tf.keras.losses.SparseCategoricalCrossentropy(\n",
        "    from_logits=True, reduction='none')\n",
        "    loss = loss_object(label, pred)\n",
        "\n",
        "    mask = tf.cast(mask, dtype=loss.dtype)\n",
        "    loss *= mask\n",
        "\n",
        "    loss = tf.reduce_sum(loss)/tf.reduce_sum(mask)\n",
        "    return loss\n",
        "\n",
        "\n",
        "def masked_accuracy(label, pred):\n",
        "    pred = tf.argmax(pred, axis=2)\n",
        "    label = tf.cast(label, pred.dtype)\n",
        "    match = label == pred\n",
        "\n",
        "    mask = label != 0\n",
        "\n",
        "    match = match & mask\n",
        "\n",
        "    match = tf.cast(match, dtype=tf.float32)\n",
        "    mask = tf.cast(mask, dtype=tf.float32)\n",
        "    return tf.reduce_sum(match)/tf.reduce_sum(mask)"
      ],
      "metadata": {
        "id": "tJPDgRnQMKVU"
      },
      "execution_count": 22,
      "outputs": []
    },
    {
      "cell_type": "code",
      "source": [
        "# Used for transformer\n",
        "class CustomSchedule(tf.keras.optimizers.schedules.LearningRateSchedule):\n",
        "  def __init__(self, d_model, warmup_steps=4000):\n",
        "    super().__init__()\n",
        "\n",
        "    self.d_model = d_model\n",
        "    self.d_model = tf.cast(self.d_model, tf.float32)\n",
        "\n",
        "    self.warmup_steps = warmup_steps\n",
        "\n",
        "  def __call__(self, step):\n",
        "    step = tf.cast(step, dtype=tf.float32)\n",
        "    arg1 = tf.math.rsqrt(step)\n",
        "    arg2 = step * (self.warmup_steps ** -1.5)\n",
        "\n",
        "    return tf.math.rsqrt(self.d_model) * tf.math.minimum(arg1, arg2)\n",
        "  \n",
        "  def get_config(self):\n",
        "      config = {\n",
        "      'd_model': self.d_model,\n",
        "      'warmup_steps': self.warmup_steps,\n",
        "\n",
        "        }\n",
        "      return config"
      ],
      "metadata": {
        "id": "KOAN3jYDMKZf"
      },
      "execution_count": 23,
      "outputs": []
    },
    {
      "cell_type": "markdown",
      "source": [
        "## Models setup (with hyper-pars)"
      ],
      "metadata": {
        "id": "KkbRafPUMKw7"
      }
    },
    {
      "cell_type": "code",
      "source": [
        "# RNN\n",
        "RNN_UNITS = 32\n",
        "modelRNN = Translator(RNN_UNITS, abs_text_processor, tit_text_processor, GRU=False)\n"
      ],
      "metadata": {
        "id": "Jtyvjc7uVDNO",
        "colab": {
          "base_uri": "https://localhost:8080/"
        },
        "outputId": "705bfd47-4b57-495a-f16b-b829fe3e57a6"
      },
      "execution_count": 24,
      "outputs": [
        {
          "output_type": "stream",
          "name": "stdout",
          "text": [
            "Did start- and end-token get stored properly?\n",
            "tf.Tensor(2, shape=(), dtype=int64) tf.Tensor(3, shape=(), dtype=int64)\n"
          ]
        }
      ]
    },
    {
      "cell_type": "code",
      "source": [
        "# GRU\n",
        "GRU_UNITS = 32\n",
        "modelGRU = Translator(GRU_UNITS, abs_text_processor, tit_text_processor, GRU=True)"
      ],
      "metadata": {
        "id": "9xL9yyf-VurD",
        "colab": {
          "base_uri": "https://localhost:8080/"
        },
        "outputId": "76c64942-2cbb-4953-f869-57c63ea83229"
      },
      "execution_count": 25,
      "outputs": [
        {
          "output_type": "stream",
          "name": "stdout",
          "text": [
            "Did start- and end-token get stored properly?\n",
            "tf.Tensor(2, shape=(), dtype=int64) tf.Tensor(3, shape=(), dtype=int64)\n"
          ]
        }
      ]
    },
    {
      "cell_type": "code",
      "source": [
        "# Transformer hyper pars\n",
        "num_layers = 1\n",
        "d_model = 16\n",
        "dff = 32\n",
        "num_heads = 1 # was 8\n",
        "dropout_rate = 0.1\n",
        "\n",
        "# Training pars\n",
        "learning_rate = CustomSchedule(d_model)\n",
        "\n",
        "optimizer = tf.keras.optimizers.Adam(learning_rate, beta_1=0.9, beta_2=0.98,\n",
        "                                     epsilon=1e-9)\n",
        "\n",
        "# Load model\n",
        "modelT = Transformer(\n",
        "    num_layers=num_layers,\n",
        "    d_model=d_model,\n",
        "    num_heads=num_heads,\n",
        "    dff=dff,\n",
        "    input_vocab_size=len(abs_text_processor.get_vocabulary()),\n",
        "    target_vocab_size=len(tit_text_processor.get_vocabulary()),\n",
        "    dropout_rate=dropout_rate)"
      ],
      "metadata": {
        "id": "5JOx9eLFVwBL"
      },
      "execution_count": 26,
      "outputs": []
    },
    {
      "cell_type": "markdown",
      "source": [
        "## Compile"
      ],
      "metadata": {
        "id": "K7ZeY0yuWd4f"
      }
    },
    {
      "cell_type": "code",
      "source": [
        "modelGRU.compile(\n",
        "    loss=masked_loss,\n",
        "    optimizer='Adam',\n",
        "    metrics=[masked_accuracy])"
      ],
      "metadata": {
        "id": "AWXO-6XOVDU1"
      },
      "execution_count": 27,
      "outputs": []
    },
    {
      "cell_type": "code",
      "source": [
        "modelRNN.compile(\n",
        "    loss=masked_loss,\n",
        "    optimizer='Adam',\n",
        "    metrics=[masked_accuracy])"
      ],
      "metadata": {
        "id": "JbYQVdOvVDex"
      },
      "execution_count": 28,
      "outputs": []
    },
    {
      "cell_type": "code",
      "source": [
        "modelT.compile(\n",
        "    loss=masked_loss,\n",
        "    optimizer=optimizer,\n",
        "    metrics=[masked_accuracy])"
      ],
      "metadata": {
        "id": "B-qpqkWmVDiu"
      },
      "execution_count": 29,
      "outputs": []
    },
    {
      "cell_type": "markdown",
      "source": [
        "## Training"
      ],
      "metadata": {
        "id": "Gv9_kbxBk-s9"
      }
    },
    {
      "cell_type": "markdown",
      "source": [
        "### Train RNN"
      ],
      "metadata": {
        "id": "TW8e8ez8VDm0"
      }
    },
    {
      "cell_type": "code",
      "source": [
        "with tf.device('/device:GPU:0'):\n",
        "    historyRNN = modelRNN.fit(train_ds,\n",
        "                            epochs=30,\n",
        "                            validation_data=val_ds,\n",
        "                            callbacks=tf.keras.callbacks.EarlyStopping(\n",
        "                                monitor='val_loss',\n",
        "                                patience=3))"
      ],
      "metadata": {
        "id": "pPtY-POqVDqa",
        "colab": {
          "base_uri": "https://localhost:8080/"
        },
        "outputId": "151af01a-debf-4801-af77-083f21d63cc9"
      },
      "execution_count": 30,
      "outputs": [
        {
          "output_type": "stream",
          "name": "stdout",
          "text": [
            "Epoch 1/30\n",
            "136/136 [==============================] - 108s 728ms/step - loss: 7.5685 - masked_accuracy: 0.0506 - val_loss: 6.7872 - val_masked_accuracy: 0.0951\n",
            "Epoch 2/30\n",
            "136/136 [==============================] - 68s 497ms/step - loss: 6.5060 - masked_accuracy: 0.1085 - val_loss: 6.4865 - val_masked_accuracy: 0.1214\n",
            "Epoch 3/30\n",
            "136/136 [==============================] - 53s 390ms/step - loss: 6.0733 - masked_accuracy: 0.1410 - val_loss: 6.2185 - val_masked_accuracy: 0.1549\n",
            "Epoch 4/30\n",
            "136/136 [==============================] - 53s 388ms/step - loss: 5.6849 - masked_accuracy: 0.1774 - val_loss: 6.0577 - val_masked_accuracy: 0.1738\n",
            "Epoch 5/30\n",
            "136/136 [==============================] - 54s 393ms/step - loss: 5.3540 - masked_accuracy: 0.2110 - val_loss: 5.9715 - val_masked_accuracy: 0.1863\n",
            "Epoch 6/30\n",
            "136/136 [==============================] - 53s 388ms/step - loss: 5.0685 - masked_accuracy: 0.2401 - val_loss: 5.9406 - val_masked_accuracy: 0.1888\n",
            "Epoch 7/30\n",
            "136/136 [==============================] - 53s 390ms/step - loss: 4.7991 - masked_accuracy: 0.2656 - val_loss: 5.9212 - val_masked_accuracy: 0.1934\n",
            "Epoch 8/30\n",
            "136/136 [==============================] - 53s 388ms/step - loss: 4.5418 - masked_accuracy: 0.2882 - val_loss: 5.9466 - val_masked_accuracy: 0.1911\n",
            "Epoch 9/30\n",
            "136/136 [==============================] - 53s 386ms/step - loss: 4.3054 - masked_accuracy: 0.3096 - val_loss: 5.9848 - val_masked_accuracy: 0.1891\n",
            "Epoch 10/30\n",
            "136/136 [==============================] - 53s 391ms/step - loss: 4.0839 - masked_accuracy: 0.3298 - val_loss: 6.0693 - val_masked_accuracy: 0.2002\n"
          ]
        }
      ]
    },
    {
      "cell_type": "markdown",
      "source": [
        "### Train GRU"
      ],
      "metadata": {
        "id": "JC2vwjx8VDvF"
      }
    },
    {
      "cell_type": "code",
      "source": [
        "with tf.device('/device:GPU:0'):\n",
        "    historyGRU = modelGRU.fit(train_ds,\n",
        "                            epochs=30,\n",
        "                            validation_data=val_ds,\n",
        "                            callbacks=tf.keras.callbacks.EarlyStopping(\n",
        "                                monitor='val_loss',\n",
        "                                patience=3))"
      ],
      "metadata": {
        "id": "uv5avzTeVDxm",
        "colab": {
          "base_uri": "https://localhost:8080/"
        },
        "outputId": "e22474f0-3c1c-4807-dcff-5a589ce7e8e6"
      },
      "execution_count": 31,
      "outputs": [
        {
          "output_type": "stream",
          "name": "stdout",
          "text": [
            "Epoch 1/30\n",
            "136/136 [==============================] - 37s 200ms/step - loss: 7.5511 - masked_accuracy: 0.0942 - val_loss: 6.8085 - val_masked_accuracy: 0.0951\n",
            "Epoch 2/30\n",
            "136/136 [==============================] - 8s 61ms/step - loss: 6.5778 - masked_accuracy: 0.1025 - val_loss: 6.5535 - val_masked_accuracy: 0.1201\n",
            "Epoch 3/30\n",
            "136/136 [==============================] - 8s 61ms/step - loss: 6.1419 - masked_accuracy: 0.1392 - val_loss: 6.2124 - val_masked_accuracy: 0.1519\n",
            "Epoch 4/30\n",
            "136/136 [==============================] - 8s 61ms/step - loss: 5.7337 - masked_accuracy: 0.1760 - val_loss: 6.0225 - val_masked_accuracy: 0.1810\n",
            "Epoch 5/30\n",
            "136/136 [==============================] - 8s 62ms/step - loss: 5.4070 - masked_accuracy: 0.2108 - val_loss: 5.9029 - val_masked_accuracy: 0.1916\n",
            "Epoch 6/30\n",
            "136/136 [==============================] - 8s 62ms/step - loss: 5.1252 - masked_accuracy: 0.2360 - val_loss: 5.8192 - val_masked_accuracy: 0.2005\n",
            "Epoch 7/30\n",
            "136/136 [==============================] - 8s 61ms/step - loss: 4.8617 - masked_accuracy: 0.2586 - val_loss: 5.8051 - val_masked_accuracy: 0.2060\n",
            "Epoch 8/30\n",
            "136/136 [==============================] - 8s 62ms/step - loss: 4.6433 - masked_accuracy: 0.2748 - val_loss: 5.7888 - val_masked_accuracy: 0.2087\n",
            "Epoch 9/30\n",
            "136/136 [==============================] - 8s 61ms/step - loss: 4.4239 - masked_accuracy: 0.2951 - val_loss: 5.8078 - val_masked_accuracy: 0.2063\n",
            "Epoch 10/30\n",
            "136/136 [==============================] - 8s 62ms/step - loss: 4.2067 - masked_accuracy: 0.3152 - val_loss: 5.8745 - val_masked_accuracy: 0.2091\n",
            "Epoch 11/30\n",
            "136/136 [==============================] - 8s 62ms/step - loss: 4.0041 - masked_accuracy: 0.3346 - val_loss: 5.8506 - val_masked_accuracy: 0.2102\n"
          ]
        }
      ]
    },
    {
      "cell_type": "markdown",
      "source": [
        "### Train Transformer"
      ],
      "metadata": {
        "id": "3-MoQyFAVD2l"
      }
    },
    {
      "cell_type": "code",
      "source": [
        "with tf.device('/device:GPU:0'):\n",
        "    historyT = modelT.fit(train_ds,\n",
        "                            epochs=30,\n",
        "                            validation_data=val_ds,\n",
        "                            callbacks=tf.keras.callbacks.EarlyStopping(\n",
        "                                monitor='val_loss',\n",
        "                                patience=3))"
      ],
      "metadata": {
        "id": "hz1cUqc9VD5M",
        "colab": {
          "base_uri": "https://localhost:8080/"
        },
        "outputId": "9a84ab29-f3fe-4f3f-b6c3-c8fb3c2cfb70"
      },
      "execution_count": 32,
      "outputs": [
        {
          "output_type": "stream",
          "name": "stdout",
          "text": [
            "Epoch 1/30\n",
            "136/136 [==============================] - 53s 314ms/step - loss: 9.2250 - masked_accuracy: 8.0066e-04 - val_loss: 9.1436 - val_masked_accuracy: 0.0040\n",
            "Epoch 2/30\n",
            "136/136 [==============================] - 4s 32ms/step - loss: 8.9524 - masked_accuracy: 0.0161 - val_loss: 8.7246 - val_masked_accuracy: 0.0284\n",
            "Epoch 3/30\n",
            "136/136 [==============================] - 5s 33ms/step - loss: 8.3556 - masked_accuracy: 0.0274 - val_loss: 8.0338 - val_masked_accuracy: 0.0281\n",
            "Epoch 4/30\n",
            "136/136 [==============================] - 4s 32ms/step - loss: 7.5400 - masked_accuracy: 0.0280 - val_loss: 7.2748 - val_masked_accuracy: 0.0281\n",
            "Epoch 5/30\n",
            "136/136 [==============================] - 4s 31ms/step - loss: 6.8666 - masked_accuracy: 0.0776 - val_loss: 6.9076 - val_masked_accuracy: 0.0951\n",
            "Epoch 6/30\n",
            "136/136 [==============================] - 5s 34ms/step - loss: 6.6124 - masked_accuracy: 0.0968 - val_loss: 6.7817 - val_masked_accuracy: 0.0951\n",
            "Epoch 7/30\n",
            "136/136 [==============================] - 5s 36ms/step - loss: 6.3882 - masked_accuracy: 0.1110 - val_loss: 6.6032 - val_masked_accuracy: 0.1202\n",
            "Epoch 8/30\n",
            "136/136 [==============================] - 4s 32ms/step - loss: 6.1160 - masked_accuracy: 0.1364 - val_loss: 6.4709 - val_masked_accuracy: 0.1516\n",
            "Epoch 9/30\n",
            "136/136 [==============================] - 4s 31ms/step - loss: 5.8756 - masked_accuracy: 0.1577 - val_loss: 6.3874 - val_masked_accuracy: 0.1663\n",
            "Epoch 10/30\n",
            "136/136 [==============================] - 5s 33ms/step - loss: 5.6749 - masked_accuracy: 0.1741 - val_loss: 6.3556 - val_masked_accuracy: 0.1749\n",
            "Epoch 11/30\n",
            "136/136 [==============================] - 5s 34ms/step - loss: 5.5084 - masked_accuracy: 0.1867 - val_loss: 6.4178 - val_masked_accuracy: 0.1814\n",
            "Epoch 12/30\n",
            "136/136 [==============================] - 4s 31ms/step - loss: 5.3594 - masked_accuracy: 0.1992 - val_loss: 6.4199 - val_masked_accuracy: 0.1896\n",
            "Epoch 13/30\n",
            "136/136 [==============================] - 5s 34ms/step - loss: 5.2283 - masked_accuracy: 0.2085 - val_loss: 6.3230 - val_masked_accuracy: 0.1938\n",
            "Epoch 14/30\n",
            "136/136 [==============================] - 5s 34ms/step - loss: 5.1086 - masked_accuracy: 0.2169 - val_loss: 6.2974 - val_masked_accuracy: 0.1956\n",
            "Epoch 15/30\n",
            "136/136 [==============================] - 5s 34ms/step - loss: 4.9818 - masked_accuracy: 0.2263 - val_loss: 6.3207 - val_masked_accuracy: 0.1995\n",
            "Epoch 16/30\n",
            "136/136 [==============================] - 5s 34ms/step - loss: 4.8658 - masked_accuracy: 0.2347 - val_loss: 6.3619 - val_masked_accuracy: 0.2011\n",
            "Epoch 17/30\n",
            "136/136 [==============================] - 4s 32ms/step - loss: 4.7692 - masked_accuracy: 0.2413 - val_loss: 6.2381 - val_masked_accuracy: 0.1995\n",
            "Epoch 18/30\n",
            "136/136 [==============================] - 4s 32ms/step - loss: 4.6494 - masked_accuracy: 0.2504 - val_loss: 6.2410 - val_masked_accuracy: 0.2015\n",
            "Epoch 19/30\n",
            "136/136 [==============================] - 4s 32ms/step - loss: 4.5396 - masked_accuracy: 0.2601 - val_loss: 6.2442 - val_masked_accuracy: 0.2024\n",
            "Epoch 20/30\n",
            "136/136 [==============================] - 4s 32ms/step - loss: 4.4379 - masked_accuracy: 0.2670 - val_loss: 6.2576 - val_masked_accuracy: 0.1995\n"
          ]
        }
      ]
    },
    {
      "cell_type": "markdown",
      "source": [
        "## Training summary"
      ],
      "metadata": {
        "id": "NMSoPdJ-VD-A"
      }
    },
    {
      "cell_type": "code",
      "source": [
        "def plot_history(history, model_name):\n",
        "    # Acc's\n",
        "    plt.plot(history.history['masked_accuracy'])\n",
        "    plt.plot(history.history['val_masked_accuracy'])\n",
        "    plt.title(f'model accuracy - {model_name}')\n",
        "    plt.ylabel('accuracy')\n",
        "    plt.xlabel('epoch')\n",
        "    plt.legend(['train', 'val'], loc='upper left')\n",
        "    plt.show()\n",
        "    \n",
        "    # summarize history for loss\n",
        "    plt.plot(history.history['loss'])\n",
        "    plt.plot(history.history['val_loss'])\n",
        "    plt.title(f'model loss - {model_name}')\n",
        "    plt.ylabel('loss')\n",
        "    plt.xlabel('epoch')\n",
        "    plt.legend(['train', 'val'], loc='upper left')\n",
        "    plt.show()"
      ],
      "metadata": {
        "id": "518YdRRIVECE"
      },
      "execution_count": 33,
      "outputs": []
    },
    {
      "cell_type": "markdown",
      "source": [
        "### RNN"
      ],
      "metadata": {
        "id": "hJji4JmeXXvf"
      }
    },
    {
      "cell_type": "code",
      "source": [
        "modelRNN.summary()"
      ],
      "metadata": {
        "id": "_hJzotmKXIZm",
        "colab": {
          "base_uri": "https://localhost:8080/"
        },
        "outputId": "a2033b0a-a6e9-4a62-e23a-e1c2ce66bb75"
      },
      "execution_count": 34,
      "outputs": [
        {
          "output_type": "stream",
          "name": "stdout",
          "text": [
            "Model: \"translator\"\n",
            "_________________________________________________________________\n",
            " Layer (type)                Output Shape              Param #   \n",
            "=================================================================\n",
            " encoder_rnn (EncoderRNN)    multiple                  877184    \n",
            "                                                                 \n",
            " decoder_rnn (DecoderRNN)    multiple                  691923    \n",
            "                                                                 \n",
            "=================================================================\n",
            "Total params: 1,569,107\n",
            "Trainable params: 1,569,107\n",
            "Non-trainable params: 0\n",
            "_________________________________________________________________\n"
          ]
        }
      ]
    },
    {
      "cell_type": "code",
      "source": [
        "plot_history(historyRNN, f'RNN ({RNN_UNITS})')"
      ],
      "metadata": {
        "id": "thGXlE1iXIow",
        "colab": {
          "base_uri": "https://localhost:8080/",
          "height": 573
        },
        "outputId": "bf380876-ed27-4127-d55d-f70fb2992661"
      },
      "execution_count": 35,
      "outputs": [
        {
          "output_type": "display_data",
          "data": {
            "text/plain": [
              "<Figure size 432x288 with 1 Axes>"
            ],
            "image/png": "[encoded data removed]"
          },
          "metadata": {
            "needs_background": "light"
          }
        },
        {
          "output_type": "display_data",
          "data": {
            "text/plain": [
              "<Figure size 432x288 with 1 Axes>"
            ],
            "image/png": "[encoded data removed]"
          },
          "metadata": {
            "needs_background": "light"
          }
        }
      ]
    },
    {
      "cell_type": "markdown",
      "source": [
        "### GRU"
      ],
      "metadata": {
        "id": "T5mzL7-NXXLi"
      }
    },
    {
      "cell_type": "code",
      "source": [
        "modelGRU.summary()"
      ],
      "metadata": {
        "id": "fypT0ix6XIte",
        "colab": {
          "base_uri": "https://localhost:8080/"
        },
        "outputId": "f2177f93-1241-47d5-fa41-b9c5c1fd7cc1"
      },
      "execution_count": 36,
      "outputs": [
        {
          "output_type": "stream",
          "name": "stdout",
          "text": [
            "Model: \"translator_1\"\n",
            "_________________________________________________________________\n",
            " Layer (type)                Output Shape              Param #   \n",
            "=================================================================\n",
            " encoder_rnn_1 (EncoderRNN)  multiple                  881440    \n",
            "                                                                 \n",
            " decoder_rnn_1 (DecoderRNN)  multiple                  696179    \n",
            "                                                                 \n",
            "=================================================================\n",
            "Total params: 1,577,619\n",
            "Trainable params: 1,577,619\n",
            "Non-trainable params: 0\n",
            "_________________________________________________________________\n"
          ]
        }
      ]
    },
    {
      "cell_type": "code",
      "source": [
        "plot_history(historyGRU, f'GRU ({GRU_UNITS})')"
      ],
      "metadata": {
        "id": "eO-8LA35XIzq",
        "colab": {
          "base_uri": "https://localhost:8080/",
          "height": 573
        },
        "outputId": "4d324bfe-e5b5-44a4-c005-4739a40f8418"
      },
      "execution_count": 37,
      "outputs": [
        {
          "output_type": "display_data",
          "data": {
            "text/plain": [
              "<Figure size 432x288 with 1 Axes>"
            ],
            "image/png": "[encoded data removed]"
          },
          "metadata": {
            "needs_background": "light"
          }
        },
        {
          "output_type": "display_data",
          "data": {
            "text/plain": [
              "<Figure size 432x288 with 1 Axes>"
            ],
            "image/png": "[encoded data removed]"
          },
          "metadata": {
            "needs_background": "light"
          }
        }
      ]
    },
    {
      "cell_type": "markdown",
      "source": [
        "### Transformer"
      ],
      "metadata": {
        "id": "TaKCfdFsXWKo"
      }
    },
    {
      "cell_type": "code",
      "source": [
        "modelT.summary()"
      ],
      "metadata": {
        "id": "sRrzXLb7XWPc",
        "colab": {
          "base_uri": "https://localhost:8080/"
        },
        "outputId": "cbbf988f-4fc1-4b53-ea72-41a08a1c8eca"
      },
      "execution_count": 38,
      "outputs": [
        {
          "output_type": "stream",
          "name": "stdout",
          "text": [
            "Model: \"transformer\"\n",
            "_________________________________________________________________\n",
            " Layer (type)                Output Shape              Param #   \n",
            "=================================================================\n",
            " encoder_t (EncoderT)        multiple                  439776    \n",
            "                                                                 \n",
            " decoder_t (DecoderT)        multiple                  172096    \n",
            "                                                                 \n",
            " dense_6 (Dense)             multiple                  179299    \n",
            "                                                                 \n",
            "=================================================================\n",
            "Total params: 791,171\n",
            "Trainable params: 791,171\n",
            "Non-trainable params: 0\n",
            "_________________________________________________________________\n"
          ]
        }
      ]
    },
    {
      "cell_type": "code",
      "source": [
        "# for naming\n",
        "pars = dict(L = num_layers, emb = d_model, ff = dff, heads = num_heads)\n",
        "\n",
        "s = ''\n",
        "for k, v in pars.items():\n",
        "    s += f'{k}={v}; '\n",
        "s = s[:-2]\n",
        "\n",
        "# plot history\n",
        "plot_history(historyT, f'Transformer ({s})')"
      ],
      "metadata": {
        "id": "XHCgyzq7XWoR",
        "colab": {
          "base_uri": "https://localhost:8080/",
          "height": 573
        },
        "outputId": "03661314-5dd3-4093-8c2d-60cdb1903eb4"
      },
      "execution_count": 41,
      "outputs": [
        {
          "output_type": "display_data",
          "data": {
            "text/plain": [
              "<Figure size 432x288 with 1 Axes>"
            ],
            "image/png": "[encoded data removed]"
          },
          "metadata": {
            "needs_background": "light"
          }
        },
        {
          "output_type": "display_data",
          "data": {
            "text/plain": [
              "<Figure size 432x288 with 1 Axes>"
            ],
            "image/png": "[encoded data removed]"
          },
          "metadata": {
            "needs_background": "light"
          }
        }
      ]
    },
    {
      "cell_type": "markdown",
      "source": [
        "# Inference\n",
        "\n",
        "1. Add inference from both branches on git, as implemented. Adjust variable names with above.\n",
        "2. Use same sample from test-set\n",
        "\n",
        "\n"
      ],
      "metadata": {
        "id": "-hCKJt_PXWuS"
      }
    },
    {
      "cell_type": "code",
      "source": [
        "def print_translation(abs, pred, ground_truth):\n",
        "    print(f'{\"Input:\":15s}: {abs}')\n",
        "    print(f'{\"Prediction\":15s}: {pred}')\n",
        "    print(f'{\"Ground truth\":15s}: {ground_truth}')\n",
        "\n",
        "samples = random.sample(range(1087), 6)\n",
        "print(samples)\n",
        "rnn_x1, rnn_y1 = test_text[samples[0]], test_labels[samples[0]]\n",
        "rnn_x2, rnn_y2 = test_text[samples[1]], test_labels[samples[1]]\n",
        "gru_x1, gru_y1 = test_text[samples[2]], test_labels[samples[2]]\n",
        "gru_x2, gru_y2 = test_text[samples[3]], test_labels[samples[3]]\n",
        "tr_x1, tr_y1 = test_text[samples[4]], test_labels[samples[4]]\n",
        "tr_x2, tr_y2 = test_text[samples[5]], test_labels[samples[5]]\n",
        "\n",
        "# y1 = 'recognizing named entities in tweets'\n",
        "# x1 = 'the challenges of named entities recognition ( ner ) for tweets lie in the insufficient information in a tweet and the unavailability of training data . we propose to combine a k-nearest neighbors ( knn ) classifier with a linear conditional random fields ( crf ) model under a semi-supervised learning framework to tackle these challenges . the knn based classifier conducts pre-labeling to collect global coarse evidence across tweets while the crf model conducts sequential labeling to capture fine-grained information encoded in a tweet . the semi-supervised learning plus the gazetteers alleviate the lack of training data . extensive experiments show the advantages of our method over the baselines as well as the effectiveness of knn and semisupervised learning .'\n",
        "\n",
        "# y2 = 'interactive grammar development with wcdg'\n",
        "# x2 = 'the manual design of grammars for accurate natural language analysis is an iterative process ; while modelling decisions usually determine parser behaviour , evidence from analysing more or different input can suggest unforeseen regularities , which leads to a reformulation of rules , or even to a different model of previously analysed phenomena . we describe an implementation of weighted constraint dependency grammar that supports the grammar writer by providing display , automatic analysis , and diagnosis of dependency analyses and allows the direct exploration of alternative analyses and their status under the current grammar .'"
      ],
      "metadata": {
        "id": "jwSIBv_ofnln",
        "colab": {
          "base_uri": "https://localhost:8080/"
        },
        "outputId": "212efc6e-29ed-44e3-8eea-c6ca63226cc7"
      },
      "execution_count": 62,
      "outputs": [
        {
          "output_type": "stream",
          "name": "stdout",
          "text": [
            "[490, 739, 816, 775, 117, 729]\n"
          ]
        }
      ]
    },
    {
      "cell_type": "markdown",
      "source": [
        "## RNN"
      ],
      "metadata": {
        "id": "-ruIbY49YfKR"
      }
    },
    {
      "cell_type": "code",
      "source": [
        "rnn_yhat1 = modelRNN.translate([rnn_x1])\n",
        "rnn_yhat2 = modelRNN.translate([rnn_x2])\n",
        "\n",
        "print_translation(rnn_x1, rnn_yhat1[0].numpy().decode(), rnn_y1)\n",
        "print_translation(rnn_x2, rnn_yhat2[0].numpy().decode(), rnn_y2)"
      ],
      "metadata": {
        "id": "4QVH8z1wYgpg",
        "colab": {
          "base_uri": "https://localhost:8080/"
        },
        "outputId": "09d09301-b8e1-4cfa-9478-71b886590605"
      },
      "execution_count": 63,
      "outputs": [
        {
          "output_type": "stream",
          "name": "stdout",
          "text": [
            "Input:         : we propose a solution to the annotation bottleneck for statistical parsing , by exploiting the lexicalized nature of combinatory categorial grammar ( ccg ) . the parsing model uses predicate-argument dependencies for training , which are derived from sequences of ccg lexical categories rather than full derivations . a simple method is used for extracting dependencies from lexical category sequences , resulting in high precision , yet incomplete and noisy data . the dependency parsing model of clark and curran ( 2004b ) is extended to exploit this partial training data . remarkably , the accuracy of the parser trained on data derived from category sequences alone is only 1.3 % worse in terms of f-score than the parser trained on complete dependency structures .\n",
            "Prediction     : unsupervised learning of bilingual text classification using latent variable models \n",
            "Ground truth   : partial training for a lexicalized-grammar parser\n",
            "Input:         : this paper describes a probabilistic model for coordination disambiguation integrated into syntactic and case structure analysis . our model probabilistically assesses the parallelism of a candidate coordinate structure using syntactic/semantic similarities and cooccurrence statistics . we integrate these probabilities into the framework of fully-lexicalized parsing based on largescale case frames . this approach simultaneously addresses two tasks of coordination disambiguation : the detection of coordinate conjunctions and the scope disambiguation of coordinate structures . experimental results on web sentences indicate the effectiveness of our approach .\n",
            "Prediction     : a probabilistic model for unsupervised word sense disambiguation \n",
            "Ground truth   : probabilistic coordination disambiguation in a fully-lexicalized japanese parser\n"
          ]
        }
      ]
    },
    {
      "cell_type": "markdown",
      "source": [
        "## GRU"
      ],
      "metadata": {
        "id": "RX2SIIsyYg9r"
      }
    },
    {
      "cell_type": "code",
      "source": [
        "gru_yhat1 = modelGRU.translate([gru_x1])\n",
        "gru_yhat2 = modelGRU.translate([gru_x2])\n",
        "\n",
        "print_translation(gru_x1, gru_yhat1[0].numpy().decode(), gru_y1)\n",
        "print_translation(gru_x2, gru_yhat2[0].numpy().decode(), gru_y2)"
      ],
      "metadata": {
        "id": "UYIFwbO3YhCP",
        "colab": {
          "base_uri": "https://localhost:8080/"
        },
        "outputId": "695dddb2-546d-4520-b5d3-fad681d91a20"
      },
      "execution_count": 64,
      "outputs": [
        {
          "output_type": "stream",
          "name": "stdout",
          "text": [
            "Input:         : towards deep analysis of compositional classes of paraphrases , we have examined a class-oriented framework for collecting paraphrase examples , in which sentential paraphrases are collected for each paraphrase class separately by means of automatic candidate generation and manual judgement . our preliminary experiments on building a paraphrase corpus have so far been producing promising results , which we have evaluated according to cost-efficiency , exhaustiveness , and reliability .\n",
            "Prediction     : a hybrid approach to automatic generation of language understanding \n",
            "Ground truth   : a class-oriented approach to building a paraphrase corpus\n",
            "Input:         : classifying what-type questions into proper semantic categories is found more challenging than classifying other types in question answering systems . in this paper , we propose to classify what-type questions by head noun tagging . the approach highlights the role of head nouns as the category discriminator of whattype questions . to reduce the semantic ambiguities of head noun , we integrate local syntactic feature , semantic feature and category dependency among adjacent nouns with conditional random fields ( crfs ) . experiments on standard question classification data set show that the approach achieves state-of-the-art performances .\n",
            "Prediction     : a hybrid approach to named entity recognition in a large scale information retrieval \n",
            "Ground truth   : classifying what-type questions by head noun tagging\n"
          ]
        }
      ]
    },
    {
      "cell_type": "markdown",
      "source": [
        "## Transformer"
      ],
      "metadata": {
        "id": "mOtapooZYhPN"
      }
    },
    {
      "cell_type": "code",
      "source": [
        "class TranslatorT(tf.Module):\n",
        "  def __init__(self, tokenizer, detokenizer, transformer):\n",
        "    self.tokenizer = tokenizer\n",
        "    self.detokenizer = detokenizer\n",
        "    self.transformer = transformer\n",
        "\n",
        "  def __call__(self, sentence):\n",
        "    # The input sentence is an abstract, hence adding the `[START]` and `[END]` tokens.\n",
        "    assert isinstance(sentence, tf.Tensor)\n",
        "    if len(sentence.shape) == 0:\n",
        "      sentence = sentence[tf.newaxis]\n",
        "\n",
        "    # TODO: use our own tokenizer\n",
        "    sentence = self.tokenizer(sentence).to_tensor()\n",
        "\n",
        "    encoder_input = sentence\n",
        "\n",
        "    # As the output language a title, initialize the output with the\n",
        "    # `[START]` token.\n",
        "    # TODO: look up how to tokenize this\n",
        "    start_end = self.detokenizer([''])[0]\n",
        "    start = start_end[0][tf.newaxis]\n",
        "    end = start_end[1][tf.newaxis]\n",
        "\n",
        "    # `tf.TensorArray` is required here (instead of a Python list), so that the\n",
        "    # dynamic-loop can be traced by `tf.function`.\n",
        "    output_array = tf.TensorArray(dtype=tf.int64, size=0, dynamic_size=True)\n",
        "    output_array = output_array.write(0, start)\n",
        "\n",
        "    # 50 is an arbitrary break-point\n",
        "    for i in tf.range(50):\n",
        "      output = tf.transpose(output_array.stack())\n",
        "      predictions = self.transformer([encoder_input, output], training=False)\n",
        "\n",
        "      # Select the last token from the `seq_len` dimension.\n",
        "      predictions = predictions[:, -1:, :]  # Shape `(batch_size, 1, vocab_size)`.\n",
        "\n",
        "      predicted_id = tf.argmax(predictions, axis=-1)\n",
        "\n",
        "      # Concatenate the `predicted_id` to the output which is given to the\n",
        "      # decoder as its input.\n",
        "      output_array = output_array.write(i+1, predicted_id[0])\n",
        "\n",
        "      if predicted_id == end:\n",
        "        break\n",
        "\n",
        "    output = tf.transpose(output_array.stack())\n",
        "\n",
        "    tit_vocab = np.array(self.detokenizer.get_vocabulary())\n",
        "    tokens = tit_vocab[output.numpy()]\n",
        "    text = [' '.join(tok) for tok in tokens]\n",
        "\n",
        "    # The output shape is `(1, tokens)`.\n",
        "    # text = self.detokenizer(output)[0]  # Shape: `()`.\n",
        "\n",
        "    #tokens = self.detokenizer lookup(output)[0]\n",
        "\n",
        "    # `tf.function` prevents us from using the attention_weights that were\n",
        "    # calculated on the last iteration of the loop.\n",
        "    # So, recalculate them outside the loop.\n",
        "    self.transformer([encoder_input, output[:,:-1]], training=False)\n",
        "    attention_weights = self.transformer.decoder.last_attn_scores\n",
        "\n",
        "    # return text, tokens, attention_weights\n",
        "    return text, attention_weights\n"
      ],
      "metadata": {
        "id": "tk8d_jb1YknO"
      },
      "execution_count": 65,
      "outputs": []
    },
    {
      "cell_type": "code",
      "source": [
        "transT = TranslatorT(abs_text_processor, tit_text_processor, modelT)"
      ],
      "metadata": {
        "id": "YZCEyih9e9Wt"
      },
      "execution_count": 66,
      "outputs": []
    },
    {
      "cell_type": "code",
      "source": [
        "t_yhat1, _ = transT(tf.constant(tr_x1))\n",
        "t_yhat2, _ = transT(tf.constant(tr_x2))\n",
        "\n",
        "t_yhat1 = t_yhat1[0].replace('[START] ', '').replace(' [END]', '')\n",
        "t_yhat2 = t_yhat2[0].replace('[START] ', '').replace(' [END]', '')\n",
        "\n",
        "print_translation(tr_x1, t_yhat1, tr_y1)\n",
        "print_translation(tr_x2, t_yhat2, tr_y2)"
      ],
      "metadata": {
        "id": "yHIHRv3_fIBF",
        "colab": {
          "base_uri": "https://localhost:8080/"
        },
        "outputId": "215a1e36-14e6-459b-8edd-6139de8e4409"
      },
      "execution_count": 75,
      "outputs": [
        {
          "output_type": "stream",
          "name": "stdout",
          "text": [
            "Input:         : spoken language translation systems have usually been produced for such specific domains as health care or military use . ideally , such systems would be easily portable to other domains in which translation is mission critical , such as emergency response or law enforcement . however , porting has in practice proven difficult . this paper will comment on the sources of this difficulty and briefly present an approach to rapid inter-domain portability . three aspects will be discussed : ( 1 ) large general-purpose lexicons for automatic speech recognition and machine translation , made reliable and usable through interactive facilities for monitoring and correcting errors ; ( 2 ) easily modifiable facilities for instant translation of frequent phrases ; and ( 3 ) quickly modifiable custom glossaries . as support for our approach , we apply our current slt system , now optimized for the health care domain , to sample utterances from the military , emergency service , and law enforcement domains , with discussion of numerous specific sentences .\n",
            "Prediction     : learning of a hybrid model for spoken dialogue systems\n",
            "Ground truth   : rapid portability among domains in an interactive spoken language translation system\n",
            "Input:         : this paper presents an evaluation of indirect anaphor resolution which considers as lexical resource the semantic tagging provided by the palavras parser . we describe the semantic tagging process and a corpus experiment .\n",
            "Prediction     : a probabilistic model for unsupervised word sense disambiguation\n",
            "Ground truth   : semantic tagging for resolution of indirect anaphora\n"
          ]
        }
      ]
    },
    {
      "cell_type": "markdown",
      "source": [
        "# BestScore\n",
        "\n",
        "- https://github.com/Tiiiger/bert_score/blob/master/example/Demo.ipynb"
      ],
      "metadata": {
        "id": "jXsR9llQYlpQ"
      }
    },
    {
      "cell_type": "code",
      "source": [
        "!pip install git+https://github.com/Tiiiger/bert_score\n",
        "!pip install transformers"
      ],
      "metadata": {
        "id": "YCVDzIbrYlx2",
        "colab": {
          "base_uri": "https://localhost:8080/"
        },
        "outputId": "cbbd44cc-026d-4d93-e712-60d6a32954a0"
      },
      "execution_count": 68,
      "outputs": [
        {
          "output_type": "stream",
          "name": "stdout",
          "text": [
            "Looking in indexes: https://pypi.org/simple, https://us-python.pkg.dev/colab-wheels/public/simple/\n",
            "Collecting git+https://github.com/Tiiiger/bert_score\n",
            "  Cloning https://github.com/Tiiiger/bert_score to /tmp/pip-req-build-4t1bvwii\n",
            "  Running command git clone --filter=blob:none --quiet https://github.com/Tiiiger/bert_score /tmp/pip-req-build-4t1bvwii\n",
            "  Resolved https://github.com/Tiiiger/bert_score to commit cb582ed5c88b02230b8f101173fd959b68023dc6\n",
            "  Preparing metadata (setup.py) ... \u001b[?25l\u001b[?25hdone\n",
            "Requirement already satisfied: torch>=1.0.0 in /usr/local/lib/python3.8/dist-packages (from bert-score==0.3.12) (1.13.1+cu116)\n",
            "Requirement already satisfied: pandas>=1.0.1 in /usr/local/lib/python3.8/dist-packages (from bert-score==0.3.12) (1.3.5)\n",
            "Requirement already satisfied: transformers>=3.0.0 in /usr/local/lib/python3.8/dist-packages (from bert-score==0.3.12) (4.25.1)\n",
            "Requirement already satisfied: numpy in /usr/local/lib/python3.8/dist-packages (from bert-score==0.3.12) (1.21.6)\n",
            "Requirement already satisfied: requests in /usr/local/lib/python3.8/dist-packages (from bert-score==0.3.12) (2.25.1)\n",
            "Requirement already satisfied: tqdm>=4.31.1 in /usr/local/lib/python3.8/dist-packages (from bert-score==0.3.12) (4.64.1)\n",
            "Requirement already satisfied: matplotlib in /usr/local/lib/python3.8/dist-packages (from bert-score==0.3.12) (3.2.2)\n",
            "Requirement already satisfied: packaging>=20.9 in /usr/local/lib/python3.8/dist-packages (from bert-score==0.3.12) (21.3)\n",
            "Requirement already satisfied: pyparsing!=3.0.5,>=2.0.2 in /usr/local/lib/python3.8/dist-packages (from packaging>=20.9->bert-score==0.3.12) (3.0.9)\n",
            "Requirement already satisfied: pytz>=2017.3 in /usr/local/lib/python3.8/dist-packages (from pandas>=1.0.1->bert-score==0.3.12) (2022.7)\n",
            "Requirement already satisfied: python-dateutil>=2.7.3 in /usr/local/lib/python3.8/dist-packages (from pandas>=1.0.1->bert-score==0.3.12) (2.8.2)\n",
            "Requirement already satisfied: typing-extensions in /usr/local/lib/python3.8/dist-packages (from torch>=1.0.0->bert-score==0.3.12) (4.4.0)\n",
            "Requirement already satisfied: huggingface-hub<1.0,>=0.10.0 in /usr/local/lib/python3.8/dist-packages (from transformers>=3.0.0->bert-score==0.3.12) (0.11.1)\n",
            "Requirement already satisfied: tokenizers!=0.11.3,<0.14,>=0.11.1 in /usr/local/lib/python3.8/dist-packages (from transformers>=3.0.0->bert-score==0.3.12) (0.13.2)\n",
            "Requirement already satisfied: filelock in /usr/local/lib/python3.8/dist-packages (from transformers>=3.0.0->bert-score==0.3.12) (3.9.0)\n",
            "Requirement already satisfied: regex!=2019.12.17 in /usr/local/lib/python3.8/dist-packages (from transformers>=3.0.0->bert-score==0.3.12) (2022.6.2)\n",
            "Requirement already satisfied: pyyaml>=5.1 in /usr/local/lib/python3.8/dist-packages (from transformers>=3.0.0->bert-score==0.3.12) (6.0)\n",
            "Requirement already satisfied: cycler>=0.10 in /usr/local/lib/python3.8/dist-packages (from matplotlib->bert-score==0.3.12) (0.11.0)\n",
            "Requirement already satisfied: kiwisolver>=1.0.1 in /usr/local/lib/python3.8/dist-packages (from matplotlib->bert-score==0.3.12) (1.4.4)\n",
            "Requirement already satisfied: idna<3,>=2.5 in /usr/local/lib/python3.8/dist-packages (from requests->bert-score==0.3.12) (2.10)\n",
            "Requirement already satisfied: chardet<5,>=3.0.2 in /usr/local/lib/python3.8/dist-packages (from requests->bert-score==0.3.12) (4.0.0)\n",
            "Requirement already satisfied: certifi>=2017.4.17 in /usr/local/lib/python3.8/dist-packages (from requests->bert-score==0.3.12) (2022.12.7)\n",
            "Requirement already satisfied: urllib3<1.27,>=1.21.1 in /usr/local/lib/python3.8/dist-packages (from requests->bert-score==0.3.12) (1.24.3)\n",
            "Requirement already satisfied: six>=1.5 in /usr/local/lib/python3.8/dist-packages (from python-dateutil>=2.7.3->pandas>=1.0.1->bert-score==0.3.12) (1.15.0)\n",
            "Looking in indexes: https://pypi.org/simple, https://us-python.pkg.dev/colab-wheels/public/simple/\n",
            "Requirement already satisfied: transformers in /usr/local/lib/python3.8/dist-packages (4.25.1)\n",
            "Requirement already satisfied: tokenizers!=0.11.3,<0.14,>=0.11.1 in /usr/local/lib/python3.8/dist-packages (from transformers) (0.13.2)\n",
            "Requirement already satisfied: huggingface-hub<1.0,>=0.10.0 in /usr/local/lib/python3.8/dist-packages (from transformers) (0.11.1)\n",
            "Requirement already satisfied: tqdm>=4.27 in /usr/local/lib/python3.8/dist-packages (from transformers) (4.64.1)\n",
            "Requirement already satisfied: requests in /usr/local/lib/python3.8/dist-packages (from transformers) (2.25.1)\n",
            "Requirement already satisfied: numpy>=1.17 in /usr/local/lib/python3.8/dist-packages (from transformers) (1.21.6)\n",
            "Requirement already satisfied: regex!=2019.12.17 in /usr/local/lib/python3.8/dist-packages (from transformers) (2022.6.2)\n",
            "Requirement already satisfied: packaging>=20.0 in /usr/local/lib/python3.8/dist-packages (from transformers) (21.3)\n",
            "Requirement already satisfied: pyyaml>=5.1 in /usr/local/lib/python3.8/dist-packages (from transformers) (6.0)\n",
            "Requirement already satisfied: filelock in /usr/local/lib/python3.8/dist-packages (from transformers) (3.9.0)\n",
            "Requirement already satisfied: typing-extensions>=3.7.4.3 in /usr/local/lib/python3.8/dist-packages (from huggingface-hub<1.0,>=0.10.0->transformers) (4.4.0)\n",
            "Requirement already satisfied: pyparsing!=3.0.5,>=2.0.2 in /usr/local/lib/python3.8/dist-packages (from packaging>=20.0->transformers) (3.0.9)\n",
            "Requirement already satisfied: certifi>=2017.4.17 in /usr/local/lib/python3.8/dist-packages (from requests->transformers) (2022.12.7)\n",
            "Requirement already satisfied: chardet<5,>=3.0.2 in /usr/local/lib/python3.8/dist-packages (from requests->transformers) (4.0.0)\n",
            "Requirement already satisfied: idna<3,>=2.5 in /usr/local/lib/python3.8/dist-packages (from requests->transformers) (2.10)\n",
            "Requirement already satisfied: urllib3<1.27,>=1.21.1 in /usr/local/lib/python3.8/dist-packages (from requests->transformers) (1.24.3)\n"
          ]
        }
      ]
    },
    {
      "cell_type": "code",
      "source": [
        "from bert_score import BERTScorer\n",
        "import logging\n",
        "import transformers"
      ],
      "metadata": {
        "id": "Yb9FBsdPkUgs"
      },
      "execution_count": 69,
      "outputs": []
    },
    {
      "cell_type": "code",
      "source": [
        "transformers.tokenization_utils.logger.setLevel(logging.ERROR)\n",
        "transformers.configuration_utils.logger.setLevel(logging.ERROR)\n",
        "transformers.modeling_utils.logger.setLevel(logging.ERROR)"
      ],
      "metadata": {
        "id": "ixsHKxl-kVcO"
      },
      "execution_count": 70,
      "outputs": []
    },
    {
      "cell_type": "code",
      "source": [
        "scorer = BERTScorer(lang=\"en\", rescale_with_baseline=True)"
      ],
      "metadata": {
        "id": "o9p64fnCYl2K"
      },
      "execution_count": 71,
      "outputs": []
    },
    {
      "cell_type": "code",
      "source": [
        "generated_titles = [\n",
        "    'example generated title 1',\n",
        "    'example generated title 2',\n",
        "    'example generated title 3'\n",
        "    ]\n",
        "\n",
        "actual_titles = [\n",
        "    'example actual title 1',\n",
        "    'example actual title 2',\n",
        "    'example actual title 3'\n",
        "    ]\n",
        "\n",
        "# Precision, Recall, F1 scores \n",
        "# len(actual_titles) == len(generated_titles) == len(P) == len(R) == len(F1)\n",
        "P, R, F1 = scorer.score(generated_titles, actual_titles)"
      ],
      "metadata": {
        "id": "dIVmevkbYl6C"
      },
      "execution_count": 72,
      "outputs": []
    },
    {
      "cell_type": "code",
      "source": [
        "P, R, F1"
      ],
      "metadata": {
        "id": "vopMYh9wYl9t",
        "colab": {
          "base_uri": "https://localhost:8080/"
        },
        "outputId": "cfe55283-59ae-46e9-81a7-081510b25bd5"
      },
      "execution_count": 73,
      "outputs": [
        {
          "output_type": "execute_result",
          "data": {
            "text/plain": [
              "(tensor([0.7109, 0.7012, 0.6989]),\n",
              " tensor([0.7423, 0.7290, 0.7283]),\n",
              " tensor([0.7270, 0.7155, 0.7140]))"
            ]
          },
          "metadata": {},
          "execution_count": 73
        }
      ]
    },
    {
      "cell_type": "code",
      "source": [
        "P, R, F1 = scorer.score([rnn_yhat1.numpy()[0].decode('utf-8'),\n",
        "                         rnn_yhat2.numpy()[0].decode('utf-8')], \n",
        "                        [rnn_y1, rnn_y2])\n",
        "P, R, F1"
      ],
      "metadata": {
        "colab": {
          "base_uri": "https://localhost:8080/"
        },
        "id": "lR269xVfn-pK",
        "outputId": "b5be1c53-ba3d-49ad-e418-f3f696336066"
      },
      "execution_count": 74,
      "outputs": [
        {
          "output_type": "execute_result",
          "data": {
            "text/plain": [
              "(tensor([-0.0229,  0.0186]),\n",
              " tensor([0.1963, 0.1946]),\n",
              " tensor([0.0858, 0.1065]))"
            ]
          },
          "metadata": {},
          "execution_count": 74
        }
      ]
    },
    {
      "cell_type": "code",
      "source": [
        "x1 = rnn_x1\n",
        "x2 = rnn_x2\n",
        "y1, y2 = rnn_y1, rnn_y2\n",
        "\n",
        "rnn_yhat1 = modelRNN.translate([x1])\n",
        "rnn_yhat2 = modelRNN.translate([x2])\n",
        "\n",
        "print_translation(x1, rnn_yhat1[0].numpy().decode(), y1)\n",
        "print_translation(x2, rnn_yhat2[0].numpy().decode(), y2)\n",
        "print()\n",
        "\n",
        "gru_yhat1 = modelGRU.translate([x1])\n",
        "gru_yhat2 = modelGRU.translate([x2])\n",
        "\n",
        "print_translation(x1, gru_yhat1[0].numpy().decode(), y1)\n",
        "print_translation(x2, gru_yhat2[0].numpy().decode(), y2)\n",
        "print()\n",
        "\n",
        "t_yhat1, _ = transT(tf.constant(x1))\n",
        "t_yhat2, _ = transT(tf.constant(x2))\n",
        "\n",
        "t_yhat1 = t_yhat1[0].replace('[START] ', '').replace(' [END]', '')\n",
        "t_yhat2 = t_yhat2[0].replace('[START] ', '').replace(' [END]', '')\n",
        "\n",
        "print_translation(x1, t_yhat1, y1)\n",
        "print_translation(x2, t_yhat2, y2)"
      ],
      "metadata": {
        "colab": {
          "base_uri": "https://localhost:8080/"
        },
        "id": "3xXdFdhZ144K",
        "outputId": "af96e715-3607-4327-eb49-063cf0f0b9a0"
      },
      "execution_count": 77,
      "outputs": [
        {
          "output_type": "stream",
          "name": "stdout",
          "text": [
            "Input:         : we propose a solution to the annotation bottleneck for statistical parsing , by exploiting the lexicalized nature of combinatory categorial grammar ( ccg ) . the parsing model uses predicate-argument dependencies for training , which are derived from sequences of ccg lexical categories rather than full derivations . a simple method is used for extracting dependencies from lexical category sequences , resulting in high precision , yet incomplete and noisy data . the dependency parsing model of clark and curran ( 2004b ) is extended to exploit this partial training data . remarkably , the accuracy of the parser trained on data derived from category sequences alone is only 1.3 % worse in terms of f-score than the parser trained on complete dependency structures .\n",
            "Prediction     : unsupervised learning of bilingual text classification using latent variable models \n",
            "Ground truth   : partial training for a lexicalized-grammar parser\n",
            "Input:         : this paper describes a probabilistic model for coordination disambiguation integrated into syntactic and case structure analysis . our model probabilistically assesses the parallelism of a candidate coordinate structure using syntactic/semantic similarities and cooccurrence statistics . we integrate these probabilities into the framework of fully-lexicalized parsing based on largescale case frames . this approach simultaneously addresses two tasks of coordination disambiguation : the detection of coordinate conjunctions and the scope disambiguation of coordinate structures . experimental results on web sentences indicate the effectiveness of our approach .\n",
            "Prediction     : a probabilistic model for unsupervised word sense disambiguation \n",
            "Ground truth   : probabilistic coordination disambiguation in a fully-lexicalized japanese parser\n",
            "\n",
            "Input:         : we propose a solution to the annotation bottleneck for statistical parsing , by exploiting the lexicalized nature of combinatory categorial grammar ( ccg ) . the parsing model uses predicate-argument dependencies for training , which are derived from sequences of ccg lexical categories rather than full derivations . a simple method is used for extracting dependencies from lexical category sequences , resulting in high precision , yet incomplete and noisy data . the dependency parsing model of clark and curran ( 2004b ) is extended to exploit this partial training data . remarkably , the accuracy of the parser trained on data derived from category sequences alone is only 1.3 % worse in terms of f-score than the parser trained on complete dependency structures .\n",
            "Prediction     : a hybrid approach to automatic generation of language understanding \n",
            "Ground truth   : partial training for a lexicalized-grammar parser\n",
            "Input:         : this paper describes a probabilistic model for coordination disambiguation integrated into syntactic and case structure analysis . our model probabilistically assesses the parallelism of a candidate coordinate structure using syntactic/semantic similarities and cooccurrence statistics . we integrate these probabilities into the framework of fully-lexicalized parsing based on largescale case frames . this approach simultaneously addresses two tasks of coordination disambiguation : the detection of coordinate conjunctions and the scope disambiguation of coordinate structures . experimental results on web sentences indicate the effectiveness of our approach .\n",
            "Prediction     : a hybrid approach to named entity recognition in a large scale information retrieval \n",
            "Ground truth   : probabilistic coordination disambiguation in a fully-lexicalized japanese parser\n",
            "\n",
            "Input:         : we propose a solution to the annotation bottleneck for statistical parsing , by exploiting the lexicalized nature of combinatory categorial grammar ( ccg ) . the parsing model uses predicate-argument dependencies for training , which are derived from sequences of ccg lexical categories rather than full derivations . a simple method is used for extracting dependencies from lexical category sequences , resulting in high precision , yet incomplete and noisy data . the dependency parsing model of clark and curran ( 2004b ) is extended to exploit this partial training data . remarkably , the accuracy of the parser trained on data derived from category sequences alone is only 1.3 % worse in terms of f-score than the parser trained on complete dependency structures .\n",
            "Prediction     : joint parsing with dependency parsing with dependency parsing\n",
            "Ground truth   : partial training for a lexicalized-grammar parser\n",
            "Input:         : this paper describes a probabilistic model for coordination disambiguation integrated into syntactic and case structure analysis . our model probabilistically assesses the parallelism of a candidate coordinate structure using syntactic/semantic similarities and cooccurrence statistics . we integrate these probabilities into the framework of fully-lexicalized parsing based on largescale case frames . this approach simultaneously addresses two tasks of coordination disambiguation : the detection of coordinate conjunctions and the scope disambiguation of coordinate structures . experimental results on web sentences indicate the effectiveness of our approach .\n",
            "Prediction     : joint parsing of word alignment for parsing\n",
            "Ground truth   : probabilistic coordination disambiguation in a fully-lexicalized japanese parser\n"
          ]
        }
      ]
    },
    {
      "cell_type": "markdown",
      "source": [
        "## Test results"
      ],
      "metadata": {
        "id": "GxBhj-zZ3Fzb"
      }
    },
    {
      "cell_type": "code",
      "source": [
        "rnn_preds, gru_preds, tra_preds = [], [], []\n",
        "counter = 0\n",
        "for text in test_text:\n",
        "    rnn_preds.append(modelRNN.translate([text])[0].numpy().decode())\n",
        "    gru_preds.append(modelGRU.translate([text])[0].numpy().decode())\n",
        "    \n",
        "    tp, _ = transT(tf.constant(text))\n",
        "    tp = tp[0].replace('[START] ', '').replace(' [END]', '')\n",
        "    \n",
        "    tra_preds.append(tp)\n",
        "\n",
        "    counter+=1\n",
        "    if counter % 100 == 0:\n",
        "        print(f'{counter/len(test_labels)}%')\n",
        "\n",
        "rnn_P, rnn_R, rnn_F1 = scorer.score(rnn_preds, test_labels)\n",
        "gru_P, gru_R, gru_F1 = scorer.score(gru_preds, test_labels)\n",
        "tra_P, tra_R, tra_F1 = scorer.score(tra_preds, test_labels)"
      ],
      "metadata": {
        "colab": {
          "base_uri": "https://localhost:8080/",
          "height": 565
        },
        "id": "PbvrSTms3i9n",
        "outputId": "112027ea-8084-4318-8d6a-cc6e2752883e"
      },
      "execution_count": 80,
      "outputs": [
        {
          "output_type": "stream",
          "name": "stdout",
          "text": [
            "0.09199632014719411%\n",
            "0.18399264029438822%\n",
            "0.27598896044158233%\n",
            "0.36798528058877644%\n",
            "0.45998160073597055%\n",
            "0.5519779208831647%\n",
            "0.6439742410303588%\n",
            "0.7359705611775529%\n",
            "0.827966881324747%\n",
            "0.9199632014719411%\n"
          ]
        },
        {
          "output_type": "stream",
          "name": "stderr",
          "text": [
            "Warning: Empty candidate sentence detected; setting raw BERTscores to 0.\n"
          ]
        },
        {
          "output_type": "error",
          "ename": "TypeError",
          "evalue": "ignored",
          "traceback": [
            "\u001b[0;31m---------------------------------------------------------------------------\u001b[0m",
            "\u001b[0;31mTypeError\u001b[0m                                 Traceback (most recent call last)",
            "\u001b[0;32m<ipython-input-80-7cd5cca72a11>\u001b[0m in \u001b[0;36m<module>\u001b[0;34m\u001b[0m\n\u001b[1;32m     16\u001b[0m \u001b[0mrnn_P\u001b[0m\u001b[0;34m,\u001b[0m \u001b[0mrnn_R\u001b[0m\u001b[0;34m,\u001b[0m \u001b[0mrnn_F1\u001b[0m \u001b[0;34m=\u001b[0m \u001b[0mscorer\u001b[0m\u001b[0;34m.\u001b[0m\u001b[0mscore\u001b[0m\u001b[0;34m(\u001b[0m\u001b[0mrnn_preds\u001b[0m\u001b[0;34m,\u001b[0m \u001b[0mtest_labels\u001b[0m\u001b[0;34m)\u001b[0m\u001b[0;34m\u001b[0m\u001b[0;34m\u001b[0m\u001b[0m\n\u001b[1;32m     17\u001b[0m \u001b[0mgru_P\u001b[0m\u001b[0;34m,\u001b[0m \u001b[0mgru_R\u001b[0m\u001b[0;34m,\u001b[0m \u001b[0mgru_F1\u001b[0m \u001b[0;34m=\u001b[0m \u001b[0mscorer\u001b[0m\u001b[0;34m.\u001b[0m\u001b[0mscore\u001b[0m\u001b[0;34m(\u001b[0m\u001b[0mgru_preds\u001b[0m\u001b[0;34m,\u001b[0m \u001b[0mtest_labels\u001b[0m\u001b[0;34m)\u001b[0m\u001b[0;34m\u001b[0m\u001b[0;34m\u001b[0m\u001b[0m\n\u001b[0;32m---> 18\u001b[0;31m \u001b[0mtra_P\u001b[0m\u001b[0;34m,\u001b[0m \u001b[0mtra_R\u001b[0m\u001b[0;34m,\u001b[0m \u001b[0mtra_F1\u001b[0m \u001b[0;34m=\u001b[0m \u001b[0mscorer\u001b[0m\u001b[0;34m.\u001b[0m\u001b[0mscore\u001b[0m\u001b[0;34m(\u001b[0m\u001b[0mtra_preds\u001b[0m\u001b[0;34m,\u001b[0m \u001b[0mtest_labels\u001b[0m\u001b[0;34m)\u001b[0m\u001b[0;34m\u001b[0m\u001b[0;34m\u001b[0m\u001b[0m\n\u001b[0m",
            "\u001b[0;32m/usr/local/lib/python3.8/dist-packages/bert_score/scorer.py\u001b[0m in \u001b[0;36mscore\u001b[0;34m(self, cands, refs, verbose, batch_size, return_hash)\u001b[0m\n\u001b[1;32m    218\u001b[0m             \u001b[0midf_dict\u001b[0m\u001b[0;34m[\u001b[0m\u001b[0mself\u001b[0m\u001b[0;34m.\u001b[0m\u001b[0m_tokenizer\u001b[0m\u001b[0;34m.\u001b[0m\u001b[0mcls_token_id\u001b[0m\u001b[0;34m]\u001b[0m \u001b[0;34m=\u001b[0m \u001b[0;36m0\u001b[0m\u001b[0;34m\u001b[0m\u001b[0;34m\u001b[0m\u001b[0m\n\u001b[1;32m    219\u001b[0m \u001b[0;34m\u001b[0m\u001b[0m\n\u001b[0;32m--> 220\u001b[0;31m         all_preds = bert_cos_score_idf(\n\u001b[0m\u001b[1;32m    221\u001b[0m             \u001b[0mself\u001b[0m\u001b[0;34m.\u001b[0m\u001b[0m_model\u001b[0m\u001b[0;34m,\u001b[0m\u001b[0;34m\u001b[0m\u001b[0;34m\u001b[0m\u001b[0m\n\u001b[1;32m    222\u001b[0m             \u001b[0mrefs\u001b[0m\u001b[0;34m,\u001b[0m\u001b[0;34m\u001b[0m\u001b[0;34m\u001b[0m\u001b[0m\n",
            "\u001b[0;32m/usr/local/lib/python3.8/dist-packages/bert_score/utils.py\u001b[0m in \u001b[0;36mbert_cos_score_idf\u001b[0;34m(model, refs, hyps, tokenizer, idf_dict, verbose, batch_size, device, all_layers)\u001b[0m\n\u001b[1;32m    605\u001b[0m         \u001b[0;32mreturn\u001b[0m \u001b[0msorted\u001b[0m\u001b[0;34m(\u001b[0m\u001b[0mlist\u001b[0m\u001b[0;34m(\u001b[0m\u001b[0mset\u001b[0m\u001b[0;34m(\u001b[0m\u001b[0ml\u001b[0m\u001b[0;34m)\u001b[0m\u001b[0;34m)\u001b[0m\u001b[0;34m,\u001b[0m \u001b[0mkey\u001b[0m\u001b[0;34m=\u001b[0m\u001b[0;32mlambda\u001b[0m \u001b[0mx\u001b[0m\u001b[0;34m:\u001b[0m \u001b[0mlen\u001b[0m\u001b[0;34m(\u001b[0m\u001b[0mx\u001b[0m\u001b[0;34m.\u001b[0m\u001b[0msplit\u001b[0m\u001b[0;34m(\u001b[0m\u001b[0;34m\" \"\u001b[0m\u001b[0;34m)\u001b[0m\u001b[0;34m)\u001b[0m\u001b[0;34m,\u001b[0m \u001b[0mreverse\u001b[0m\u001b[0;34m=\u001b[0m\u001b[0;32mTrue\u001b[0m\u001b[0;34m)\u001b[0m\u001b[0;34m\u001b[0m\u001b[0;34m\u001b[0m\u001b[0m\n\u001b[1;32m    606\u001b[0m \u001b[0;34m\u001b[0m\u001b[0m\n\u001b[0;32m--> 607\u001b[0;31m     \u001b[0msentences\u001b[0m \u001b[0;34m=\u001b[0m \u001b[0mdedup_and_sort\u001b[0m\u001b[0;34m(\u001b[0m\u001b[0mrefs\u001b[0m \u001b[0;34m+\u001b[0m \u001b[0mhyps\u001b[0m\u001b[0;34m)\u001b[0m\u001b[0;34m\u001b[0m\u001b[0;34m\u001b[0m\u001b[0m\n\u001b[0m\u001b[1;32m    608\u001b[0m     \u001b[0membs\u001b[0m \u001b[0;34m=\u001b[0m \u001b[0;34m[\u001b[0m\u001b[0;34m]\u001b[0m\u001b[0;34m\u001b[0m\u001b[0;34m\u001b[0m\u001b[0m\n\u001b[1;32m    609\u001b[0m     \u001b[0miter_range\u001b[0m \u001b[0;34m=\u001b[0m \u001b[0mrange\u001b[0m\u001b[0;34m(\u001b[0m\u001b[0;36m0\u001b[0m\u001b[0;34m,\u001b[0m \u001b[0mlen\u001b[0m\u001b[0;34m(\u001b[0m\u001b[0msentences\u001b[0m\u001b[0;34m)\u001b[0m\u001b[0;34m,\u001b[0m \u001b[0mbatch_size\u001b[0m\u001b[0;34m)\u001b[0m\u001b[0;34m\u001b[0m\u001b[0;34m\u001b[0m\u001b[0m\n",
            "\u001b[0;32m/usr/local/lib/python3.8/dist-packages/bert_score/utils.py\u001b[0m in \u001b[0;36mdedup_and_sort\u001b[0;34m(l)\u001b[0m\n\u001b[1;32m    603\u001b[0m \u001b[0;34m\u001b[0m\u001b[0m\n\u001b[1;32m    604\u001b[0m     \u001b[0;32mdef\u001b[0m \u001b[0mdedup_and_sort\u001b[0m\u001b[0;34m(\u001b[0m\u001b[0ml\u001b[0m\u001b[0;34m)\u001b[0m\u001b[0;34m:\u001b[0m\u001b[0;34m\u001b[0m\u001b[0;34m\u001b[0m\u001b[0m\n\u001b[0;32m--> 605\u001b[0;31m         \u001b[0;32mreturn\u001b[0m \u001b[0msorted\u001b[0m\u001b[0;34m(\u001b[0m\u001b[0mlist\u001b[0m\u001b[0;34m(\u001b[0m\u001b[0mset\u001b[0m\u001b[0;34m(\u001b[0m\u001b[0ml\u001b[0m\u001b[0;34m)\u001b[0m\u001b[0;34m)\u001b[0m\u001b[0;34m,\u001b[0m \u001b[0mkey\u001b[0m\u001b[0;34m=\u001b[0m\u001b[0;32mlambda\u001b[0m \u001b[0mx\u001b[0m\u001b[0;34m:\u001b[0m \u001b[0mlen\u001b[0m\u001b[0;34m(\u001b[0m\u001b[0mx\u001b[0m\u001b[0;34m.\u001b[0m\u001b[0msplit\u001b[0m\u001b[0;34m(\u001b[0m\u001b[0;34m\" \"\u001b[0m\u001b[0;34m)\u001b[0m\u001b[0;34m)\u001b[0m\u001b[0;34m,\u001b[0m \u001b[0mreverse\u001b[0m\u001b[0;34m=\u001b[0m\u001b[0;32mTrue\u001b[0m\u001b[0;34m)\u001b[0m\u001b[0;34m\u001b[0m\u001b[0;34m\u001b[0m\u001b[0m\n\u001b[0m\u001b[1;32m    606\u001b[0m \u001b[0;34m\u001b[0m\u001b[0m\n\u001b[1;32m    607\u001b[0m     \u001b[0msentences\u001b[0m \u001b[0;34m=\u001b[0m \u001b[0mdedup_and_sort\u001b[0m\u001b[0;34m(\u001b[0m\u001b[0mrefs\u001b[0m \u001b[0;34m+\u001b[0m \u001b[0mhyps\u001b[0m\u001b[0;34m)\u001b[0m\u001b[0;34m\u001b[0m\u001b[0;34m\u001b[0m\u001b[0m\n",
            "\u001b[0;31mTypeError\u001b[0m: unhashable type: 'list'"
          ]
        }
      ]
    },
    {
      "cell_type": "code",
      "source": [
        "rnn_P.mean(), rnn_R.mean(), rnn_F1.mean()"
      ],
      "metadata": {
        "colab": {
          "base_uri": "https://localhost:8080/"
        },
        "id": "dx9ajO9-5IZR",
        "outputId": "e287cd74-705a-4fed-a1bb-c8af48389ee3"
      },
      "execution_count": 81,
      "outputs": [
        {
          "output_type": "execute_result",
          "data": {
            "text/plain": [
              "(tensor(0.0815), tensor(0.0960), tensor(0.0884))"
            ]
          },
          "metadata": {},
          "execution_count": 81
        }
      ]
    },
    {
      "cell_type": "code",
      "source": [
        "tra_preds2 = []\n",
        "for tp, _ in tra_preds:\n",
        "    tp = tp[0].replace('[START] ', '').replace(' [END]', '')\n",
        "    tra_preds2.append(tp)\n",
        "tra_P, tra_R, tra_F1 = scorer.score(tra_preds2, test_labels)"
      ],
      "metadata": {
        "id": "UyXt2iXs5QB8"
      },
      "execution_count": 83,
      "outputs": []
    },
    {
      "cell_type": "code",
      "source": [
        "print(rnn_P.mean(), rnn_R.mean(), rnn_F1.mean())\n",
        "print(gru_P.mean(), gru_R.mean(), gru_F1.mean())\n",
        "print(tra_P.mean(), tra_R.mean(), tra_F1.mean())"
      ],
      "metadata": {
        "colab": {
          "base_uri": "https://localhost:8080/"
        },
        "id": "-k3LbGEXEiis",
        "outputId": "8cef365e-a7e1-4262-b6a3-46e3155dd329"
      },
      "execution_count": 85,
      "outputs": [
        {
          "output_type": "stream",
          "name": "stdout",
          "text": [
            "tensor(0.0815) tensor(0.0960) tensor(0.0884)\n",
            "tensor(0.1782) tensor(0.0811) tensor(0.1289)\n",
            "tensor(0.2131) tensor(0.0697) tensor(0.1401)\n"
          ]
        }
      ]
    },
    {
      "cell_type": "code",
      "source": [
        "print(rnn_P.std(), rnn_R.std(), rnn_F1.std())\n",
        "print(gru_P.std(), gru_R.std(), gru_F1.std())\n",
        "print(tra_P.std(), tra_R.std(), tra_F1.std())"
      ],
      "metadata": {
        "colab": {
          "base_uri": "https://localhost:8080/"
        },
        "id": "g1cc_YInFTYy",
        "outputId": "090533f6-4235-4495-b4c8-a5cebc49945f"
      },
      "execution_count": 86,
      "outputs": [
        {
          "output_type": "stream",
          "name": "stdout",
          "text": [
            "tensor(0.1721) tensor(0.1838) tensor(0.1504)\n",
            "tensor(0.2354) tensor(0.2438) tensor(0.2212)\n",
            "tensor(0.1766) tensor(0.1913) tensor(0.1605)\n"
          ]
        }
      ]
    },
    {
      "cell_type": "code",
      "source": [
        "tra_F1.argmax()"
      ],
      "metadata": {
        "colab": {
          "base_uri": "https://localhost:8080/"
        },
        "id": "6cVUHZO-FbrF",
        "outputId": "d18fadac-ab15-4c44-c473-635030d9fa6c"
      },
      "execution_count": 88,
      "outputs": [
        {
          "output_type": "execute_result",
          "data": {
            "text/plain": [
              "tensor(677)"
            ]
          },
          "metadata": {},
          "execution_count": 88
        }
      ]
    },
    {
      "cell_type": "code",
      "source": [
        "tra_preds2[677], test_labels[677]"
      ],
      "metadata": {
        "colab": {
          "base_uri": "https://localhost:8080/"
        },
        "id": "5qvXEFa8Fh3j",
        "outputId": "2c45946b-6135-4a69-de76-0994ebee8238"
      },
      "execution_count": 90,
      "outputs": [
        {
          "output_type": "execute_result",
          "data": {
            "text/plain": [
              "('unsupervised relation extraction from web documents',\n",
              " 'unsupervised relation extraction from web documents')"
            ]
          },
          "metadata": {},
          "execution_count": 90
        }
      ]
    },
    {
      "cell_type": "code",
      "source": [
        "test_text[677]"
      ],
      "metadata": {
        "colab": {
          "base_uri": "https://localhost:8080/",
          "height": 110
        },
        "id": "EemjnqpWFmVO",
        "outputId": "ce2df5e2-9984-4065-db36-12b88faadaba"
      },
      "execution_count": 91,
      "outputs": [
        {
          "output_type": "execute_result",
          "data": {
            "text/plain": [
              "'the idex system is a prototype of an interactive dynamic information extraction ( ie ) system . a user of the system expresses an information request in the form of a topic description , which is used for an initial search in order to retrieve a relevant set of documents . on basis of this set of documents , unsupervised relation extraction and clustering is done by the system . the results of these operations can then be interactively inspected by the user . in this paper we describe the relation extraction and clustering components of the idex system . preliminary evaluation results of these components are presented and an overview is given of possible enhancements to improve the relation extraction and clustering components .'"
            ],
            "application/vnd.google.colaboratory.intrinsic+json": {
              "type": "string"
            }
          },
          "metadata": {},
          "execution_count": 91
        }
      ]
    },
    {
      "cell_type": "code",
      "source": [
        "plt.hist(tra_F1)\n",
        "plt.plot()"
      ],
      "metadata": {
        "colab": {
          "base_uri": "https://localhost:8080/",
          "height": 283
        },
        "id": "9bjezHh1GYLD",
        "outputId": "54b65bf8-053d-425c-bc1a-705c0d7c209b"
      },
      "execution_count": 92,
      "outputs": [
        {
          "output_type": "execute_result",
          "data": {
            "text/plain": [
              "[]"
            ]
          },
          "metadata": {},
          "execution_count": 92
        },
        {
          "output_type": "display_data",
          "data": {
            "text/plain": [
              "<Figure size 432x288 with 1 Axes>"
            ],
            "image/png": "[encoded data removed]"
          },
          "metadata": {
            "needs_background": "light"
          }
        }
      ]
    },
    {
      "cell_type": "code",
      "source": [],
      "metadata": {
        "id": "RVGsC_keGj7m"
      },
      "execution_count": null,
      "outputs": []
    }
  ]
}
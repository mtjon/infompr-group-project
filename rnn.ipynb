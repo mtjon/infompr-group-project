{
  "cells": [
    {
      "cell_type": "markdown",
      "metadata": {
        "id": "view-in-github",
        "colab_type": "text"
      },
      "source": [
        "<a href=\"https://colab.research.google.com/github/mtjon/infompr-group-project/blob/feature%2Frnn/rnn.ipynb\" target=\"_parent\"><img src=\"https://colab.research.google.com/assets/colab-badge.svg\" alt=\"Open In Colab\"/></a>"
      ]
    },
    {
      "cell_type": "markdown",
      "metadata": {
        "id": "Nma_JWh-W-IF"
      },
      "source": [
        "# Title Generation through Abstract Summarisation with RNNs\n",
        "\n"
      ]
    },
    {
      "cell_type": "code",
      "execution_count": 1,
      "metadata": {
        "id": "0N0RTnvaqU4P"
      },
      "outputs": [],
      "source": [
        "# from google.colab import drive\n",
        "# drive.mount('/content/drive')"
      ]
    },
    {
      "cell_type": "code",
      "execution_count": 2,
      "metadata": {
        "colab": {
          "base_uri": "https://localhost:8080/"
        },
        "id": "A_vHnSLfBZo2",
        "outputId": "1f065c7d-b232-4906-cf36-cdf041c4ad6f"
      },
      "outputs": [
        {
          "output_type": "stream",
          "name": "stdout",
          "text": [
            "Reading package lists... Done\n",
            "Building dependency tree       \n",
            "Reading state information... Done\n",
            "The following packages will be REMOVED:\n",
            "  libcudnn8-dev\n",
            "The following held packages will be changed:\n",
            "  libcudnn8\n",
            "The following packages will be DOWNGRADED:\n",
            "  libcudnn8\n",
            "0 upgraded, 0 newly installed, 1 downgraded, 1 to remove and 21 not upgraded.\n",
            "Need to get 430 MB of archives.\n",
            "After this operation, 1,392 MB disk space will be freed.\n",
            "Get:1 https://developer.download.nvidia.com/compute/cuda/repos/ubuntu2004/x86_64  libcudnn8 8.1.0.77-1+cuda11.2 [430 MB]\n",
            "Fetched 430 MB in 12s (37.2 MB/s)\n",
            "(Reading database ... 129504 files and directories currently installed.)\n",
            "Removing libcudnn8-dev (8.1.1.33-1+cuda11.2) ...\n",
            "update-alternatives: removing manually selected alternative - switching libcudnn to auto mode\n",
            "\u001b[1mdpkg:\u001b[0m \u001b[1;33mwarning:\u001b[0m downgrading libcudnn8 from 8.1.1.33-1+cuda11.2 to 8.1.0.77-1+cuda11.2\n",
            "(Reading database ... 129481 files and directories currently installed.)\n",
            "Preparing to unpack .../libcudnn8_8.1.0.77-1+cuda11.2_amd64.deb ...\n",
            "Unpacking libcudnn8 (8.1.0.77-1+cuda11.2) over (8.1.1.33-1+cuda11.2) ...\n",
            "Setting up libcudnn8 (8.1.0.77-1+cuda11.2) ...\n",
            "\u001b[33mWARNING: Skipping tensorflow-text as it is not installed.\u001b[0m\u001b[33m\n",
            "\u001b[2K     \u001b[90m━━━━━━━━━━━━━━━━━━━━━━━━━━━━━━━━━━━━━━━━\u001b[0m \u001b[32m4.6/4.6 MB\u001b[0m \u001b[31m44.8 MB/s\u001b[0m eta \u001b[36m0:00:00\u001b[0m\n",
            "\u001b[2K     \u001b[90m━━━━━━━━━━━━━━━━━━━━━━━━━━━━━━━━━━━━━━━\u001b[0m \u001b[32m511.8/511.8 MB\u001b[0m \u001b[31m3.1 MB/s\u001b[0m eta \u001b[36m0:00:00\u001b[0m\n",
            "\u001b[2K     \u001b[90m━━━━━━━━━━━━━━━━━━━━━━━━━━━━━━━━━━━━━━━━\u001b[0m \u001b[32m1.6/1.6 MB\u001b[0m \u001b[31m85.1 MB/s\u001b[0m eta \u001b[36m0:00:00\u001b[0m\n",
            "\u001b[2K     \u001b[90m━━━━━━━━━━━━━━━━━━━━━━━━━━━━━━━━━━━━━━\u001b[0m \u001b[32m438.7/438.7 KB\u001b[0m \u001b[31m44.4 MB/s\u001b[0m eta \u001b[36m0:00:00\u001b[0m\n",
            "\u001b[?25hLooking in indexes: https://pypi.org/simple, https://us-python.pkg.dev/colab-wheels/public/simple/\n",
            "Collecting einops\n",
            "  Downloading einops-0.6.0-py3-none-any.whl (41 kB)\n",
            "\u001b[2K     \u001b[90m━━━━━━━━━━━━━━━━━━━━━━━━━━━━━━━━━━━━━━━━\u001b[0m \u001b[32m41.6/41.6 KB\u001b[0m \u001b[31m2.3 MB/s\u001b[0m eta \u001b[36m0:00:00\u001b[0m\n",
            "\u001b[?25hInstalling collected packages: einops\n",
            "Successfully installed einops-0.6.0\n"
          ]
        }
      ],
      "source": [
        "# Install the most re version of TensorFlow to use the improved\n",
        "# masking support for `tf.keras.layers.MultiHeadAttention`.\n",
        "!apt install --allow-change-held-packages libcudnn8=8.1.0.77-1+cuda11.2\n",
        "!pip uninstall -y -q tensorflow keras tensorflow-estimator tensorflow-text\n",
        "!pip install -q tensorflow_datasets\n",
        "!pip install -q -U tensorflow-text==2.9.* tensorflow==2.9.*\n",
        "!pip install einops"
      ]
    },
    {
      "cell_type": "code",
      "execution_count": 34,
      "metadata": {
        "id": "gJr_9dXGpJ05"
      },
      "outputs": [],
      "source": [
        "import logging\n",
        "import time\n",
        "\n",
        "import numpy as np\n",
        "import matplotlib.pyplot as plt\n",
        "\n",
        "import tensorflow_datasets as tfds\n",
        "import tensorflow as tf\n",
        "\n",
        "import tensorflow_text\n",
        "import tensorflow_text as tf_text"
      ]
    },
    {
      "cell_type": "markdown",
      "source": [
        "## Data import"
      ],
      "metadata": {
        "id": "YoJ2dCVo9Gtu"
      }
    },
    {
      "cell_type": "code",
      "execution_count": 125,
      "metadata": {
        "id": "NfxDR9Gt_0ix"
      },
      "outputs": [],
      "source": [
        "import einops\n",
        "\n",
        "#@title\n",
        "class ShapeChecker():\n",
        "  def __init__(self):\n",
        "    # Keep a cache of every axis-name seen\n",
        "    self.shapes = {}\n",
        "\n",
        "  def __call__(self, tensor, names, broadcast=False):\n",
        "    if not tf.executing_eagerly():\n",
        "      return\n",
        "\n",
        "    parsed = einops.parse_shape(tensor, names)\n",
        "\n",
        "    for name, new_dim in parsed.items():\n",
        "      old_dim = self.shapes.get(name, None)\n",
        "      \n",
        "      if (broadcast and new_dim == 1):\n",
        "        continue\n",
        "\n",
        "      if old_dim is None:\n",
        "        # If the axis name is new, add its length to the cache.\n",
        "        self.shapes[name] = new_dim\n",
        "        continue\n",
        "\n",
        "      if new_dim != old_dim:\n",
        "        raise ValueError(f\"Shape mismatch for dimension: '{name}'\\n\"\n",
        "                         f\"    found: {new_dim}\\n\"\n",
        "                         f\"    expected: {old_dim}\\n\")"
      ]
    },
    {
      "cell_type": "code",
      "source": [
        "import random\n",
        "from random import shuffle\n",
        "# Seed voor herhaalbaarheid\n",
        "random.seed(42)"
      ],
      "metadata": {
        "id": "WAjPM4WEyO1k"
      },
      "execution_count": 35,
      "outputs": []
    },
    {
      "cell_type": "code",
      "source": [
        "# modified data externally to remove all blank lines\n",
        "def write_data(f, ext, mod):\n",
        "    # Code van https://github.com/EagleW/Writing-editing-Network/blob/master/split_data.py\n",
        "    file1=open(f, 'r')\n",
        "    lines=file1.readlines()\n",
        "    print(len(lines))\n",
        "    file1.close()\n",
        "    abs_t = []\n",
        "    abstracts = []\n",
        "    titles = []\n",
        "    i = 0\n",
        "    # TODO: possibly generates wrong tibs/abs when encounter\n",
        "    for line in lines:\n",
        "        if i % mod == 0:\n",
        "            titles.append(line)\n",
        "        elif i % mod == 1:\n",
        "            abstracts.append(line)\n",
        "        i += 1\n",
        "    for i in range(len(abstracts)):\n",
        "        if len(titles[i]) > 0 and len(abstracts[i]) > 0:\n",
        "            h_a_pair = (titles[i], abstracts[i])\n",
        "            abs_t.append(h_a_pair)\n",
        "    shuffle(abs_t)\n",
        "    total = len(abs_t)\n",
        "    dev = total//10\n",
        "    train  = total - dev - dev\n",
        "    i = 0\n",
        "    file1=open(\"val{}.txt\".format(ext), 'w')\n",
        "    for i in range(dev):\n",
        "        file1.writelines(abs_t[i][0])\n",
        "        file1.writelines(abs_t[i][1])\n",
        "    #    file1.writelines(\"\\n\")\n",
        "    file1.close()\n",
        "    file1=open(\"test{}.txt\".format(ext), 'w')\n",
        "    for i in range(dev, 2 * dev):\n",
        "        file1.writelines(abs_t[i][0])\n",
        "        file1.writelines(abs_t[i][1])\n",
        "    #    file1.writelines(\"\\n\")\n",
        "    file1.close()\n",
        "    file1=open(\"train{}.txt\".format(ext), 'w')\n",
        "    for i in range(2 * dev, total):\n",
        "        file1.writelines(abs_t[i][0])\n",
        "        file1.writelines(abs_t[i][1])\n",
        "    #    file1.writelines(\"\\n\")\n",
        "    file1.close()"
      ],
      "metadata": {
        "id": "HMy2KR1exr9H"
      },
      "execution_count": 102,
      "outputs": []
    },
    {
      "cell_type": "code",
      "source": [
        "def get_abs_and_titles_from_raw(path_to_file):\n",
        "    abstracts, titles = [], []\n",
        "    abscount, titcount = 0, 0\n",
        "    with open(path_to_file) as data:\n",
        "        lines = data.readlines()\n",
        "        print(len(lines))\n",
        "        for abs in lines[1::2]:\n",
        "            abstracts.append(abs.strip())\n",
        "            abscount += 1\n",
        "        for title in lines[0::2]:\n",
        "            # // TODO: check if we need to add start and end tokens\n",
        "            titles.append(title.strip())\n",
        "            titcount+=1\n",
        "            # titles.append('[START] ' + title.strip() + ' [END]')\n",
        "    print(abscount, titcount)\n",
        "    print(titles[-1],'\\n',titles[-2])\n",
        "    return abstracts, titles"
      ],
      "metadata": {
        "id": "8Gfm4Nep0CVm"
      },
      "execution_count": 103,
      "outputs": []
    },
    {
      "cell_type": "code",
      "source": [
        "# Necessary when upload fails (Firefox+Colab issue)\n",
        "\n",
        "# from google.colab import files\n",
        "# uploaded = files.upload()"
      ],
      "metadata": {
        "id": "1cdZ-lfi6w1y"
      },
      "execution_count": 104,
      "outputs": []
    },
    {
      "cell_type": "code",
      "execution_count": 105,
      "metadata": {
        "colab": {
          "base_uri": "https://localhost:8080/"
        },
        "id": "39UNm84FHK5Z",
        "outputId": "85210e56-aca8-4ad2-fc0d-638fe6310be5"
      },
      "outputs": [
        {
          "output_type": "stream",
          "name": "stdout",
          "text": [
            "21750\n"
          ]
        }
      ],
      "source": [
        "write_data(\"acl_titles_and_abstracts_mod.txt\", \"\", 2) # writes train, val, test.txt\n"
      ]
    },
    {
      "cell_type": "code",
      "source": [
        "train_text, train_labels = get_abs_and_titles_from_raw('train.txt')\n",
        "val_text, val_labels = get_abs_and_titles_from_raw('val.txt')"
      ],
      "metadata": {
        "colab": {
          "base_uri": "https://localhost:8080/"
        },
        "id": "ORgZbu6L0ADN",
        "outputId": "86267bf4-ea51-408a-fb2e-c13861a6ff74"
      },
      "execution_count": 106,
      "outputs": [
        {
          "output_type": "stream",
          "name": "stdout",
          "text": [
            "17402\n",
            "8701 8701\n",
            "combining multiple models for speech information retrieval \n",
            " three-dimensional parametrization for parsing morphologically rich languages\n",
            "2174\n",
            "1087 1087\n",
            "putting it simply : a context-aware approach to lexical simplification communication & information \n",
            " bio-medical entity extraction using support vector machines\n"
          ]
        }
      ]
    },
    {
      "cell_type": "code",
      "source": [
        "print(train_labels[0])\n",
        "print(train_text[0])"
      ],
      "metadata": {
        "colab": {
          "base_uri": "https://localhost:8080/"
        },
        "id": "sQm2GcIE0Jo8",
        "outputId": "1f5bdaf3-e061-4bed-9a88-b1f6c5c77731"
      },
      "execution_count": 107,
      "outputs": [
        {
          "output_type": "stream",
          "name": "stdout",
          "text": [
            "toward completeness in concept extraction and classification\n",
            "many algorithms extract terms from text together with some kind of taxonomic classification ( is-a ) link . however , the general approaches used today , and specifically the methods of evaluating results , exhibit serious shortcomings . harvesting without focusing on a specific conceptual area may deliver large numbers of terms , but they are scattered over an immense concept space , making recall judgments impossible . regarding precision , simply judging the correctness of terms and their individual classification links may provide high scores , but this doesnt help with the eventual assembly of terms into a single coherent taxonomy . furthermore , since there is no correct and complete gold standard to measure against , most work invents some ad hoc evaluation measure . we present an algorithm that is more precise and complete than previous ones for identifying from web text just those concepts below a given seed term . comparing the results to wordnet , we find that the algorithm misses terms , but also that it learns many new terms not in wordnet , and that it classifies them in ways acceptable to humans but different from wordnet .\n"
          ]
        }
      ]
    },
    {
      "cell_type": "code",
      "source": [
        "print(val_labels[0])\n",
        "print(val_text[0])"
      ],
      "metadata": {
        "colab": {
          "base_uri": "https://localhost:8080/"
        },
        "id": "fl_VdLom0N4r",
        "outputId": "96b81f43-26ac-4352-9f00-7657cde414cf"
      },
      "execution_count": 108,
      "outputs": [
        {
          "output_type": "stream",
          "name": "stdout",
          "text": [
            "non-monotonic parsing of fluent umm i mean disfluent sentences\n",
            "parsing disfluent sentences is a challenging task which involves detecting disfluencies as well as identifying the syntactic structure of the sentence . while there have been several studies recently into solely detecting disfluencies at a high performance level , there has been relatively little work into joint parsing and disfluency detection that has reached that state-ofthe-art performance in disfluency detection . we improve upon recent work in this joint task through the use of novel features and learning cascades to produce a model which performs at 82.6 f-score . it outperforms the previous best in disfluency detection on two different evaluations .\n"
          ]
        }
      ]
    },
    {
      "cell_type": "code",
      "source": [
        "BATCH_SIZE = 64\n",
        "train_dataset = tf.data.Dataset.from_tensor_slices((train_text, train_labels)).batch(BATCH_SIZE)\n",
        "val_dataset = tf.data.Dataset.from_tensor_slices((val_text, val_labels)).batch(BATCH_SIZE)"
      ],
      "metadata": {
        "id": "yoACPT2RzxNg"
      },
      "execution_count": 109,
      "outputs": []
    },
    {
      "cell_type": "code",
      "execution_count": 110,
      "metadata": {
        "id": "mzLBGVwDJ5hC",
        "colab": {
          "base_uri": "https://localhost:8080/"
        },
        "outputId": "b97deb58-76c0-4e5f-9bbc-4e215fd5a1f2"
      },
      "outputs": [
        {
          "output_type": "stream",
          "name": "stdout",
          "text": [
            "> Abstract examples:\n",
            "1 many algorithms extract terms from text together with some kind of taxonomic classification ( is-a ) link . however , the general approaches used today , and specifically the methods of evaluating results , exhibit serious shortcomings . harvesting without focusing on a specific conceptual area may deliver large numbers of terms , but they are scattered over an immense concept space , making recall judgments impossible . regarding precision , simply judging the correctness of terms and their individual classification links may provide high scores , but this doesnt help with the eventual assembly of terms into a single coherent taxonomy . furthermore , since there is no correct and complete gold standard to measure against , most work invents some ad hoc evaluation measure . we present an algorithm that is more precise and complete than previous ones for identifying from web text just those concepts below a given seed term . comparing the results to wordnet , we find that the algorithm misses terms , but also that it learns many new terms not in wordnet , and that it classifies them in ways acceptable to humans but different from wordnet .\n",
            "2 micro-blog is a new kind of medium which is short and informal . while no segmented corpus of micro-blogs is available to train chinese word segmentation model , existing chinese word segmentation tools can not perform equally well as in ordinary news texts . in this paper we present an effective yet simple approach to chinese word segmentation of micro-blog . in our approach , we incorporate punctuation information of unlabeled micro-blog data by introducing characters behind or ahead of punctuations , for they indicate the beginning or end of words . meanwhile a self-training framework to incorporate confident instances is also used , which prove to be helpful . experiments on micro-blog data show that our approach improves performance , especially in oov-recall .\n",
            "3 current statistical parsers tend to perform well only on their training domain and nearby genres . while strong performance on a few related domains is sufficient for many situations , it is advantageous for parsers to be able to generalize to a wide variety of domains . when parsing document collections involving heterogeneous domains ( e.g . the web ) , the optimal parsing model for each document is typically not obvious . we study this problem as a new task multiple source parser adaptation . our system trains on corpora from many different domains . it learns not only statistics of those domains but quantitative measures of domain differences and how those differences affect parsing accuracy . given a specific target text , the resulting system proposes linear combinations of parsing models trained on the source corpora . tested across six domains , our system outperforms all non-oracle baselines including the best domain-independent parsing model . thus , we are able to demonstrate the value of customizing parsing models to specific domains .\n",
            "4 in the framework of projects chinfadial and erim we have developed in recent years several platforms allowing to handle various aspects of bilingual spoken dialogues on the web mainly , spontaneous speech corpus collection through distant human interpreting . current development of the core erim-interp and erim-collect platforms now includes multimodal user interaction , integration of some machine aids ( such as speech turn logs through speech recognition , or tentatively speech machine translation , both based on server-grounded market products ) , and next , online aids to speakers and/or interpreters . first collected data should be made available on the web in fall 2004 ( distribdial ) along with , as soon as available , a robust version of the collecting platform , in order to promote collaborative building , and sharing , of `` raw '' unannotated multilingual speech corpora . a variant of the erim environment is to extend to distant e-training in interpreting , possibly creating situations which should in turn , in our view , foster larger-scale data collection and sharing in open access mode . keywords bilingual speech corpora , collaborative corpus collection , spontaneous dialogues , web-based interpreting , multilingual communication , open-access resources , resource mutualization .\n",
            "5 we present the aawd corpus , a collection of 365 discussions drawn from wikipedia talk pages and annotated with labels capturing two kinds of social acts : alignment moves and authority claims . we describe these social acts and our annotation process , and analyze the resulting data set for interactions between participant status and social acts and between the social acts themselves .\n",
            "6 we describe the semantic enrichment of journal articles with chemical structures and biomedical ontology terms using oscar , a program for chemical named entity recognition ( ner ) . we describe how oscar works and how it can been adapted for general ner . we discuss its implementation in a real publishing workflow and possible applications for enriched articles .\n",
            "7 this paper aims to bring a general overview on the situation of computational linguistics in costa rica , particularly in the academic world .\n",
            "8 we present a general model for pp attachment resolution and np analysis in french . we make explicit the different assumptions our model relies on , and show how it generalizes previously proposed models . we then present a series of experiments conducted on a corpus of newspaper articles , and assess the various components of the model , as well as the different information sources used .\n",
            "9 this paper describes the joint submission of two systems to the all-words wsd subtask of semeval-2007 task 17. the main goal of this work was to build a competitive unsupervised system by combining heterogeneous algorithms . as a secondary goal , we explored the integration of unsupervised predictions into a supervised system by different means .\n",
            "10 this paper studies methods that automatically detect action-items in e-mail , an important category for assisting users in identifying new tasks , tracking ongoing ones , and searching for completed ones . since action-items consist of a short span of text , classifiers that detect action-items can be built from a document-level or a sentence-level view . rather than commit to either view , we adapt a contextsensitive metaclassification framework to this problem to combine the rankings produced by different algorithms as well as different views . while this framework is known to work well for standard classification , its suitability for fusing rankers has not been studied . in an empirical evaluation , the resulting approach yields improved rankings that are less sensitive to training set variation , and furthermore , the theoretically-motivated reliability indicators we introduce enable the metaclassifier to now be applicable in any problem where the base classifiers are used .\n",
            "11 we propose a static relation extraction task to complement biomedical information extraction approaches . we argue that static relations such as part-whole are implicitly involved in many common extraction settings , define a task setting making them explicit , and discuss their integration into previously proposed tasks and extraction methods . we further identify a specific static relation extraction task motivated by the bionlp09 shared task on event extraction , introduce an annotated corpus for the task , and demonstrate the feasibility of the task by experiments showing that the defined relations can be reliably extracted . the task setting and corpus can serve to support several forms of domain information extraction .\n",
            "12 this paper addresses the task of finegrained opinion extraction the identification of opinion-related entities : the opinion expressions , the opinion holders , and the targets of the opinions , and the relations between opinion expressions and their targets and holders . most existing approaches tackle the extraction of opinion entities and opinion relations in a pipelined manner , where the interdependencies among different extraction stages are not captured . we propose a joint inference model that leverages knowledge from predictors that optimize subtasks of opinion extraction , and seeks a globally optimal solution . experimental results demonstrate that our joint inference approach significantly outperforms traditional pipeline methods and baselines that tackle subtasks in isolation for the problem of opinion extraction .\n",
            "13 this paper shows the results of an experiment in dialogue segmentation . in this experiment , segmentation was done on a level of analysis similar to adjacency pairs . the method of annotation was somewhat novel : volunteers were invited to participate over the web , and their responses were aggregated using a simple voting method . though volunteers received a minimum of training , the aggregated responses of the group showed very high agreement with expert opinion . the group , as a unit , performed at the top of the list of annotators , and in many cases performed as well as or better than the best annotator .\n",
            "14 in this paper we discuss our approach toward establishing a model of the acquisition of english grammatical structures by users of our english language tutoring system , which has been designed for deaf users of american sign language . we explore the correlation between a corpus of error-tagged texts and their holistic proficiency scores assigned by experts in order to draw initial conclusions about what language errors typically occur at different levels of proficiency in this population . since errors made at lower levels ( and not at higher levels ) presumably represent constructions acquired before those on which errors are found only at higher levels , this should provide insight into the order of acquisition of english grammatical forms .\n",
            "15 we present a simple and effective method for extracting parallel sentences from comparable corpora . we employ a statistical machine translation ( smt ) system built from small amounts of parallel texts to translate the source side of the nonparallel corpus . the target side texts are used , along with other corpora , in the language model of this smt system . we then use information retrieval techniques and simple filters to create french/english parallel data from a comparable news corpora . we evaluate the quality of the extracted data by showing that it significantly improves the performance of an smt systems .\n",
            "16 this paper argues for a game-theoretic approach to content determination that uses text-type specific strategies in order to determine the optimal content for various user types . by means of content determination for the description of numerical data the benefits of a game-theoretic treatment of content determination are outlined .\n",
            "17 this paper tests speech recognition using prosody dependent allophone models . the log likehoods of various prosodically labeled phonemes are calculated using baum-welsh re-estimation . these log likehoods are then compared to log likehoods of non-prosodically labeled phonemes . based on the comparison of these log likehoods , it can be concluded that modeling all prosodic information directly in the vowel model leads to improvement in the model . consonants , on the other hand , split naturally into three categories , strengthened , lengthened and neutral .\n",
            "18 recent work on automatically predicting the predominant sense of a word has proven to be promising ( mccarthy et al , 2004 ) . it can be applied ( as a first sense heuristic ) to word sense disambiguation ( wsd ) tasks , without needing expensive hand-annotated data sets . due to the big skew in the sense distribution of many words ( yarowsky and florian , 2002 ) , the first sense heuristic for wsd is often hard to beat . however , the local context of an ambiguous word can give important clues to which of its senses was intended . the sense ranking method proposed by mccarthy et al ( 2004 ) uses a distributional similarity thesaurus . the k nearest neighbours in the thesaurus are used to establish the predominant sense of a word . in this paper we report on a first investigation on how to use the grammatical relations the target word is involved with , in order to select a subset of the neighbours from the automatically created thesaurus , to take the local context into account . this unsupervised method is quantitatively evaluated on semcor . we found a slight improvement in precision over using the predicted first sense . finally , we discuss strengths and weaknesses of the method and suggest ways to improve the results in the future .\n",
            "19 as described in this paper , we propose a new automatic evaluation method for machine translation using noun-phrase chunking . our method correctly determines the matching words between two sentences using corresponding noun phrases . moreover , our method determines the similarity between two sentences in terms of the noun-phrase order of appearance . evaluation experiments were conducted to calculate the correlation among human judgments , along with the scores produced using automatic evaluation methods for mt outputs obtained from the 12 machine translation systems in ntcir7 . experimental results show that our method obtained the highest correlations among the methods in both sentence-level adequacy and fluency .\n",
            "20 name ambiguity problem has raised urgent demands for efficient , high-quality named entity disambiguation methods . in recent years , the increasing availability of large-scale , rich semantic knowledge sources ( such as wikipedia and wordnet ) creates new opportunities to enhance the named entity disambiguation by developing algorithms which can exploit these knowledge sources at best . the problem is that these knowledge sources are heterogeneous and most of the semantic knowledge within them is embedded in complex structures , such as graphs and networks . this paper proposes a knowledge-based method , called structural semantic relatedness ( ssr ) , which can enhance the named entity disambiguation by capturing and leveraging the structural semantic knowledge in multiple knowledge sources . empirical results show that , in comparison with the classical bow based methods and social network based methods , our method can significantly improve the disambiguation performance by respectively 8.7 % and 14.7 % .\n",
            "21 exploiting unannotated natural language data is hard largely because unsupervised parameter estimation is hard . we describe deterministic annealing ( rose et al , 1990 ) as an appealing alternative to the expectationmaximization algorithm ( dempster et al , 1977 ) . seeking to avoid search error , da begins by globally maximizing an easy concave function and maintains a local maximum as it gradually morphs the function into the desired non-concave likelihood function . applying da to parsing and tagging models is shown to be straightforward ; significant improvements over em are shown on a part-of-speech tagging task . we describe a variant , skewed da , which can incorporate a good initializer when it is available , and show significant improvements over em on a grammar induction task .\n",
            "22 traditional keyword based search is found to have some limitations . such as word sense ambiguity , and the query intent ambiguity which can hurt the precision . semantic search uses the contextual meaning of terms in addition to the semantic matching techniques in order to overcome these limitations . this paper introduces a query expansion approach using an ontology built from wikipedia pages in addition to other thesaurus to improve search accuracy for arabic language . our approach outperformed the traditional keyword based approach in terms of both f-score and ndcg measures .\n",
            "23 statistical language modeling ( slm ) has been used in many different domains for decades and has also been applied to information retrieval ( ir ) recently . documents retrieved using this approach are ranked according their probability of generating the given query . in this paper , we present a novel approach that employs the generalized expectation maximization ( em ) algorithm to improve language models by representing their parameters as observation probabilities of hidden markov models ( hmm ) . in the experiments , we demonstrate that our method outperforms standard slm-based and tf.idfbased methods on trec 2005 hard track data .\n",
            "24 in this paper we demonstrate that there is a strong correlation between the question answering ( qa ) accuracy and the log-likelihood of the answer typing component of our statistical qa model . we exploit this observation in a clustering algorithm which optimizes qa accuracy by maximizing the log-likelihood of a set of question-and-answer pairs . experimental results show that we achieve better qa accuracy using the resulting clusters than by using manually derived clusters .\n",
            "25 while the automatic analysis of the readability of texts has a long history , the use of readability assessment for text simplification has received only little attention so far . in this paper , we explore readability models for identifying differences in the reading levels of simplified and unsimplified versions of sentences . our experiments show that a relative ranking is preferable to an absolute binary one and that the accuracy of identifying relative simplification depends on the initial reading level of the unsimplified version . the approach is particularly successful in classifying the relative reading level of harder sentences . in terms of practical relevance , the approach promises to be useful for identifying particularly relevant targets for simplification and to evaluate simplifications given specific readability constraints .\n",
            "26 lexical resources are key components for applications related to human language technology . various models of lexical resources have been designed and implemented during the last twenty years and the scientific community has now gained enough experience to design a common standard at an international level . this paper thus describes the ongoing activity within iso/tc 37/sc 4 on lmf ( lexical markup framework ) and shows how it can be concretely implemented for the design of an on-line morphological resource for french in the morphalou project .\n",
            "27 in this paper , we present espresso , a weakly-supervised , general-purpose , and accurate algorithm for harvesting semantic relations . the main contributions are : i ) a method for exploiting generic patterns by filtering incorrect instances using the web ; and ii ) a principled measure of pattern and instance reliability enabling the filtering algorithm . we present an empirical comparison of espresso with various state of the art systems , on different size and genre corpora , on extracting various general and specific relations . experimental results show that our exploitation of generic patterns substantially increases system recall with small effect on overall precision .\n",
            "28 the talk will report on recent and ongoing work dedicated to analytical methods for a systematic combination of observed strengths of translation technologies . the focus will be on different ways of exploiting existing data on mt output and performance measures for system combination and for gaining insights on strengths and weaknesses of existing technologies .\n",
            "29 we present a novel bayesian topic model for learning discourse-level document structure . our model leverages insights from discourse theory to constrain latent topic assignments in a way that reflects the underlying organization of document topics . we propose a global model in which both topic selection and ordering are biased to be similar across a collection of related documents . we show that this space of orderings can be elegantly represented using a distribution over permutations called the generalized mallows model . our structureaware approach substantially outperforms alternative approaches for cross-document comparison and single-document segmentation.1\n",
            "30 irish and scottish gaelic are closely-related languages that together with manx gaelic make up the goidelic branch of the celtic family . we present a statistical model for translation from scottish gaelic to irish that we hope will facilitate communication between the two language communities , especially in social media . an important aspect of this work is to overcome the orthographical differences between the languages , many of which were introduced in a major spelling reform of irish in the 1940s and 1950s . prior to that date , the orthographies of the two languages were quite similar , thanks in part to a shared literary tradition . as a consequence of this , machine translation from scottish gaelic to irish has a great deal in common with the problem of normalizing pre-standard irish texts , a problem with applications to lexicography and information retrieval . we show how a single statistical model can be used effectively in both contexts .\n",
            "31 current research in text mining favours the quantity of texts over their quality . but for bilingual terminology mining , and for many language pairs , large comparable corpora are not available . more importantly , as terms are defined vis -- vis a specific domain with a restricted register , it is expected that the quality rather than the quantity of the corpus matters more in terminology mining . our hypothesis , therefore , is that the quality of the corpus is more important than the quantity and ensures the quality of the acquired terminological resources . we show how important the type of discourse is as a characteristic of the comparable corpus .\n",
            "32 we present an application of ambiguity packing and stochastic disambiguation techniques for lexical-functional grammars ( lfg ) to the domain of sentence condensation . our system incorporates a linguistic parser/generator for lfg , a transfer component for parse reduction operating on packed parse forests , and a maximum-entropy model for stochastic output selection . furthermore , we propose the use of standard parser evaluation methods for automatically evaluating the summarization quality of sentence condensation systems . an experimental evaluation of summarization quality shows a close correlation between the automatic parse-based evaluation and a manual evaluation of generated strings . overall summarization quality of the proposed system is state-of-the-art , with guaranteed grammaticality of the system output due to the use of a constraint-based parser/generator .\n",
            "33 though dynamic programming matching can carry out approximate string matching when there may be deletions or insertions in a document , its effectiveness and efficiency are usually too poor to use it for large-scale information retrieval . in this paper , we propose a method of dynamic programming matching for information retrieval . this method is as effective as a conventional information retrieval system , even though it is capable of approximate matching . it is also as efficient as a conventional system .\n",
            "34 there have been increasing needs for task specific rankings in web search such as rankings for specific query segments like long queries , time-sensitive queries , navigational queries , etc ; or rankings for specific domains/contents like answers , blogs , news , etc . in the spirit of divide-andconquer , task specific ranking may have potential advantages over generic ranking since different tasks have task-specific features , data distributions , as well as featuregrade correlations . a critical problem for the task-specific ranking is training data insufficiency , which may be solved by using the data extracted from click log . this paper empirically studies how to appropriately exploit click data to improve rank function learning in task-specific ranking . the main contributions are 1 ) the exploration on the utilities of two promising approaches for click pair extraction ; 2 ) the analysis of the role played by the noise information which inevitably appears in click data extraction ; 3 ) the appropriate strategy for combining training data and click data ; 4 ) the comparison of click data which are consistent and inconsistent with baseline function .\n",
            "35 we propose a framework for generating an abstractive summary from a semantic model of a multimodal document . we discuss the type of model required , the means by which it can be constructed , how the content of the model is rated and selected , and the method of realizing novel sentences for the summary . to this end , we introduce a metric called information density used for gauging the importance of content obtained from text and graphical sources .\n",
            "36 we present the explanation structure of procedural texts , focusing on the analysis of argumentation , in particular advice and warnings . their role is to support and motivate the goal-instruction structure , which is the skeleton of procedural texts . procedural texts consist of a sequence of instructions , designed with some accuracy in order to reach a goal ( e.g . assemble a computer ) . procedural texts may also include subgoals . goals and subgoals are most of the time realized by means of titles and subtitles . the user must carefully follow step by step the given instructions in order to reach the goal . we introduce the notion of instructional compound , which is a complex structure that articulates instructions with various discourse elements . we then show how arguments can be extracted with the help of patterns . we finally investigate their contribution to the structure and the understanding of procedural texts .\n",
            "37 verb classes which integrate a wide range of linguistic properties ( levin , 1993 ) have proved useful for natural language processing ( nlp ) applications . however , the real-world use of these classes has been limited because for most languages , no resources similar to verbnet ( kipperschuler , 2005 ) are available . we apply a verb clustering approach developed for english to french a language for which no such experiment has been conducted yet . our investigation shows that not only the general methodology but also the best performing features are transferable between the languages , making it possible to learn useful verbnet style classes for french automatically without languagespecific tuning .\n",
            "38 we describe the submission from the columbia arabic & dialect modeling group ( cadim ) for the shared task at the fourth workshop on statistical parsing of morphologically rich languages ( spmrl2013 ) . we participate in the arabic dependency parsing task for predicted pos tags and features . our system is based on marton et al ( 2013 ) .\n",
            "39 this paper presents a comparative evaluation among the systems that participated in the spanish and english lexical sample tasks of senseval-2 . the focus is on pairwise comparisons among systems to assess the degree to which they agree , and on measuring the difficulty of the test instances included in these tasks .\n",
            "40 in this position paper , we will examine the current state of uima from the perspective of a text analytics practitioner , and propose an evolution of the architecture that overcomes some of the current shortcomings .\n",
            "41 automatic multi-document summarization is still hard to realize . under such circumstances , we believe , it is important to observe how humans are doing the same task , and look around for different strategies . we prepared 100 document sets similar to the ones used in the duc multi-document summarization task . for each document set , several people prepared the following data and we conducted a survey . a ) free style summarization b ) sentence extraction type summarization c ) axis ( type of main topic ) d ) table style summary in particular , we will describe the last two in detail , as these could lead to a new direction for multisummarization research .\n",
            "42 summarising georeferenced ( can be identified according to its location ) data in natural language is challenging because it requires linking events describing its nongeographic attributes to their underlying geography . this mapping is not straightforward as often the only explicit geographic information such data contains is latitude and longitude . in this paper we present an approach to generating textual summaries of georeferenced data based on spatial reference frames . this approach has been implemented in a data-to-text system we have deployed in the weather forecasting domain .\n",
            "43 sentence compression has been shown to benefit from joint inference involving both n-gram and dependency-factored objectives but this typically requires expensive integer programming . we explore instead the use of lagrangian relaxation to decouple the two subproblems and solve them separately . while dynamic programming is viable for bigram-based sentence compression , finding optimal compressed trees within graphs is np-hard . we recover approximate solutions to this problem using lp relaxation and maximum spanning tree algorithms , yielding techniques that can be combined with the efficient bigrambased inference approach using lagrange multipliers . experiments show that these approximation strategies produce results comparable to a state-of-the-art integer linear programming formulation for the same joint inference task along with a significant improvement in runtime .\n",
            "44 we present the idea of estimating semantic distance in one , possibly resource-poor , language using a knowledge source in another , possibly resource-rich , language . we do so by creating cross-lingual distributional profiles of concepts , using a bilingual lexicon and a bootstrapping algorithm , but without the use of any sense-annotated data or word-aligned corpora . the cross-lingual measures of semantic distance are evaluated on two tasks : ( 1 ) estimating semantic distance between words and ranking the word pairs according to semantic distance , and ( 2 ) solving readers digest word power problems . in task ( 1 ) , cross-lingual measures are superior to conventional monolingual measures based on a wordnet . in task ( 2 ) , cross-lingual measures are able to solve more problems correctly , and despite scores being affected by many tied answers , their overall performance is again better than the best monolingual measures .\n",
            "45 lexical-semantic resources are used extensively for applied semantic inference , yet a clear quantitative picture of their current utility and limitations is largely missing . we propose system- and application-independent evaluation and analysis methodologies for resources performance , and systematically apply them to seven prominent resources . our findings identify the currently limited recall of available resources , and indicate the potential to improve performance by examining non-standard relation types and by distilling the output of distributional methods . further , our results stress the need to include auxiliary information regarding the lexical and logical contexts in which a lexical inference is valid , as well as its prior validity likelihood .\n",
            "46 we present the mt-ncd and mt-mncd machine translation evaluation metrics as submission to the machine translation evaluation shared task ( metricsmatr 2010 ) . the metrics are based on normalized compression distance ( ncd ) , a general information theoretic measure of string similarity , and evaluated against human judgments from the wmt08 shared task . the experiments show that 1 ) our metric improves correlation to human judgments by using flexible matching , 2 ) segment replication is effective , and 3 ) our ncd-inspired method for multiple references indicates improved results . generally , the proposed mt-ncd and mt-mncd methods correlate competitively with human judgments compared to commonly used machine translations evaluation metrics , for instance , bleu .\n",
            "47 in this article we present a method for combining different information retrieval models in order to increase the retrieval performance in a speech information retrieval task . the formulas for combining the models are tuned on training data . then the system is evaluated on test data . the task is particularly difficult because the text collection is automatically transcribed spontaneous speech , with many recognition errors . also , the topics are real information needs , difficult to satisfy . information retrieval systems are not able to obtain good results on this data set , except for the case when manual summaries are included .\n",
            "48 . transcription and semantic annotation ( annoscription ) of utterances is crucial part of speech performance analysis and tuning of spoken dialog systems and other natural language processing disciplines . however , the fact that these are manual tasks makes them expensive and slow . in this paper , we will discuss how annoscription can be partially automated . we will show that annoscription can reach a throughput of 693 thousand utterances per person month under certain assumptions .\n",
            "49 we present experiments with a dependency parsing model defined on rich factors . our model represents dependency trees with factors that include three types of relations between the tokens of a dependency and their children . we extend the projective parsing algorithm of eisner ( 1996 ) for our case , and train models using the averaged perceptron . our experiments show that considering higher-order information yields significant improvements in parsing accuracy , but comes at a high cost in terms of both time and memory consumption . in the multilingual exercise of the conll-2007 shared task ( nivre et al , 2007 ) , our system obtains the best accuracy for english , and the second best accuracies for basque and czech .\n",
            "50 we investigate the effect of text summarisation in the problem of rating-inference the task of associating a fine-grained numerical rating to an opinionated document . we set-up a comparison framework to study the effect of different summarisation algorithms of various compression rates in this task and compare the classification accuracy of summaries and documents for associating documents to classes . we make use of svm algorithms to associate numerical ratings to opinionated documents . the algorithms are informed by linguistic and sentiment-based features computed from full documents and summaries . preliminary results show that some types of summaries could be as effective or better as full documents in this problem .\n",
            "51 this paper describes a bayesian procedure for unsupervised learning of phonological rules from an unlabeled corpus of training data . like goldsmiths linguistica program ( goldsmith , 2004b ) , whose output is taken as the starting point of this procedure , our learner returns a grammar that consists of a set of signatures , each of which consists of a set of stems and a set of suffixes . our grammars differ from linguisticas in that they also contain a set of phonological rules , specifically insertion , deletion and substitution rules , which permit our grammars to collapse far more words into a signature than linguistica can . interestingly , the choice of bayesian prior turns out to be crucial for obtaining a learner that makes linguistically appropriate generalizations through a range of different sized training corpora .\n",
            "52 we studied contrast and variability in a corpus of gene names to identify potential heuristics for use in performing entity identification in the molecular biology domain . based on our findings , we developed heuristics for mapping weakly matching gene names to their official gene names . we then tested these heuristics against a large body of medline abstracts , and found that using these heuristics can increase recall , with varying levels of precision . our findings also underscored the importance of good information retrieval and of the ability to disambiguate between genes , proteins , rna , and a variety of other referents for performing entity identification with high precision .\n",
            "53 the goal of the penn discourse treebank ( pdtb ) project is to develop a large-scale corpus , annotated with coherence relations marked by discourse connectives . currently , the primary application of the pdtb annotation has been to news articles . in this study , we tested whether the pdtb guidelines can be adapted to a different genre . we annotated discourse connectives and their arguments in one 4,937-token full-text biomedical article . two linguist annotators showed an agreement of 85 % after simple conventions were added . for the remaining 15 % cases , we found that biomedical domain-specific knowledge is needed to capture the linguistic cues that can be used to resolve inter-annotator disagreement . we found that the two annotators were able to reach an agreement after discussion . thus our experiments suggest that the pdtb annotation can be adapted to new domains by minimally adjusting the guidelines and by adding some further domain-specific linguistic cues .\n",
            "54 we propose a new method for reformatting web documents by extracting semantic structures from web pages . our approach is to extract trees that describe hierarchical relations in documents . we developed an algorithm for this task by employing the em algorithm and clustering techniques . preliminary experiments showed that our approach was more effective than baseline methods .\n",
            "55 in this paper , we describe how field linguists can use the wordseye linguistics tool ( welt ) to study endangered languages . welt is a tool under development for eliciting endangered language data and formally documenting a language , based on wordseye ( coyne and sproat , 2001 ) , a text-to-scene generation tool that produces 3d scenes from text input . first , a linguist uses welt to create elicitation materials and collect language data . next , he or she uses welt to formally document the language . finally , the formal models are used to create a textto-scene system that takes input in the endangered language and generates a picture representing its meaning .\n",
            "56 we propose a new model for unsupervised pos tagging based on linguistic distinctions between open and closed-class items . exploiting notions from current linguistic theory , the system uses far less information than previous systems , far simpler computational methods , and far sparser descriptions in learning contexts . by applying simple language acquisition techniques based on counting , the system is given the closed-class lexicon , acquires a large open-class lexicon and then acquires disambiguation rules for both . this system achieves a 20 % error reduction for pos tagging over state-of-the-art unsupervised systems tested under the same conditions , and achieves comparable accuracy when trained with much less prior information .\n",
            "57 in this paper , we adopt two views , personal and impersonal views , and systematically employ them in both supervised and semi-supervised sentiment classification . here , personal views consist of those sentences which directly express speakers feeling and preference towards a target object while impersonal views focus on statements towards a target object for evaluation . to obtain them , an unsupervised mining approach is proposed . on this basis , an ensemble method and a co-training algorithm are explored to employ the two views in supervised and semi-supervised sentiment classification respectively . experimental results across eight domains demonstrate the effectiveness of our proposed approach .\n",
            "58 the first step in graph-based semi-supervised classification is to construct a graph from input data . while the k-nearest neighbor graphs have been the de facto standard method of graph construction , this paper advocates using the less well-known mutual k-nearest neighbor graphs for high-dimensional natural language data . to compare the performance of these two graph construction methods , we run semi-supervised classification methods on both graphs in word sense disambiguation and document classification tasks . the experimental results show that the mutual k-nearest neighbor graphs , if combined with maximum spanning trees , consistently outperform the knearest neighbor graphs . we attribute better performance of the mutual k-nearest neighbor graph to its being more resistive to making hub vertices . the mutual k-nearest neighbor graphs also perform equally well or even better in comparison to the state-of-the-art b-matching graph construction , despite their lower computational complexity .\n",
            "59 the demo shows wikipedia-based opendomain information access dialogues with a talking humanoid robot . the robot uses face-tracking , nodding and gesturing to support interaction management and the presentation of information to the partner .\n",
            "60 we describe a method for discriminative training of a language model that makes use of syntactic features . we follow a reranking approach , where a baseline recogniser is used to produce 1000-best output for each acoustic input , and a second reranking model is then used to choose an utterance from these 1000-best lists . the reranking model makes use of syntactic features together with a parameter estimation method that is based on the perceptron algorithm . we describe experiments on the switchboard speech recognition task . the syntactic features provide an additional 0.3 % reduction in testset error rate beyond the model of ( roark et al. , 2004a ; roark et al , 2004b ) ( significant at p < 0.001 ) , which makes use of a discriminatively trained n-gram model , giving a total reduction of 1.2 % over the baseline switchboard system .\n",
            "61 this paper introduces a new application of boosting for parse reranking . several parsers have been proposed that utilize the all-subtrees representation ( e.g. , tree kernel and data oriented parsing ) . this paper argues that such an all-subtrees representation is extremely redundant and a comparable accuracy can be achieved using just a small set of subtrees . we show how the boosting algorithm can be applied to the all-subtrees representation and how it selects a small and relevant feature set efficiently . two experiments on parse reranking show that our method achieves comparable or even better performance than kernel methods and also improves the testing efficiency .\n",
            "62 in the fall term of 2004 , i taught a new statistical nlp course focusing on core tools and machine-learning algorithms . the course work was organized around four substantial programming assignments in which the students implemented the important parts of several core tools , including language models ( for speech reranking ) , a maximum entropy classifier , a part-of-speech tagger , a pcfg parser , and a word-alignment system . using provided scaffolding , students built realistic tools with nearly state-of-theart performance in most cases . this paper briefly outlines the coverage of the course , the scope of the assignments , and some of the lessons learned in teaching the course in this way .\n",
            "63 an alignment method based on the viterbi algorithm is proposed to find mappings between word images of a given handwritten document and their respective ( ascii ) words on its transcription . the approach takes advantage of the underlying segmentation made by viterbi decoding in handwritten text recognition based on hidden markov models ( hmms ) . two hmms modelling schemes are evaluated : one using 78-hmms ( one hmm per character class ) and other using a unique hmm to model all the characters and another to model blank spaces . according to various metrics used to measure the quality of the alignments , encouraging results are obtained .\n",
            "64 both vector space models and graph randomwalk models can be used to determine similarity between concepts . noting that vectors can be regarded as local views of a graph , we directly compare vector space models and graph random walk models on standard tasks of predicting human similarity ratings , concept categorization , and semantic priming , varying the size of the dataset from which vector space and graph are extracted .\n",
            "\n",
            "> Title examples:\n",
            "1 toward completeness in concept extraction and classification\n",
            "2 improving chinese word segmentation on micro-blog using rich\n",
            "3 automatic domain adaptation for parsing\n",
            "4 building and sharing multilingual speech resources , using erim generic platforms\n",
            "5 annotating social acts : authority claims and alignment moves in wikipedia talk pages\n",
            "6 semantic enrichment of journal articles using chemical named entity thomas graham house\n",
            "7 computational linguistics in costa rica : an overview\n",
            "8 probabilistic models for pp-attachment resolution and np analysis\n",
            "9 ubc-umb : combining unsupervised and supervised systems for all-words\n",
            "10 combining probability-based rankers for action-item detection\n",
            "11 static relations : a piece in the biomedical information extraction puzzle sampo pyysalo tomoko ohta jin-dong kim junichi tsujii\n",
            "12 joint inference for fine-grained opinion extraction\n",
            "13 dialogue segmentation with large numbers of volunteer internet\n",
            "14 error profiling : toward a model of english acquisition for deaf\n",
            "15 on the use of comparable corpora to improve smt performance\n",
            "16 towards a game-theoretic approach to content determination\n",
            "17 the importance of prosodic factors in phoneme modeling with applications to speech recognition\n",
            "18 from predicting predominant senses to local context for word sense disambiguation\n",
            "19 automatic evaluation method for machine translation using\n",
            "20 structural semantic relatedness : a knowledge-based method to named entity disambiguation\n",
            "21 annealing techniques for unsupervised statistical language learning\n",
            "22 semantic query expansion for arabic information retrieval\n",
            "23 optimizing language model information retrieval system with expectation maximization algorithm\n",
            "24 optimizing question answering accuracy by maximizing log-likelihood\n",
            "25 assessing the relative reading level of sentence pairs for text simplification\n",
            "26 standards going concrete : from lmf to morphalou\n",
            "27 espresso : leveraging generic patterns for automatically harvesting semantic relations\n",
            "28 analytical approaches to combining mt technologies\n",
            "29 global models of document structure using latent permutations\n",
            "30 statistical models for text normalization and machine translation\n",
            "31 bilingual terminology mining using brain , not brawn comparable\n",
            "32 statistical sentence condensation using ambiguity packing and stochastic disambiguation methods for lexical-functional grammar\n",
            "33 dynamic programming matching for large scale information retrieval masahiro kishida yoshinori takenami yoshiyuki takeda kyoji umemura\n",
            "34 empirical exploitation of click data for task specific ranking\n",
            "35 towards a framework for abstractive summarization of multimodal documents\n",
            "36 analyzing the explanation structure of procedural texts : dealing with advice and\n",
            "37 investigating the cross-linguistic potential of verbnet -style classification cnrs & ens\n",
            "38 the cadim arabic dependency parser\n",
            "39 assessing system agreement and instance difficulty\n",
            "40 quo vadis uima ibm germany r & d ibm germany r & d\n",
            "41 a survey for multi-document summarization\n",
            "42 using spatial reference frames to generate grounded textual summaries of georeferenced data\n",
            "43 approximation strategies for multi-structure sentence compression\n",
            "44 cross-lingual distributional profiles of concepts for measuring semantic distance\n",
            "45 evaluating the inferential utility of lexical-semantic resources\n",
            "46 normalized compression distance based measures for\n",
            "47 combining multiple models for speech information retrieval\n",
            "48 how to drink from a fire hose :\n",
            "49 experiments with a higher-order projective dependency parser\n",
            "50 experiments on summary-based opinion classification and computing systems and computing systems\n",
            "51 priors in bayesian learning of phonological rules\n",
            "52 contrast and variability in gene names\n",
            "53 a pilot annotation to investigate discourse connectivity in biomedical text\n",
            "54 reformatting web documents via header trees\n",
            "55 documenting endangered languages with the wordseye linguistics tool\n",
            "56 a simple unsupervised learner for pos disambiguation rules given only a minimal lexicon\n",
            "57 semi-supervised sentiment classification\n",
            "58 using the mutual k-nearest neighbor graphs for semi-supervised classification of natural language data\n",
            "59 open-domain information access with talking robots\n",
            "60 discriminative syntactic language modeling for speech recognition\n",
            "61 boosting-based parse reranking with subtree features taku kudo jun suzuki hideki isozaki\n",
            "62 a core-tools statistical nlp course\n",
            "63 viterbi based alignment between text images and their transcripts\n",
            "64 measuring semantic relatedness with vector space models and random\n"
          ]
        }
      ],
      "source": [
        "for abs, tit in train_dataset.take(1):\n",
        "    print('> Abstract examples:')\n",
        "    for i, a in enumerate(abs.numpy()):\n",
        "        print(i+1, a.decode('utf-8'))\n",
        "        \n",
        "    print()\n",
        "    \n",
        "    print('> Title examples:')\n",
        "    for i, t in enumerate(tit.numpy()):\n",
        "        print(i+1, t.decode('utf-8'))\n"
      ]
    },
    {
      "cell_type": "markdown",
      "source": [
        "## Preprocessing"
      ],
      "metadata": {
        "id": "styje2jU9gAS"
      }
    },
    {
      "cell_type": "code",
      "execution_count": 111,
      "metadata": {
        "id": "sv9eKCJpJ6ER"
      },
      "outputs": [],
      "source": [
        "def title_preprocessor(text):\n",
        "    text = tf.strings.lower(text)\n",
        "    text = tf.strings.strip(text)\n",
        "    text = tf.strings.join(['[START]', text, '[END]'], separator=' ')\n",
        "    return text\n",
        "\n",
        "def abstract_preprocessor(text):\n",
        "    text = tf.strings.lower(text)\n",
        "    text = tf.strings.strip(text)\n",
        "    return text\n",
        "\n",
        "abs_text_processor = tf.keras.layers.TextVectorization(\n",
        "    standardize=abstract_preprocessor,\n",
        "    ragged=True,\n",
        "    output_mode='int'\n",
        "    )\n",
        "\n",
        "tit_text_processor = tf.keras.layers.TextVectorization(\n",
        "    standardize=title_preprocessor,\n",
        "    ragged=True,\n",
        "    output_mode='int'\n",
        "    )\n",
        "\n",
        "abs_text_processor.adapt(train_dataset.map(lambda abs, tit: abs))\n",
        "tit_text_processor.adapt(train_dataset.map(lambda abs, tit: tit))\n",
        "\n",
        "\n",
        "\n",
        "def process_text(context, target):\n",
        "    context = abs_text_processor(context).to_tensor()\n",
        "    target = tit_text_processor(target)\n",
        "    targ_in = target[:,:-1].to_tensor()\n",
        "    targ_out = target[:,1:].to_tensor()\n",
        "    return (context, targ_in), targ_out\n",
        "\n",
        "\n",
        "train_ds = train_dataset.map(process_text, tf.data.AUTOTUNE)\n",
        "val_ds = val_dataset.map(process_text, tf.data.AUTOTUNE)\n",
        "\n"
      ]
    },
    {
      "cell_type": "code",
      "source": [
        "for (ex_context_tok, ex_tar_in), ex_tar_out in train_ds.take(1):\n",
        "  print(ex_context_tok[0, :10].numpy()) \n",
        "  print()\n",
        "  print(ex_tar_in[0, :10].numpy()) \n",
        "  print(ex_tar_out[0, :10].numpy())"
      ],
      "metadata": {
        "colab": {
          "base_uri": "https://localhost:8080/"
        },
        "id": "96hEz_Bw5IDr",
        "outputId": "80a6d7bc-cff8-4832-e3ba-65e14c7cec10"
      },
      "execution_count": 159,
      "outputs": [
        {
          "output_type": "stream",
          "name": "stdout",
          "text": [
            "[172 176 378 158  24  50 720  18 134 960]\n",
            "\n",
            "[   2  434 9538    8  585   28    6   45    0    0]\n",
            "[ 434 9538    8  585   28    6   45    3    0    0]\n"
          ]
        }
      ]
    },
    {
      "cell_type": "code",
      "source": [
        "class Encoder(tf.keras.layers.Layer):\n",
        "  def __init__(self, text_processor, units, GRU=False):\n",
        "    super(Encoder, self).__init__()\n",
        "    self.text_processor = text_processor\n",
        "    self.vocab_size = text_processor.vocabulary_size()\n",
        "    self.units = units\n",
        "\n",
        "    # The embedding layer converts tokens to vectors\n",
        "    self.embedding = tf.keras.layers.Embedding(self.vocab_size, units,\n",
        "                                               mask_zero=True)\n",
        "\n",
        "    # The RNN layer processes those vectors sequentially.\n",
        "    # self.rnn = tf.keras.layers.Bidirectional(\n",
        "    #     merge_mode='sum',\n",
        "    #     layer=tf.keras.layers.GRU(units,\n",
        "    #                         # Return the sequence and state\n",
        "    #                         return_sequences=True,\n",
        "    #                         recurrent_initializer='glorot_uniform'))\n",
        "    if not GRU:\n",
        "        self.rnn = (tf.keras.layers \\\n",
        "                    .SimpleRNN(units,\n",
        "                    # Return the sequence and state\n",
        "                    return_sequences=True,\n",
        "                    recurrent_initializer='glorot_uniform'))\n",
        "    else:\n",
        "        self.rnn = (tf.keras.layers\n",
        "                    .GRU(units,\n",
        "                    # Return the sequence and state\n",
        "                    return_sequences=True,\n",
        "                    recurrent_initializer='glorot_uniform'))\n",
        "\n",
        "  def call(self, x):\n",
        "    shape_checker = ShapeChecker()\n",
        "    shape_checker(x, 'batch s')\n",
        "\n",
        "    # 2. The embedding layer looks up the embedding vector for each token.\n",
        "    x = self.embedding(x)\n",
        "    shape_checker(x, 'batch s units')\n",
        "\n",
        "    # 3. The GRU processes the sequence of embeddings.\n",
        "    x = self.rnn(x)\n",
        "    shape_checker(x, 'batch s units')\n",
        "\n",
        "    # 4. Returns the new sequence of embeddings.\n",
        "    return x\n",
        "\n",
        "  def convert_input(self, texts):\n",
        "    texts = tf.convert_to_tensor(texts)\n",
        "    if len(texts.shape) == 0:\n",
        "      texts = tf.convert_to_tensor(texts)[tf.newaxis]\n",
        "    context = self.text_processor(texts).to_tensor()\n",
        "    context = self(context)\n",
        "    return context"
      ],
      "metadata": {
        "id": "9Bc_hAWh-8g3"
      },
      "execution_count": 161,
      "outputs": []
    },
    {
      "cell_type": "code",
      "source": [
        "# Encode the input sequence.\n",
        "UNITS = 256\n",
        "encoder = Encoder(abs_text_processor, UNITS, GRU=True)\n",
        "ex_context = encoder(ex_context_tok)\n",
        "\n",
        "print(f'Context tokens, shape (batch, s): {ex_context_tok.shape}')\n",
        "print(f'Encoder output, shape (batch, s, units): {ex_context.shape}')"
      ],
      "metadata": {
        "id": "gDpXfvGc_-cn"
      },
      "execution_count": null,
      "outputs": []
    },
    {
      "cell_type": "code",
      "source": [
        "encoder = Encoder(abs_text_processor, UNITS, GRU=False)\n",
        "ex_context = encoder(ex_context_tok)\n",
        "\n",
        "print(f'Context tokens, shape (batch, s): {ex_context_tok.shape}')\n",
        "print(f'Encoder output, shape (batch, s, units): {ex_context.shape}')"
      ],
      "metadata": {
        "colab": {
          "base_uri": "https://localhost:8080/"
        },
        "id": "wI10_MJOAGNe",
        "outputId": "3fcb7e2e-7c01-4a46-fa75-0d7e6144955d"
      },
      "execution_count": 163,
      "outputs": [
        {
          "output_type": "stream",
          "name": "stdout",
          "text": [
            "Context tokens, shape (batch, s): (64, 230)\n",
            "Encoder output, shape (batch, s, units): (64, 230, 256)\n"
          ]
        }
      ]
    },
    {
      "cell_type": "markdown",
      "source": [
        "## Cross Attention Layer"
      ],
      "metadata": {
        "id": "_jj6ESlU4vD6"
      }
    },
    {
      "cell_type": "code",
      "source": [
        "class CrossAttention(tf.keras.layers.Layer):\n",
        "  def __init__(self, units, **kwargs):\n",
        "    super().__init__()\n",
        "    self.mha = tf.keras.layers.MultiHeadAttention(key_dim=units, num_heads=1, **kwargs)\n",
        "    self.layernorm = tf.keras.layers.LayerNormalization()\n",
        "    self.add = tf.keras.layers.Add()\n",
        "\n",
        "  def call(self, x, context):\n",
        "    shape_checker = ShapeChecker()\n",
        "\n",
        "    shape_checker(x, 'batch t units')\n",
        "    shape_checker(context, 'batch s units')\n",
        "\n",
        "    attn_output, attn_scores = self.mha(\n",
        "        query=x,\n",
        "        value=context,\n",
        "        return_attention_scores=True)\n",
        "\n",
        "    shape_checker(x, 'batch t units')\n",
        "    shape_checker(attn_scores, 'batch heads t s')\n",
        "\n",
        "    # Cache the attention scores for plotting later.\n",
        "    attn_scores = tf.reduce_mean(attn_scores, axis=1)\n",
        "    shape_checker(attn_scores, 'batch t s')\n",
        "    self.last_attention_weights = attn_scores\n",
        "\n",
        "    x = self.add([x, attn_output])\n",
        "    x = self.layernorm(x)\n",
        "\n",
        "    return x"
      ],
      "metadata": {
        "id": "PQeV3sAS4u8Q"
      },
      "execution_count": 164,
      "outputs": []
    },
    {
      "cell_type": "code",
      "source": [
        "attention_layer = CrossAttention(UNITS)\n",
        "\n",
        "# Attend to the encoded tokens\n",
        "embed = tf.keras.layers.Embedding(tit_text_processor.vocabulary_size(),\n",
        "                                  output_dim=UNITS, mask_zero=True)\n",
        "ex_tar_embed = embed(ex_tar_in)\n",
        "\n",
        "result = attention_layer(ex_tar_embed, ex_context)\n",
        "\n",
        "print(f'Context sequence, shape (batch, s, units): {ex_context.shape}')\n",
        "print(f'Target sequence, shape (batch, t, units): {ex_tar_embed.shape}')\n",
        "print(f'Attention result, shape (batch, t, units): {result.shape}')\n",
        "print(f'Attention weights, shape (batch, t, s):    {attention_layer.last_attention_weights.shape}')"
      ],
      "metadata": {
        "colab": {
          "base_uri": "https://localhost:8080/"
        },
        "id": "Pe5SPdLL4uuq",
        "outputId": "12e3fd0a-2fda-4921-c079-857e740a33e8"
      },
      "execution_count": 165,
      "outputs": [
        {
          "output_type": "stream",
          "name": "stdout",
          "text": [
            "Context sequence, shape (batch, s, units): (64, 230, 256)\n",
            "Target sequence, shape (batch, t, units): (64, 20, 256)\n",
            "Attention result, shape (batch, t, units): (64, 20, 256)\n",
            "Attention weights, shape (batch, t, s):    (64, 20, 230)\n"
          ]
        }
      ]
    },
    {
      "cell_type": "code",
      "source": [
        "attention_weights = attention_layer.last_attention_weights\n",
        "mask=(ex_context_tok != 0).numpy()\n",
        "\n",
        "plt.subplot(1, 2, 1)\n",
        "plt.pcolormesh(mask*attention_weights[:, 0, :])\n",
        "plt.title('Attention weights')\n",
        "\n",
        "plt.subplot(1, 2, 2)\n",
        "plt.pcolormesh(mask)\n",
        "plt.title('Mask');"
      ],
      "metadata": {
        "colab": {
          "base_uri": "https://localhost:8080/",
          "height": 281
        },
        "id": "PoDVkeOd5y0s",
        "outputId": "13c5dc69-8d80-419a-caf5-60df76178c51"
      },
      "execution_count": 166,
      "outputs": [
        {
          "output_type": "display_data",
          "data": {
            "text/plain": [
              "<Figure size 432x288 with 2 Axes>"
            ],
            "image/png": "[encoded data removed]"
          },
          "metadata": {
            "needs_background": "light"
          }
        }
      ]
    },
    {
      "cell_type": "markdown",
      "source": [
        "## Decoder"
      ],
      "metadata": {
        "id": "jaPLA1SN4umr"
      }
    },
    {
      "cell_type": "code",
      "source": [
        "class Decoder(tf.keras.layers.Layer):\n",
        "    @classmethod\n",
        "    def add_method(cls, fun):\n",
        "        setattr(cls, fun.__name__, fun)\n",
        "        return fun\n",
        "\n",
        "    def __init__(self, text_processor, units, GRU=True):\n",
        "        super(Decoder, self).__init__()\n",
        "        self.text_processor = text_processor\n",
        "        self.vocab_size = text_processor.vocabulary_size()\n",
        "        self.word_to_id = tf.keras.layers.StringLookup(\n",
        "            vocabulary=text_processor.get_vocabulary(),\n",
        "            mask_token='', oov_token='[UNK]')\n",
        "        self.id_to_word = tf.keras.layers.StringLookup(\n",
        "            vocabulary=text_processor.get_vocabulary(),\n",
        "            mask_token='', oov_token='[UNK]',\n",
        "            invert=True)\n",
        "        self.start_token = self.word_to_id('[START]')\n",
        "        self.end_token = self.word_to_id('[END]')\n",
        "\n",
        "        self.units = units\n",
        "\n",
        "\n",
        "        # 1. The embedding layer converts token IDs to vectors\n",
        "        self.embedding = tf.keras.layers.Embedding(self.vocab_size,\n",
        "                                                    units, mask_zero=True)\n",
        "\n",
        "        # 2. The RNN keeps track of what's been generated so far.\n",
        "        if not GRU:\n",
        "            self.rnn = (tf.keras.layers \\\n",
        "                        .SimpleRNN(units,\n",
        "                        # Return the sequence and state\n",
        "                        return_sequences=True,\n",
        "                        return_state=True,\n",
        "                        recurrent_initializer='glorot_uniform'))\n",
        "        else:\n",
        "            self.rnn = (tf.keras.layers \\\n",
        "                        .GRU(units,\n",
        "                        # Return the sequence and state\n",
        "                        return_sequences=True,\n",
        "                        return_state=True,\n",
        "                        recurrent_initializer='glorot_uniform'))\n",
        "\n",
        "        # 3. The RNN output will be the query for the attention layer.\n",
        "        self.attention = CrossAttention(units)\n",
        "\n",
        "        # 4. This fully connected layer produces the logits for each\n",
        "        # output token.\n",
        "        self.output_layer = tf.keras.layers.Dense(self.vocab_size)\n",
        "\n",
        "    def call(self,\n",
        "            context, x,\n",
        "            state=None,\n",
        "            return_state=False):  \n",
        "        shape_checker = ShapeChecker()\n",
        "        shape_checker(x, 'batch t')\n",
        "        shape_checker(context, 'batch s units')\n",
        "\n",
        "        # 1. Lookup the embeddings\n",
        "        x = self.embedding(x)\n",
        "        shape_checker(x, 'batch t units')\n",
        "\n",
        "        # 2. Process the target sequence.\n",
        "        x, state = self.rnn(x, initial_state=state)\n",
        "        shape_checker(x, 'batch t units')\n",
        "\n",
        "        # 3. Use the RNN output as the query for the attention over the context.\n",
        "        x = self.attention(x, context)\n",
        "        self.last_attention_weights = self.attention.last_attention_weights\n",
        "        shape_checker(x, 'batch t units')\n",
        "        shape_checker(self.last_attention_weights, 'batch t s')\n",
        "\n",
        "        # Step 4. Generate logit predictions for the next token.\n",
        "        logits = self.output_layer(x)\n",
        "        shape_checker(logits, 'batch t target_vocab_size')\n",
        "\n",
        "        if return_state:\n",
        "            return logits, state\n",
        "        else:\n",
        "            return logits\n",
        "\n",
        "decoder = Decoder(tit_text_processor, UNITS, GRU=True)\n",
        "logits = decoder(ex_context, ex_tar_in)\n",
        "\n",
        "decoder = Decoder(tit_text_processor, UNITS, GRU=False)\n",
        "logits = decoder(ex_context, ex_tar_in)"
      ],
      "metadata": {
        "id": "Jxkt0qRq4udT"
      },
      "execution_count": 170,
      "outputs": []
    },
    {
      "cell_type": "code",
      "source": [
        "@Decoder.add_method\n",
        "def get_initial_state(self, context):\n",
        "  batch_size = tf.shape(context)[0]\n",
        "  start_tokens = tf.fill([batch_size, 1], self.start_token)\n",
        "  done = tf.zeros([batch_size, 1], dtype=tf.bool)\n",
        "  embedded = self.embedding(start_tokens)\n",
        "  return start_tokens, done, self.rnn.get_initial_state(embedded)[0]"
      ],
      "metadata": {
        "id": "xO7aHEgD4uEV"
      },
      "execution_count": 171,
      "outputs": []
    },
    {
      "cell_type": "code",
      "source": [
        "@Decoder.add_method\n",
        "def tokens_to_text(self, tokens):\n",
        "  words = self.id_to_word(tokens)\n",
        "  result = tf.strings.reduce_join(words, axis=-1, separator=' ')\n",
        "  result = tf.strings.regex_replace(result, '^ *\\[START\\] *', '')\n",
        "  result = tf.strings.regex_replace(result, ' *\\[END\\] *$', '')\n",
        "  return result"
      ],
      "metadata": {
        "id": "ic1kW8jz7XIw"
      },
      "execution_count": 172,
      "outputs": []
    },
    {
      "cell_type": "code",
      "source": [
        "@Decoder.add_method\n",
        "def get_next_token(self, context, next_token, done, state, temperature = 0.0):\n",
        "  logits, state = self(\n",
        "    context, next_token,\n",
        "    state = state,\n",
        "    return_state=True) \n",
        "\n",
        "  if temperature == 0.0:\n",
        "    next_token = tf.argmax(logits, axis=-1)\n",
        "  else:\n",
        "    logits = logits[:, -1, :]/temperature\n",
        "    next_token = tf.random.categorical(logits, num_samples=1)\n",
        "\n",
        "  # If a sequence produces an `end_token`, set it `done`\n",
        "  done = done | (next_token == self.end_token)\n",
        "  # Once a sequence is done it only produces 0-padding.\n",
        "  next_token = tf.where(done, tf.constant(0, dtype=tf.int64), next_token)\n",
        "\n",
        "  return next_token, done, state"
      ],
      "metadata": {
        "id": "ounfpwz07bek"
      },
      "execution_count": 173,
      "outputs": []
    },
    {
      "cell_type": "code",
      "source": [
        "# Setup the loop variables.\n",
        "next_token, done, state = decoder.get_initial_state(ex_context)\n",
        "tokens = []\n",
        "\n",
        "for n in range(10):\n",
        "  # Run one step.\n",
        "  next_token, done, state = decoder.get_next_token(\n",
        "      ex_context, next_token, done, state, temperature=1.0)\n",
        "  # Add the token to the output.\n",
        "  tokens.append(next_token)\n",
        "\n",
        "# Stack all the tokens together.\n",
        "tokens = tf.concat(tokens, axis=-1) # (batch, t)\n",
        "\n",
        "# Convert the tokens back to a a string\n",
        "result = decoder.tokens_to_text(tokens)\n",
        "result[:3].numpy()"
      ],
      "metadata": {
        "colab": {
          "base_uri": "https://localhost:8080/"
        },
        "id": "pNKtjr1s79CL",
        "outputId": "b64b75dd-5602-499e-9678-1dca8dc42f7d"
      },
      "execution_count": 174,
      "outputs": [
        {
          "output_type": "execute_result",
          "data": {
            "text/plain": [
              "array([b'interpreter jose erin donghui misu melnicka extension agenda-driven lookup michel',\n",
              "       b'english-manipuri mishra type ipn hyponymy ets torsten eliminating eiichiro explanation',\n",
              "       b'levy third-order felice cepstral question-answer maite coarse-to-fine articles sampo historical'],\n",
              "      dtype=object)"
            ]
          },
          "metadata": {},
          "execution_count": 174
        }
      ]
    },
    {
      "cell_type": "markdown",
      "source": [
        "## Summarisation Model (_Translator_)"
      ],
      "metadata": {
        "id": "VKEpGkok8d64"
      }
    },
    {
      "cell_type": "code",
      "source": [
        "class Translator(tf.keras.Model):\n",
        "  @classmethod\n",
        "  def add_method(cls, fun):\n",
        "    setattr(cls, fun.__name__, fun)\n",
        "    return fun\n",
        "\n",
        "  def __init__(self, units,\n",
        "               context_text_processor,\n",
        "               target_text_processor,\n",
        "               GRU=True):\n",
        "    super().__init__()\n",
        "    # Build the encoder and decoder\n",
        "    # GRU False will result in SimpleRNN instead of GRU\n",
        "    self.encoder = Encoder(context_text_processor, units, GRU=GRU)\n",
        "    self.decoder = Decoder(target_text_processor, units, GRU=GRU)\n",
        "\n",
        "  def call(self, inputs):\n",
        "    context, x = inputs\n",
        "    context = self.encoder(context)\n",
        "    logits = self.decoder(context, x)\n",
        "\n",
        "    #TODO(b/250038731): remove this\n",
        "    try:\n",
        "      # Delete the keras mask, so keras doesn't scale the loss+accuracy. \n",
        "      del logits._keras_mask\n",
        "    except AttributeError:\n",
        "      pass\n",
        "\n",
        "    return logits"
      ],
      "metadata": {
        "id": "nKUdRvJe8pQ0"
      },
      "execution_count": 175,
      "outputs": []
    },
    {
      "cell_type": "code",
      "source": [
        "UNITS = 256\n",
        "model = Translator(UNITS, abs_text_processor, tit_text_processor, GRU=True)\n",
        "\n",
        "logits = model((ex_context_tok, ex_tar_in))\n",
        "\n",
        "print(f'Context tokens, shape: (batch, s, units) {ex_context_tok.shape}')\n",
        "print(f'Target tokens, shape: (batch, t) {ex_tar_in.shape}')\n",
        "print(f'logits, shape: (batch, t, target_vocabulary_size) {logits.shape}')"
      ],
      "metadata": {
        "colab": {
          "base_uri": "https://localhost:8080/"
        },
        "id": "_QyIckQw8dyc",
        "outputId": "5788cf69-67b7-47a8-d302-f18b78294527"
      },
      "execution_count": 178,
      "outputs": [
        {
          "output_type": "stream",
          "name": "stdout",
          "text": [
            "Context tokens, shape: (batch, s, units) (64, 230)\n",
            "Target tokens, shape: (batch, t) (64, 20)\n",
            "logits, shape: (batch, t, target_vocabulary_size) (64, 20, 10479)\n"
          ]
        }
      ]
    },
    {
      "cell_type": "markdown",
      "source": [
        "## Training"
      ],
      "metadata": {
        "id": "nKhrOnoQA6Zv"
      }
    },
    {
      "cell_type": "code",
      "source": [
        "def masked_loss(label, pred):\n",
        "    mask = label != 0\n",
        "    loss_object = tf.keras.losses.SparseCategoricalCrossentropy(\n",
        "    from_logits=True, reduction='none')\n",
        "    loss = loss_object(label, pred)\n",
        "\n",
        "    mask = tf.cast(mask, dtype=loss.dtype)\n",
        "    loss *= mask\n",
        "\n",
        "    loss = tf.reduce_sum(loss)/tf.reduce_sum(mask)\n",
        "    return loss\n",
        "\n",
        "\n",
        "def masked_accuracy(label, pred):\n",
        "    pred = tf.argmax(pred, axis=2)\n",
        "    label = tf.cast(label, pred.dtype)\n",
        "    match = label == pred\n",
        "\n",
        "    mask = label != 0\n",
        "\n",
        "    match = match & mask\n",
        "\n",
        "    match = tf.cast(match, dtype=tf.float32)\n",
        "    mask = tf.cast(mask, dtype=tf.float32)\n",
        "    return tf.reduce_sum(match)/tf.reduce_sum(mask)"
      ],
      "metadata": {
        "id": "BwCyrig38dpY"
      },
      "execution_count": 150,
      "outputs": []
    },
    {
      "cell_type": "markdown",
      "source": [
        "### GRU"
      ],
      "metadata": {
        "id": "n7gVsh8LB1Kk"
      }
    },
    {
      "cell_type": "code",
      "source": [
        "UNITS = 256\n",
        "modelGRU = Translator(UNITS, abs_text_processor, tit_text_processor, GRU=True)\n",
        "\n",
        "logits = modelGRU((ex_context_tok, ex_tar_in))\n",
        "\n",
        "print(f'Context tokens, shape: (batch, s, units) {ex_context_tok.shape}')\n",
        "print(f'Target tokens, shape: (batch, t) {ex_tar_in.shape}')\n",
        "print(f'logits, shape: (batch, t, target_vocabulary_size) {logits.shape}')"
      ],
      "metadata": {
        "colab": {
          "base_uri": "https://localhost:8080/"
        },
        "id": "p7gyLxT-BDvh",
        "outputId": "d75ceffa-e83f-40fd-b76c-faded3af6a46"
      },
      "execution_count": 184,
      "outputs": [
        {
          "output_type": "stream",
          "name": "stdout",
          "text": [
            "Context tokens, shape: (batch, s, units) (64, 230)\n",
            "Target tokens, shape: (batch, t) (64, 20)\n",
            "logits, shape: (batch, t, target_vocabulary_size) (64, 20, 10479)\n"
          ]
        }
      ]
    },
    {
      "cell_type": "code",
      "source": [
        "modelGRU.compile(\n",
        "    loss=masked_loss,\n",
        "    optimizer='Adam',\n",
        "    metrics=[masked_accuracy])"
      ],
      "metadata": {
        "id": "KPyAyK-MBFUU"
      },
      "execution_count": 185,
      "outputs": []
    },
    {
      "cell_type": "code",
      "source": [
        "with tf.device('/device:GPU:0'):\n",
        "    historyGRU = modelGRU.fit(train_ds,\n",
        "                            epochs=30,\n",
        "                            validation_data=val_ds,\n",
        "                            callbacks=tf.keras.callbacks.EarlyStopping(\n",
        "                                monitor='val_loss',\n",
        "                                patience=3))"
      ],
      "metadata": {
        "colab": {
          "base_uri": "https://localhost:8080/"
        },
        "id": "g7Pl-7XW8c0u",
        "outputId": "e512f0c6-9bcf-4f7d-c6d0-cb82b11c7149"
      },
      "execution_count": 186,
      "outputs": [
        {
          "output_type": "stream",
          "name": "stdout",
          "text": [
            "Epoch 1/30\n",
            "136/136 [==============================] - 21s 98ms/step - loss: 6.6543 - masked_accuracy: 0.1305 - val_loss: 5.9750 - val_masked_accuracy: 0.1810\n",
            "Epoch 2/30\n",
            "136/136 [==============================] - 11s 80ms/step - loss: 5.3966 - masked_accuracy: 0.2119 - val_loss: 5.5962 - val_masked_accuracy: 0.2249\n",
            "Epoch 3/30\n",
            "136/136 [==============================] - 10s 73ms/step - loss: 4.6421 - masked_accuracy: 0.2669 - val_loss: 5.5946 - val_masked_accuracy: 0.2387\n",
            "Epoch 4/30\n",
            "136/136 [==============================] - 10s 72ms/step - loss: 4.0081 - masked_accuracy: 0.3250 - val_loss: 5.6889 - val_masked_accuracy: 0.2398\n",
            "Epoch 5/30\n",
            "136/136 [==============================] - 10s 72ms/step - loss: 3.4408 - masked_accuracy: 0.3804 - val_loss: 5.8606 - val_masked_accuracy: 0.2448\n",
            "Epoch 6/30\n",
            "136/136 [==============================] - 10s 70ms/step - loss: 2.9454 - masked_accuracy: 0.4396 - val_loss: 6.0886 - val_masked_accuracy: 0.2382\n"
          ]
        }
      ]
    },
    {
      "cell_type": "code",
      "source": [
        "# https://machinelearningmastery.com/display-deep-learning-model-training-history-in-keras/\n",
        "# summarize history for accuracy\n",
        "plt.plot(historyGRU.history['masked_accuracy'])\n",
        "plt.plot(historyGRU.history['val_masked_accuracy'])\n",
        "plt.title('model accuracy - GRU')\n",
        "plt.ylabel('accuracy')\n",
        "plt.xlabel('epoch')\n",
        "plt.legend(['train', 'test'], loc='upper left')\n",
        "plt.show()\n",
        "# summarize history for loss\n",
        "plt.plot(historyGRU.history['loss'])\n",
        "plt.plot(historyGRU.history['val_loss'])\n",
        "plt.title('model loss - GRU')\n",
        "plt.ylabel('loss')\n",
        "plt.xlabel('epoch')\n",
        "plt.legend(['train', 'test'], loc='upper left')\n",
        "plt.show()"
      ],
      "metadata": {
        "colab": {
          "base_uri": "https://localhost:8080/",
          "height": 573
        },
        "id": "aamm8xg6BtIe",
        "outputId": "381a98ec-cbc9-4394-fe24-b4a306014594"
      },
      "execution_count": 187,
      "outputs": [
        {
          "output_type": "display_data",
          "data": {
            "text/plain": [
              "<Figure size 432x288 with 1 Axes>"
            ],
            "image/png": "[encoded data removed]"
          },
          "metadata": {
            "needs_background": "light"
          }
        },
        {
          "output_type": "display_data",
          "data": {
            "text/plain": [
              "<Figure size 432x288 with 1 Axes>"
            ],
            "image/png": "[encoded data removed]"
          },
          "metadata": {
            "needs_background": "light"
          }
        }
      ]
    },
    {
      "cell_type": "code",
      "source": [
        "modelGRU.summary()"
      ],
      "metadata": {
        "colab": {
          "base_uri": "https://localhost:8080/"
        },
        "id": "wz5nqxvVCBQU",
        "outputId": "9b3289e5-f6ea-4889-819b-14a634a6c750"
      },
      "execution_count": 188,
      "outputs": [
        {
          "output_type": "stream",
          "name": "stdout",
          "text": [
            "Model: \"translator_6\"\n",
            "_________________________________________________________________\n",
            " Layer (type)                Output Shape              Param #   \n",
            "=================================================================\n",
            " encoder_11 (Encoder)        multiple                  7403520   \n",
            "                                                                 \n",
            " decoder_13 (Decoder)        multiple                  6034159   \n",
            "                                                                 \n",
            "=================================================================\n",
            "Total params: 13,437,679\n",
            "Trainable params: 13,437,679\n",
            "Non-trainable params: 0\n",
            "_________________________________________________________________\n"
          ]
        }
      ]
    },
    {
      "cell_type": "markdown",
      "source": [
        "### SimpleRNN"
      ],
      "metadata": {
        "id": "vhx3pFgRBs7C"
      }
    },
    {
      "cell_type": "code",
      "source": [
        "UNITS = 256\n",
        "modelRNN = Translator(UNITS, abs_text_processor, tit_text_processor, GRU=False)\n",
        "\n",
        "logits = modelRNN((ex_context_tok, ex_tar_in))\n",
        "\n",
        "print(f'Context tokens, shape: (batch, s, units) {ex_context_tok.shape}')\n",
        "print(f'Target tokens, shape: (batch, t) {ex_tar_in.shape}')\n",
        "print(f'logits, shape: (batch, t, target_vocabulary_size) {logits.shape}')"
      ],
      "metadata": {
        "colab": {
          "base_uri": "https://localhost:8080/"
        },
        "id": "pD68sTyHBsuY",
        "outputId": "8cfc332c-11ba-458b-ced2-17cc0bc6885b"
      },
      "execution_count": 189,
      "outputs": [
        {
          "output_type": "stream",
          "name": "stdout",
          "text": [
            "Context tokens, shape: (batch, s, units) (64, 230)\n",
            "Target tokens, shape: (batch, t) (64, 20)\n",
            "logits, shape: (batch, t, target_vocabulary_size) (64, 20, 10479)\n"
          ]
        }
      ]
    },
    {
      "cell_type": "code",
      "source": [
        "modelRNN.compile(\n",
        "    loss=masked_loss,\n",
        "    optimizer='Adam',\n",
        "    metrics=[masked_accuracy])"
      ],
      "metadata": {
        "id": "E5rwKziDBsi_"
      },
      "execution_count": 190,
      "outputs": []
    },
    {
      "cell_type": "code",
      "source": [
        "with tf.device('/device:GPU:0'):\n",
        "    historyRNN = modelRNN.fit(train_ds,\n",
        "                            epochs=30,\n",
        "                            validation_data=val_ds,\n",
        "                            callbacks=tf.keras.callbacks.EarlyStopping(\n",
        "                                monitor='val_loss',\n",
        "                                patience=3))"
      ],
      "metadata": {
        "colab": {
          "base_uri": "https://localhost:8080/"
        },
        "id": "TuBAuyERCJ0m",
        "outputId": "5a68f627-5db4-4c8a-b523-0d68d0a1797b"
      },
      "execution_count": 191,
      "outputs": [
        {
          "output_type": "stream",
          "name": "stdout",
          "text": [
            "Epoch 1/30\n",
            "136/136 [==============================] - 63s 446ms/step - loss: 6.8039 - masked_accuracy: 0.1172 - val_loss: 6.3806 - val_masked_accuracy: 0.1447\n",
            "Epoch 2/30\n",
            "136/136 [==============================] - 56s 412ms/step - loss: 5.8379 - masked_accuracy: 0.1632 - val_loss: 6.0191 - val_masked_accuracy: 0.1865\n",
            "Epoch 3/30\n",
            "136/136 [==============================] - 59s 434ms/step - loss: 5.2718 - masked_accuracy: 0.2064 - val_loss: 5.8721 - val_masked_accuracy: 0.2041\n",
            "Epoch 4/30\n",
            "136/136 [==============================] - 57s 420ms/step - loss: 4.6796 - masked_accuracy: 0.2492 - val_loss: 5.8611 - val_masked_accuracy: 0.2209\n",
            "Epoch 5/30\n",
            "136/136 [==============================] - 59s 435ms/step - loss: 4.0644 - masked_accuracy: 0.3090 - val_loss: 5.9902 - val_masked_accuracy: 0.2179\n",
            "Epoch 6/30\n",
            "136/136 [==============================] - 56s 409ms/step - loss: 3.5000 - masked_accuracy: 0.3869 - val_loss: 6.1308 - val_masked_accuracy: 0.2076\n",
            "Epoch 7/30\n",
            "136/136 [==============================] - 57s 416ms/step - loss: 2.9004 - masked_accuracy: 0.4738 - val_loss: 6.3591 - val_masked_accuracy: 0.2059\n"
          ]
        }
      ]
    },
    {
      "cell_type": "code",
      "source": [
        "# https://machinelearningmastery.com/display-deep-learning-model-training-history-in-keras/\n",
        "# summarize history for accuracy\n",
        "plt.plot(historyRNN.history['masked_accuracy'])\n",
        "plt.plot(historyRNN.history['val_masked_accuracy'])\n",
        "plt.title('model accuracy - RNN')\n",
        "plt.ylabel('accuracy')\n",
        "plt.xlabel('epoch')\n",
        "plt.legend(['train', 'test'], loc='upper left')\n",
        "plt.show()\n",
        "# summarize history for loss\n",
        "plt.plot(historyRNN.history['loss'])\n",
        "plt.plot(historyRNN.history['val_loss'])\n",
        "plt.title('model loss - RNN')\n",
        "plt.ylabel('loss')\n",
        "plt.xlabel('epoch')\n",
        "plt.legend(['train', 'test'], loc='upper left')\n",
        "plt.show()"
      ],
      "metadata": {
        "colab": {
          "base_uri": "https://localhost:8080/",
          "height": 573
        },
        "id": "vBz5YdNRCPUp",
        "outputId": "968b2c22-6277-4823-f57d-cb4b6dc60ab3"
      },
      "execution_count": 192,
      "outputs": [
        {
          "output_type": "display_data",
          "data": {
            "text/plain": [
              "<Figure size 432x288 with 1 Axes>"
            ],
            "image/png": "[encoded data removed]"
          },
          "metadata": {
            "needs_background": "light"
          }
        },
        {
          "output_type": "display_data",
          "data": {
            "text/plain": [
              "<Figure size 432x288 with 1 Axes>"
            ],
            "image/png": "[encoded data removed]"
          },
          "metadata": {
            "needs_background": "light"
          }
        }
      ]
    },
    {
      "cell_type": "code",
      "source": [
        "modelRNN.summary()"
      ],
      "metadata": {
        "colab": {
          "base_uri": "https://localhost:8080/"
        },
        "id": "D_QUoKAnCPcM",
        "outputId": "da8545ad-268d-4bd5-fae8-df1c55390e49"
      },
      "execution_count": 193,
      "outputs": [
        {
          "output_type": "stream",
          "name": "stdout",
          "text": [
            "Model: \"translator_7\"\n",
            "_________________________________________________________________\n",
            " Layer (type)                Output Shape              Param #   \n",
            "=================================================================\n",
            " encoder_12 (Encoder)        multiple                  7140096   \n",
            "                                                                 \n",
            " decoder_14 (Decoder)        multiple                  5770735   \n",
            "                                                                 \n",
            "=================================================================\n",
            "Total params: 12,910,831\n",
            "Trainable params: 12,910,831\n",
            "Non-trainable params: 0\n",
            "_________________________________________________________________\n"
          ]
        }
      ]
    }
  ],
  "metadata": {
    "colab": {
      "provenance": [],
      "include_colab_link": true
    },
    "kernelspec": {
      "display_name": "Python 3",
      "name": "python3"
    },
    "accelerator": "GPU",
    "gpuClass": "standard"
  },
  "nbformat": 4,
  "nbformat_minor": 0
}